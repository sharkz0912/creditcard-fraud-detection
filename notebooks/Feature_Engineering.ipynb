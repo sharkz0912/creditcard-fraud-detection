{
 "cells": [
  {
   "cell_type": "markdown",
   "id": "06f7b4ee",
   "metadata": {},
   "source": [
    "# Import Libraries"
   ]
  },
  {
   "cell_type": "code",
   "execution_count": 4,
   "id": "e84ba764",
   "metadata": {},
   "outputs": [],
   "source": [
    "import os\n",
    "import joblib\n",
    "import numpy as np\n",
    "import pandas as pd\n",
    "from sklearn.preprocessing import StandardScaler\n",
    "from sklearn.model_selection import train_test_split"
   ]
  },
  {
   "cell_type": "markdown",
   "id": "5038e236",
   "metadata": {},
   "source": [
    "# Load Dataset"
   ]
  },
  {
   "cell_type": "code",
   "execution_count": 5,
   "id": "e47cbae7",
   "metadata": {},
   "outputs": [],
   "source": [
    "df = pd.read_csv(\"../data/creditcard.csv\")"
   ]
  },
  {
   "cell_type": "markdown",
   "id": "1a5a5197",
   "metadata": {},
   "source": [
    "# Feature Engineering"
   ]
  },
  {
   "cell_type": "code",
   "execution_count": 6,
   "id": "7ecf69a8",
   "metadata": {},
   "outputs": [
    {
     "name": "stdout",
     "output_type": "stream",
     "text": [
      "fraud rate in full data: 0.001727485630620034\n",
      "fraud rate in train data: 0.001729245759178389\n",
      "fraud rate in test data: 0.0017204452090867595\n"
     ]
    }
   ],
   "source": [
    "# Create Hour Feature from Time (s)\n",
    "df[\"Hour\"] = df[\"Time\"] // 3600\n",
    "df[\"Hour\"] = df[\"Hour\"].astype(int)\n",
    "\n",
    "# Log Transform Amount\n",
    "df[\"LogAmout\"] = np.log1p(df[\"Amount\"])\n",
    "\n",
    "# Drop Raw Features\n",
    "df = df.drop(columns = [\"Time\", \"Amount\"])\n",
    "\n",
    "# Define Features and Target\n",
    "Y = df[\"Class\"]\n",
    "X = df.drop(columns = [\"Class\"])\n",
    "\n",
    "# Stratfied Train-Test Split\n",
    "X_train, X_test, Y_train, Y_test, = train_test_split(X, Y, test_size=0.2, stratify=Y, random_state=42)\n",
    "\n",
    "# Confirm Split\n",
    "print(f\"fraud rate in full data:\", Y.mean())\n",
    "print(f\"fraud rate in train data:\", Y_train.mean())\n",
    "print(f\"fraud rate in test data:\", Y_test.mean())\n",
    "\n",
    "# Scale Features\n",
    "scaler = StandardScaler()\n",
    "X_train_scaled = scaler.fit_transform(X_train)\n",
    "X_test_scaled = scaler.transform(X_test)"
   ]
  },
  {
   "cell_type": "markdown",
   "id": "280f7beb",
   "metadata": {},
   "source": [
    "# Save Scaled and Unscaled Datasets"
   ]
  },
  {
   "cell_type": "code",
   "execution_count": 9,
   "id": "eca5a90e",
   "metadata": {},
   "outputs": [
    {
     "data": {
      "text/plain": [
       "['../data/processed/scaler.pkl']"
      ]
     },
     "execution_count": 9,
     "metadata": {},
     "output_type": "execute_result"
    }
   ],
   "source": [
    "os.makedirs(\"../data/processed\", exist_ok=True)\n",
    "joblib.dump((X_train, X_test, Y_train, Y_test), \"../data/processed/split_data.pkl\")\n",
    "joblib.dump((X_train_scaled, X_test_scaled, Y_train, Y_test), \"../data/processed/split_scaled_data.pkl\")\n",
    "joblib.dump(scaler, \"../data/processed/scaler.pkl\")"
   ]
  }
 ],
 "metadata": {
  "kernelspec": {
   "display_name": "Python 3",
   "language": "python",
   "name": "python3"
  },
  "language_info": {
   "codemirror_mode": {
    "name": "ipython",
    "version": 3
   },
   "file_extension": ".py",
   "mimetype": "text/x-python",
   "name": "python",
   "nbconvert_exporter": "python",
   "pygments_lexer": "ipython3",
   "version": "3.12.6"
  }
 },
 "nbformat": 4,
 "nbformat_minor": 5
}
