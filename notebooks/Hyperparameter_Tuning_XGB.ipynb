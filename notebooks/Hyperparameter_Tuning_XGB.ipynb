{
 "cells": [
  {
   "cell_type": "markdown",
   "id": "482acd04",
   "metadata": {},
   "source": [
    "# Import Libraries"
   ]
  },
  {
   "cell_type": "code",
   "execution_count": 1,
   "id": "45c26987",
   "metadata": {},
   "outputs": [],
   "source": [
    "import os\n",
    "import optuna\n",
    "import pickle\n",
    "import mlflow\n",
    "import joblib\n",
    "import numpy as np\n",
    "import mlflow.sklearn\n",
    "import xgboost as xgb\n",
    "import seaborn as sns\n",
    "import matplotlib.pyplot as plt\n",
    "from mlflow.tracking import MlflowClient\n",
    "from imblearn.over_sampling import SMOTE\n",
    "from optuna.integration.mlflow import MLflowCallback\n",
    "from sklearn.model_selection import train_test_split, StratifiedKFold\n",
    "from sklearn.metrics import classification_report, confusion_matrix, roc_auc_score, average_precision_score, f1_score, recall_score, precision_score"
   ]
  },
  {
   "cell_type": "markdown",
   "id": "0841fa57",
   "metadata": {},
   "source": [
    "# Load Data"
   ]
  },
  {
   "cell_type": "code",
   "execution_count": 2,
   "id": "40915b2f",
   "metadata": {},
   "outputs": [],
   "source": [
    "X_train, X_test, Y_train, Y_test = joblib.load(\"../data/processed/split_data.pkl\")"
   ]
  },
  {
   "cell_type": "markdown",
   "id": "93d1611f",
   "metadata": {},
   "source": [
    "# Create New MLflow Experiment"
   ]
  },
  {
   "cell_type": "code",
   "execution_count": 3,
   "id": "2261fc68",
   "metadata": {},
   "outputs": [
    {
     "name": "stderr",
     "output_type": "stream",
     "text": [
      "C:\\Users\\raira\\AppData\\Local\\Temp\\ipykernel_37024\\647200254.py:3: ExperimentalWarning: MLflowCallback is experimental (supported from v1.4.0). The interface can change in the future.\n",
      "  mlflc = MLflowCallback(\n",
      "[I 2025-05-27 16:51:51,018] A new study created in RDB with name: XGB Profit Tuning\n"
     ]
    }
   ],
   "source": [
    "mlruns_path = os.path.abspath(\"../mlruns\")\n",
    "mlflow.set_tracking_uri(f\"file:..///{mlruns_path}\")\n",
    "mlflc = MLflowCallback(\n",
    "    tracking_uri=mlflow.get_tracking_uri(),\n",
    "    metric_name=\"profit\"\n",
    ")\n",
    "\n",
    "study = optuna.create_study(\n",
    "    study_name=\"XGB Profit Tuning\",\n",
    "    direction=\"maximize\",\n",
    "    sampler=optuna.samplers.TPESampler(seed=42),\n",
    "    storage=\"sqlite:///../mlruns/xgb_profit_tuning.db\",\n",
    "    load_if_exists=True\n",
    ")"
   ]
  },
  {
   "cell_type": "markdown",
   "id": "b23da49e",
   "metadata": {},
   "source": [
    "# Hyperparameter Tuning XGBoost Model (Bayesian Search)"
   ]
  },
  {
   "cell_type": "code",
   "execution_count": 4,
   "id": "c5c9524e",
   "metadata": {},
   "outputs": [
    {
     "data": {
      "application/vnd.jupyter.widget-view+json": {
       "model_id": "7ff34cfb3a7f4b6db085f6661c8e4e35",
       "version_major": 2,
       "version_minor": 0
      },
      "text/plain": [
       "  0%|          | 0/50 [00:00<?, ?it/s]"
      ]
     },
     "metadata": {},
     "output_type": "display_data"
    },
    {
     "name": "stderr",
     "output_type": "stream",
     "text": [
      "2025/05/27 16:54:41 INFO mlflow.tracking.fluent: Experiment with name 'XGB Profit Tuning' does not exist. Creating a new experiment.\n"
     ]
    },
    {
     "name": "stdout",
     "output_type": "stream",
     "text": [
      "[I 2025-05-27 16:54:41,159] Trial 0 finished with value: -259.59999999999985 and parameters: {'n_estimators': 712, 'learning_rate': 0.17254716573280354, 'max_depth': 7, 'min_child_weight': 1.0401663679887312, 'gamma': 0.06240745617697461, 'subsample': 0.7467983561008608, 'colsample_bytree': 0.6232334448672797, 'scale_pos_weight': 35.31616510212273, 'max_delta_step': 6}. Best is trial 0 with value: -259.59999999999985.\n",
      "[I 2025-05-27 16:55:28,005] Trial 1 finished with value: -279.3999999999999 and parameters: {'n_estimators': 813, 'learning_rate': 0.010636066512540286, 'max_depth': 8, 'min_child_weight': 2.595942550311263, 'gamma': 0.08493564427131046, 'subsample': 0.7545474901621302, 'colsample_bytree': 0.6733618039413735, 'scale_pos_weight': 15.64847850358382, 'max_delta_step': 5}. Best is trial 0 with value: -259.59999999999985.\n",
      "[I 2025-05-27 16:56:11,186] Trial 2 finished with value: -325.79999999999995 and parameters: {'n_estimators': 730, 'learning_rate': 0.023927528765580644, 'max_depth': 7, 'min_child_weight': 0.17258215396625, 'gamma': 0.11685785941408727, 'subsample': 0.8099085529881075, 'colsample_bytree': 0.7824279936868144, 'scale_pos_weight': 32.481158648755475, 'max_delta_step': 2}. Best is trial 0 with value: -259.59999999999985.\n",
      "[I 2025-05-27 16:56:46,800] Trial 3 finished with value: -279.3999999999999 and parameters: {'n_estimators': 754, 'learning_rate': 0.05898602410432694, 'max_depth': 4, 'min_child_weight': 1.0769622478263126, 'gamma': 0.06820964947491662, 'subsample': 0.7195154778955838, 'colsample_bytree': 0.9795542149013333, 'scale_pos_weight': 38.79712115760958, 'max_delta_step': 8}. Best is trial 0 with value: -259.59999999999985.\n",
      "[I 2025-05-27 16:57:27,248] Trial 4 finished with value: -244.79999999999987 and parameters: {'n_estimators': 691, 'learning_rate': 0.013399060561509796, 'max_depth': 7, 'min_child_weight': 0.5595074635794796, 'gamma': 0.048815293937911536, 'subsample': 0.848553073033381, 'colsample_bytree': 0.6137554084460873, 'scale_pos_weight': 36.826214072757374, 'max_delta_step': 2}. Best is trial 4 with value: -244.79999999999987.\n",
      "[I 2025-05-27 16:58:16,000] Trial 5 finished with value: -310.9999999999999 and parameters: {'n_estimators': 799, 'learning_rate': 0.02544166090938368, 'max_depth': 6, 'min_child_weight': 0.8488762161408708, 'gamma': 0.07394178221021082, 'subsample': 0.9908753883293675, 'colsample_bytree': 0.9100531293444458, 'scale_pos_weight': 37.88246295474662, 'max_delta_step': 9}. Best is trial 4 with value: -244.79999999999987.\n",
      "[I 2025-05-27 16:58:52,010] Trial 6 finished with value: -294.19999999999993 and parameters: {'n_estimators': 779, 'learning_rate': 0.15826541904647565, 'max_depth': 4, 'min_child_weight': 0.21526280972215273, 'gamma': 0.018090915564215226, 'subsample': 0.7975990992289793, 'colsample_bytree': 0.7554709158757928, 'scale_pos_weight': 14.497216112086356, 'max_delta_step': 9}. Best is trial 4 with value: -244.79999999999987.\n",
      "[I 2025-05-27 16:59:38,564] Trial 7 finished with value: -278.3999999999999 and parameters: {'n_estimators': 707, 'learning_rate': 0.023200867504756827, 'max_depth': 6, 'min_child_weight': 0.17355056469855074, 'gamma': 0.32087879230161587, 'subsample': 0.7223651931039312, 'colsample_bytree': 0.9947547746402069, 'scale_pos_weight': 32.02856692538301, 'max_delta_step': 2}. Best is trial 4 with value: -244.79999999999987.\n",
      "[I 2025-05-27 17:00:04,118] Trial 8 finished with value: -325.7999999999999 and parameters: {'n_estimators': 601, 'learning_rate': 0.11506408247250169, 'max_depth': 7, 'min_child_weight': 1.7320535358459541, 'gamma': 0.3085081386743783, 'subsample': 0.7222133955202271, 'colsample_bytree': 0.7433862914177091, 'scale_pos_weight': 9.05541708337954, 'max_delta_step': 9}. Best is trial 4 with value: -244.79999999999987.\n",
      "[I 2025-05-27 17:00:39,338] Trial 9 finished with value: -264.59999999999985 and parameters: {'n_estimators': 787, 'learning_rate': 0.026946865572417687, 'max_depth': 4, 'min_child_weight': 0.3375589571206083, 'gamma': 0.13007332881069883, 'subsample': 0.9188818535014192, 'colsample_bytree': 0.8550229885420852, 'scale_pos_weight': 36.05244599017143, 'max_delta_step': 5}. Best is trial 4 with value: -244.79999999999987.\n",
      "[I 2025-05-27 17:01:32,511] Trial 10 finished with value: -343.5999999999999 and parameters: {'n_estimators': 884, 'learning_rate': 0.010181283131439633, 'max_depth': 8, 'min_child_weight': 0.4386603153334467, 'gamma': 0.21447543547910383, 'subsample': 0.8822140877344373, 'colsample_bytree': 0.6060507263653538, 'scale_pos_weight': 26.474677682642564, 'max_delta_step': 0}. Best is trial 4 with value: -244.79999999999987.\n",
      "[I 2025-05-27 17:01:59,229] Trial 11 finished with value: -343.6 and parameters: {'n_estimators': 665, 'learning_rate': 0.06576314691863702, 'max_depth': 7, 'min_child_weight': 0.582658675711409, 'gamma': 0.1898925643930462, 'subsample': 0.8418142019973845, 'colsample_bytree': 0.6046928628827648, 'scale_pos_weight': 26.251449591162896, 'max_delta_step': 6}. Best is trial 4 with value: -244.79999999999987.\n",
      "[I 2025-05-27 17:02:29,165] Trial 12 finished with value: -278.3999999999999 and parameters: {'n_estimators': 666, 'learning_rate': 0.0964724775767875, 'max_depth': 6, 'min_child_weight': 4.91578870796274, 'gamma': 0.010947079881574173, 'subsample': 0.9311699380601028, 'colsample_bytree': 0.6833121064435295, 'scale_pos_weight': 30.548028565020335, 'max_delta_step': 3}. Best is trial 4 with value: -244.79999999999987.\n",
      "[I 2025-05-27 17:02:52,448] Trial 13 finished with value: -311.0 and parameters: {'n_estimators': 672, 'learning_rate': 0.1893571899699074, 'max_depth': 5, 'min_child_weight': 1.1234673928235268, 'gamma': 0.16676984333100026, 'subsample': 0.7866631935833808, 'colsample_bytree': 0.6783676929682204, 'scale_pos_weight': 20.189939012203364, 'max_delta_step': 7}. Best is trial 4 with value: -244.79999999999987.\n",
      "[I 2025-05-27 17:03:22,001] Trial 14 finished with value: -311.9999999999999 and parameters: {'n_estimators': 603, 'learning_rate': 0.043220193635896985, 'max_depth': 7, 'min_child_weight': 0.1056049803337925, 'gamma': 0.25243373741558617, 'subsample': 0.8593372091054381, 'colsample_bytree': 0.6394422928464841, 'scale_pos_weight': 39.753629255337415, 'max_delta_step': 4}. Best is trial 4 with value: -244.79999999999987.\n",
      "[I 2025-05-27 17:04:07,061] Trial 15 finished with value: -244.79999999999995 and parameters: {'n_estimators': 709, 'learning_rate': 0.015123755992440441, 'max_depth': 8, 'min_child_weight': 1.800086569735479, 'gamma': 0.004880525208538468, 'subsample': 0.7683977018798643, 'colsample_bytree': 0.7156271065739876, 'scale_pos_weight': 27.186313970589545, 'max_delta_step': 0}. Best is trial 4 with value: -244.79999999999987.\n",
      "[I 2025-05-27 17:04:56,489] Trial 16 finished with value: -278.4 and parameters: {'n_estimators': 643, 'learning_rate': 0.015384671546585056, 'max_depth': 8, 'min_child_weight': 2.2779425336645787, 'gamma': 0.0011779019870080008, 'subsample': 0.8424040701179152, 'colsample_bytree': 0.7238803118866864, 'scale_pos_weight': 25.364236126015605, 'max_delta_step': 0}. Best is trial 4 with value: -244.79999999999987.\n",
      "[I 2025-05-27 17:05:51,578] Trial 17 finished with value: -286.3999999999999 and parameters: {'n_estimators': 843, 'learning_rate': 0.014281475351800396, 'max_depth': 8, 'min_child_weight': 4.100536013443725, 'gamma': 0.12883177440299848, 'subsample': 0.7701626284231518, 'colsample_bytree': 0.8467677663406261, 'scale_pos_weight': 21.849637897104202, 'max_delta_step': 1}. Best is trial 4 with value: -244.79999999999987.\n",
      "[I 2025-05-27 17:06:37,917] Trial 18 finished with value: -278.3999999999999 and parameters: {'n_estimators': 690, 'learning_rate': 0.015410501180994867, 'max_depth': 8, 'min_child_weight': 1.6440597207771477, 'gamma': 0.03714588398310181, 'subsample': 0.8968131503264609, 'colsample_bytree': 0.7032058382935239, 'scale_pos_weight': 29.65165063676354, 'max_delta_step': 2}. Best is trial 4 with value: -244.79999999999987.\n",
      "[I 2025-05-27 17:07:20,162] Trial 19 finished with value: -293.19999999999993 and parameters: {'n_estimators': 737, 'learning_rate': 0.03615581608890234, 'max_depth': 6, 'min_child_weight': 0.5416433613077386, 'gamma': 0.2636340695110948, 'subsample': 0.8212393937049974, 'colsample_bytree': 0.8137042715510351, 'scale_pos_weight': 19.635392879872597, 'max_delta_step': 1}. Best is trial 4 with value: -244.79999999999987.\n",
      "[I 2025-05-27 17:07:54,722] Trial 20 finished with value: -376.19999999999993 and parameters: {'n_estimators': 625, 'learning_rate': 0.018855722138439224, 'max_depth': 7, 'min_child_weight': 0.32269244796640884, 'gamma': 0.37124114729314905, 'subsample': 0.9710526705672428, 'colsample_bytree': 0.6553724219146176, 'scale_pos_weight': 5.406733656964356, 'max_delta_step': 3}. Best is trial 4 with value: -244.79999999999987.\n",
      "[I 2025-05-27 17:08:29,379] Trial 21 finished with value: -260.5999999999999 and parameters: {'n_estimators': 711, 'learning_rate': 0.07774994410549736, 'max_depth': 7, 'min_child_weight': 0.9248469132401388, 'gamma': 0.05264928092598074, 'subsample': 0.7593015079729779, 'colsample_bytree': 0.6330988942414393, 'scale_pos_weight': 34.64000098107312, 'max_delta_step': 6}. Best is trial 4 with value: -244.79999999999987.\n",
      "[I 2025-05-27 17:09:09,496] Trial 22 finished with value: -279.3999999999999 and parameters: {'n_estimators': 700, 'learning_rate': 0.040954812969069006, 'max_depth': 7, 'min_child_weight': 1.4992115223105236, 'gamma': 0.1048819780305098, 'subsample': 0.7466587929981205, 'colsample_bytree': 0.6207890228479968, 'scale_pos_weight': 34.47394926826139, 'max_delta_step': 0}. Best is trial 4 with value: -244.79999999999987.\n",
      "[I 2025-05-27 17:09:55,472] Trial 23 finished with value: -262.5999999999999 and parameters: {'n_estimators': 767, 'learning_rate': 0.013025867173288986, 'max_depth': 8, 'min_child_weight': 2.833172876515441, 'gamma': 0.039767001452666983, 'subsample': 0.7796586619956891, 'colsample_bytree': 0.7037912798877496, 'scale_pos_weight': 28.085469178337455, 'max_delta_step': 4}. Best is trial 4 with value: -244.79999999999987.\n",
      "[I 2025-05-27 17:10:33,870] Trial 24 finished with value: -281.3999999999999 and parameters: {'n_estimators': 724, 'learning_rate': 0.03456276471622824, 'max_depth': 5, 'min_child_weight': 0.7280311075496486, 'gamma': 0.16003232205353748, 'subsample': 0.7094864966043076, 'colsample_bytree': 0.6554112407611402, 'scale_pos_weight': 36.08139518114357, 'max_delta_step': 1}. Best is trial 4 with value: -244.79999999999987.\n",
      "[I 2025-05-27 17:11:17,645] Trial 25 finished with value: -280.4 and parameters: {'n_estimators': 637, 'learning_rate': 0.018838025047979153, 'max_depth': 8, 'min_child_weight': 1.425474260280519, 'gamma': 0.08689778383565255, 'subsample': 0.7464886527337307, 'colsample_bytree': 0.7609600257803817, 'scale_pos_weight': 33.88165126970879, 'max_delta_step': 3}. Best is trial 4 with value: -244.79999999999987.\n",
      "[I 2025-05-27 17:11:48,928] Trial 26 finished with value: -327.7999999999999 and parameters: {'n_estimators': 686, 'learning_rate': 0.13175809697521088, 'max_depth': 7, 'min_child_weight': 0.5922193120043332, 'gamma': 0.032375631618918904, 'subsample': 0.8672552954718422, 'colsample_bytree': 0.7166665700370984, 'scale_pos_weight': 29.27202511135813, 'max_delta_step': 7}. Best is trial 4 with value: -244.79999999999987.\n",
      "[I 2025-05-27 17:12:29,548] Trial 27 finished with value: -280.3999999999999 and parameters: {'n_estimators': 740, 'learning_rate': 0.019179361850828257, 'max_depth': 5, 'min_child_weight': 2.1045366753587516, 'gamma': 0.0001352924069728768, 'subsample': 0.8207990357515927, 'colsample_bytree': 0.6413444086632656, 'scale_pos_weight': 37.07670443568785, 'max_delta_step': 6}. Best is trial 4 with value: -244.79999999999987.\n",
      "[I 2025-05-27 17:13:07,829] Trial 28 finished with value: -279.3999999999999 and parameters: {'n_estimators': 655, 'learning_rate': 0.029677912232698504, 'max_depth': 7, 'min_child_weight': 3.426584432456785, 'gamma': 0.061356777041120636, 'subsample': 0.7402851414389128, 'colsample_bytree': 0.6054557645138428, 'scale_pos_weight': 24.15065303024192, 'max_delta_step': 4}. Best is trial 4 with value: -244.79999999999987.\n",
      "[I 2025-05-27 17:13:50,671] Trial 29 finished with value: -295.19999999999993 and parameters: {'n_estimators': 834, 'learning_rate': 0.05454966520942964, 'max_depth': 8, 'min_child_weight': 1.1780418059029503, 'gamma': 0.0978055252271974, 'subsample': 0.7006973838705174, 'colsample_bytree': 0.6784967943771661, 'scale_pos_weight': 14.613054653744944, 'max_delta_step': 1}. Best is trial 4 with value: -244.79999999999987.\n",
      "[I 2025-05-27 17:14:30,102] Trial 30 finished with value: -294.19999999999993 and parameters: {'n_estimators': 687, 'learning_rate': 0.012691197607475313, 'max_depth': 6, 'min_child_weight': 0.4143330065510209, 'gamma': 0.14932929849749563, 'subsample': 0.8065428697040485, 'colsample_bytree': 0.6672508331298881, 'scale_pos_weight': 18.018262015941986, 'max_delta_step': 5}. Best is trial 4 with value: -244.79999999999987.\n",
      "[I 2025-05-27 17:15:09,101] Trial 31 finished with value: -309.9999999999999 and parameters: {'n_estimators': 710, 'learning_rate': 0.08813169184889007, 'max_depth': 7, 'min_child_weight': 0.9391199818686099, 'gamma': 0.05308867479501383, 'subsample': 0.7628809593142369, 'colsample_bytree': 0.6328029503982384, 'scale_pos_weight': 34.04947160284902, 'max_delta_step': 6}. Best is trial 4 with value: -244.79999999999987.\n",
      "[I 2025-05-27 17:15:47,721] Trial 32 finished with value: -308.9999999999999 and parameters: {'n_estimators': 724, 'learning_rate': 0.07743051576123285, 'max_depth': 7, 'min_child_weight': 0.7730285680288618, 'gamma': 0.084950210100768, 'subsample': 0.7657313012941603, 'colsample_bytree': 0.6340980729482607, 'scale_pos_weight': 32.80863626809645, 'max_delta_step': 7}. Best is trial 4 with value: -244.79999999999987.\n",
      "[I 2025-05-27 17:16:23,645] Trial 33 finished with value: -244.79999999999995 and parameters: {'n_estimators': 759, 'learning_rate': 0.18995570723097283, 'max_depth': 6, 'min_child_weight': 1.2481728403227053, 'gamma': 0.04825261274692513, 'subsample': 0.7341628395222654, 'colsample_bytree': 0.7987952892795905, 'scale_pos_weight': 39.839819532139096, 'max_delta_step': 8}. Best is trial 4 with value: -244.79999999999987.\n",
      "[I 2025-05-27 17:17:00,192] Trial 34 finished with value: -292.19999999999993 and parameters: {'n_estimators': 757, 'learning_rate': 0.1959897341639896, 'max_depth': 6, 'min_child_weight': 1.2587447844111366, 'gamma': 0.02267667248712517, 'subsample': 0.7901779534015075, 'colsample_bytree': 0.7998739856203676, 'scale_pos_weight': 38.158139455516604, 'max_delta_step': 8}. Best is trial 4 with value: -244.79999999999987.\n",
      "[I 2025-05-27 17:17:35,630] Trial 35 finished with value: -281.3999999999999 and parameters: {'n_estimators': 752, 'learning_rate': 0.15139783630444306, 'max_depth': 6, 'min_child_weight': 2.0487046767962975, 'gamma': 0.06438430592020598, 'subsample': 0.73355619065094, 'colsample_bytree': 0.8928011543897678, 'scale_pos_weight': 39.00440116329314, 'max_delta_step': 10}. Best is trial 4 with value: -244.79999999999987.\n",
      "[I 2025-05-27 17:18:11,709] Trial 36 finished with value: -311.9999999999999 and parameters: {'n_estimators': 775, 'learning_rate': 0.1070825440113779, 'max_depth': 5, 'min_child_weight': 2.993409433904077, 'gamma': 0.10369435268213184, 'subsample': 0.8263456861344919, 'colsample_bytree': 0.9414705414003753, 'scale_pos_weight': 31.84953194010488, 'max_delta_step': 8}. Best is trial 4 with value: -244.79999999999987.\n",
      "[I 2025-05-27 17:18:42,891] Trial 37 finished with value: -277.4 and parameters: {'n_estimators': 796, 'learning_rate': 0.15404107237261797, 'max_depth': 6, 'min_child_weight': 0.947657269649398, 'gamma': 0.07639072375951705, 'subsample': 0.7289757164086108, 'colsample_bytree': 0.7876620128733746, 'scale_pos_weight': 36.59088292080579, 'max_delta_step': 2}. Best is trial 4 with value: -244.79999999999987.\n",
      "[I 2025-05-27 17:19:14,904] Trial 38 finished with value: -311.9999999999999 and parameters: {'n_estimators': 723, 'learning_rate': 0.12389899206292888, 'max_depth': 6, 'min_child_weight': 1.8556994647060432, 'gamma': 0.028710122719078038, 'subsample': 0.9499811004606267, 'colsample_bytree': 0.8280998427268168, 'scale_pos_weight': 39.83026242274194, 'max_delta_step': 10}. Best is trial 4 with value: -244.79999999999987.\n",
      "[I 2025-05-27 17:20:04,139] Trial 39 finished with value: -277.3999999999999 and parameters: {'n_estimators': 815, 'learning_rate': 0.02235999478079805, 'max_depth': 8, 'min_child_weight': 0.681258782890746, 'gamma': 0.12544836522016564, 'subsample': 0.7143423800803942, 'colsample_bytree': 0.7546042934026556, 'scale_pos_weight': 28.059305653314215, 'max_delta_step': 9}. Best is trial 4 with value: -244.79999999999987.\n",
      "[I 2025-05-27 17:20:47,221] Trial 40 finished with value: -300.19999999999993 and parameters: {'n_estimators': 742, 'learning_rate': 0.010813651056019292, 'max_depth': 6, 'min_child_weight': 0.2383957326214512, 'gamma': 0.047282299407672944, 'subsample': 0.800274139927902, 'colsample_bytree': 0.779096226746567, 'scale_pos_weight': 31.494289696577702, 'max_delta_step': 5}. Best is trial 4 with value: -244.79999999999987.\n",
      "[I 2025-05-27 17:21:19,291] Trial 41 finished with value: -261.5999999999999 and parameters: {'n_estimators': 702, 'learning_rate': 0.16557370589307824, 'max_depth': 7, 'min_child_weight': 0.9500388566406404, 'gamma': 0.05761937892146412, 'subsample': 0.7533260716317197, 'colsample_bytree': 0.6205544885622435, 'scale_pos_weight': 34.7983213131155, 'max_delta_step': 6}. Best is trial 4 with value: -244.79999999999987.\n",
      "[I 2025-05-27 17:22:03,061] Trial 42 finished with value: -277.3999999999999 and parameters: {'n_estimators': 715, 'learning_rate': 0.053403716293085, 'max_depth': 7, 'min_child_weight': 1.2908037262817127, 'gamma': 0.018288003256092138, 'subsample': 0.7732725856864786, 'colsample_bytree': 0.695999921774401, 'scale_pos_weight': 37.53504141330106, 'max_delta_step': 7}. Best is trial 4 with value: -244.79999999999987.\n",
      "[I 2025-05-27 17:22:36,295] Trial 43 finished with value: -293.19999999999993 and parameters: {'n_estimators': 672, 'learning_rate': 0.07969432059916352, 'max_depth': 7, 'min_child_weight': 0.4688461347079349, 'gamma': 0.06590878696450082, 'subsample': 0.757432177395492, 'colsample_bytree': 0.7246290727019287, 'scale_pos_weight': 35.305249381819046, 'max_delta_step': 8}. Best is trial 4 with value: -244.79999999999987.\n",
      "[I 2025-05-27 17:23:11,340] Trial 44 finished with value: -358.3999999999999 and parameters: {'n_estimators': 763, 'learning_rate': 0.06612217368955924, 'max_depth': 7, 'min_child_weight': 0.8193179801501327, 'gamma': 0.04373485142119706, 'subsample': 0.9004717514861839, 'colsample_bytree': 0.6643114669034609, 'scale_pos_weight': 11.48403355502871, 'max_delta_step': 5}. Best is trial 4 with value: -244.79999999999987.\n",
      "[I 2025-05-27 17:23:38,269] Trial 45 finished with value: -296.19999999999993 and parameters: {'n_estimators': 694, 'learning_rate': 0.17728034138260826, 'max_depth': 8, 'min_child_weight': 1.0440324278914566, 'gamma': 0.08092029768766255, 'subsample': 0.7287764958373905, 'colsample_bytree': 0.6030528117542462, 'scale_pos_weight': 33.00560236453789, 'max_delta_step': 6}. Best is trial 4 with value: -244.79999999999987.\n",
      "[I 2025-05-27 17:24:07,698] Trial 46 finished with value: -298.1999999999999 and parameters: {'n_estimators': 681, 'learning_rate': 0.13937664867683827, 'max_depth': 6, 'min_child_weight': 2.5501895865171145, 'gamma': 0.014316728017922081, 'subsample': 0.7862067969534751, 'colsample_bytree': 0.6473008028546633, 'scale_pos_weight': 38.172299304280024, 'max_delta_step': 4}. Best is trial 4 with value: -244.79999999999987.\n",
      "[I 2025-05-27 17:24:36,425] Trial 47 finished with value: -262.5999999999999 and parameters: {'n_estimators': 713, 'learning_rate': 0.1010135590334193, 'max_depth': 5, 'min_child_weight': 0.6467301852702783, 'gamma': 0.10934206787458745, 'subsample': 0.702304220046907, 'colsample_bytree': 0.8886573204751101, 'scale_pos_weight': 30.41666923136629, 'max_delta_step': 7}. Best is trial 4 with value: -244.79999999999987.\n",
      "[I 2025-05-27 17:25:13,683] Trial 48 finished with value: -232.99999999999991 and parameters: {'n_estimators': 732, 'learning_rate': 0.011648949675038826, 'max_depth': 7, 'min_child_weight': 1.6414283214247292, 'gamma': 0.1974251183637835, 'subsample': 0.7199786991208937, 'colsample_bytree': 0.7373238229775813, 'scale_pos_weight': 35.870969782400486, 'max_delta_step': 0}. Best is trial 48 with value: -232.99999999999991.\n",
      "[I 2025-05-27 17:25:51,851] Trial 49 finished with value: -249.7999999999999 and parameters: {'n_estimators': 732, 'learning_rate': 0.010464725708835908, 'max_depth': 8, 'min_child_weight': 1.7117979552446185, 'gamma': 0.2208820206786353, 'subsample': 0.7184705630079126, 'colsample_bytree': 0.7324475042616325, 'scale_pos_weight': 39.817778800807176, 'max_delta_step': 0}. Best is trial 48 with value: -232.99999999999991.\n",
      "\n",
      "Best Cross-Validated Profit: $-233\n",
      "Best Params:\n",
      " {'n_estimators': 732, 'learning_rate': 0.011648949675038826, 'max_depth': 7, 'min_child_weight': 1.6414283214247292, 'gamma': 0.1974251183637835, 'subsample': 0.7199786991208937, 'colsample_bytree': 0.7373238229775813, 'scale_pos_weight': 35.870969782400486, 'max_delta_step': 0}\n"
     ]
    }
   ],
   "source": [
    "AVG_FRAUD, TP_FEE, FP_COST = 120, 0.10, -5\n",
    "FN_PEN_TUNE = -0.60\n",
    "\n",
    "X_dev, X_val, y_dev, y_val = train_test_split(\n",
    "X_train, Y_train, test_size=0.15, stratify=Y_train, random_state=42\n",
    ")\n",
    "y_dev_np = y_dev.to_numpy()\n",
    "\n",
    "def profit(y_true, y_pred):\n",
    "    tn, fp, fn, tp = confusion_matrix(y_true, y_pred).ravel()\n",
    "    return TP_FEE * tp * AVG_FRAUD + FP_COST * fp + FN_PEN_TUNE * fn * AVG_FRAUD\n",
    "\n",
    "def objective(trial):\n",
    "    params = {\n",
    "    \"n_estimators\" : trial.suggest_int(\"n_estimators\", 600, 900),\n",
    "    \"learning_rate\" : trial.suggest_float(\"learning_rate\", 0.01, 0.2, log=True),\n",
    "    \"max_depth\" : trial.suggest_int(\"max_depth\", 4, 8),\n",
    "    \"min_child_weight\" : trial.suggest_float(\"min_child_weight\", 0.1, 5.0, log=True),\n",
    "    \"gamma\" : trial.suggest_float(\"gamma\", 0.0, 0.4),\n",
    "    \"subsample\" : trial.suggest_float(\"subsample\", 0.7, 1.0),\n",
    "    \"colsample_bytree\" : trial.suggest_float(\"colsample_bytree\", 0.6, 1.0),\n",
    "    \"scale_pos_weight\" : trial.suggest_float(\"scale_pos_weight\", 5, 40),\n",
    "    \"max_delta_step\" : trial.suggest_int(\"max_delta_step\", 0, 10),\n",
    "    \"objective\" : \"binary:logistic\",\n",
    "    \"eval_metric\" : \"logloss\",\n",
    "    \"random_state\" : 42,\n",
    "    \"n_jobs\" : -1,\n",
    "    \"tree_method\" : \"hist\"\n",
    "    }\n",
    "\n",
    "    model = xgb.XGBClassifier(**params)\n",
    "    cv = StratifiedKFold(n_splits=5, shuffle=True, random_state=42)\n",
    "    scores = []\n",
    "\n",
    "    for train_idx, val_idx in cv.split(X_dev, y_dev_np):\n",
    "        model.fit(X_dev.iloc[train_idx], y_dev_np[train_idx])\n",
    "        preds = (model.predict_proba(X_dev.iloc[val_idx])[:, 1] >= 0.5).astype(int)\n",
    "        score = profit(y_dev_np[val_idx], preds)\n",
    "        scores.append(score)\n",
    "\n",
    "    return np.mean(scores)\n",
    "\n",
    "study.optimize(objective, n_trials=50, timeout=5000, callbacks=[mlflc], show_progress_bar=True)\n",
    "\n",
    "print(\"\\nBest Cross-Validated Profit:\", f\"${study.best_value:,.0f}\")\n",
    "print(\"Best Params:\\n\", study.best_trial.params)\n",
    "mlflow.end_run()"
   ]
  },
  {
   "cell_type": "markdown",
   "id": "5ddc064e",
   "metadata": {},
   "source": [
    "# Hyperparameter Tuning Validation Curves"
   ]
  },
  {
   "cell_type": "code",
   "execution_count": 9,
   "id": "6240c3ed",
   "metadata": {},
   "outputs": [
    {
     "data": {
      "application/vnd.plotly.v1+json": {
       "config": {
        "plotlyServerURL": "https://plot.ly"
       },
       "data": [
        {
         "mode": "markers",
         "name": "Objective Value",
         "type": "scatter",
         "x": [
          0,
          1,
          2,
          3,
          4,
          5,
          6,
          7,
          8,
          9,
          10,
          11,
          12,
          13,
          14,
          15,
          16,
          17,
          18,
          19,
          20,
          21,
          22,
          23,
          24,
          25,
          26,
          27,
          28,
          29,
          30,
          31,
          32,
          33,
          34,
          35,
          36,
          37,
          38,
          39,
          40,
          41,
          42,
          43,
          44,
          45,
          46,
          47,
          48,
          49
         ],
         "y": [
          -259.59999999999985,
          -279.3999999999999,
          -325.79999999999995,
          -279.3999999999999,
          -244.79999999999987,
          -310.9999999999999,
          -294.19999999999993,
          -278.3999999999999,
          -325.7999999999999,
          -264.59999999999985,
          -343.5999999999999,
          -343.6,
          -278.3999999999999,
          -311,
          -311.9999999999999,
          -244.79999999999995,
          -278.4,
          -286.3999999999999,
          -278.3999999999999,
          -293.19999999999993,
          -376.19999999999993,
          -260.5999999999999,
          -279.3999999999999,
          -262.5999999999999,
          -281.3999999999999,
          -280.4,
          -327.7999999999999,
          -280.3999999999999,
          -279.3999999999999,
          -295.19999999999993,
          -294.19999999999993,
          -309.9999999999999,
          -308.9999999999999,
          -244.79999999999995,
          -292.19999999999993,
          -281.3999999999999,
          -311.9999999999999,
          -277.4,
          -311.9999999999999,
          -277.3999999999999,
          -300.19999999999993,
          -261.5999999999999,
          -277.3999999999999,
          -293.19999999999993,
          -358.3999999999999,
          -296.19999999999993,
          -298.1999999999999,
          -262.5999999999999,
          -232.99999999999991,
          -249.7999999999999
         ]
        },
        {
         "mode": "lines",
         "name": "Best Value",
         "type": "scatter",
         "x": [
          0,
          1,
          2,
          3,
          4,
          5,
          6,
          7,
          8,
          9,
          10,
          11,
          12,
          13,
          14,
          15,
          16,
          17,
          18,
          19,
          20,
          21,
          22,
          23,
          24,
          25,
          26,
          27,
          28,
          29,
          30,
          31,
          32,
          33,
          34,
          35,
          36,
          37,
          38,
          39,
          40,
          41,
          42,
          43,
          44,
          45,
          46,
          47,
          48,
          49
         ],
         "y": [
          -259.59999999999985,
          -259.59999999999985,
          -259.59999999999985,
          -259.59999999999985,
          -244.79999999999987,
          -244.79999999999987,
          -244.79999999999987,
          -244.79999999999987,
          -244.79999999999987,
          -244.79999999999987,
          -244.79999999999987,
          -244.79999999999987,
          -244.79999999999987,
          -244.79999999999987,
          -244.79999999999987,
          -244.79999999999987,
          -244.79999999999987,
          -244.79999999999987,
          -244.79999999999987,
          -244.79999999999987,
          -244.79999999999987,
          -244.79999999999987,
          -244.79999999999987,
          -244.79999999999987,
          -244.79999999999987,
          -244.79999999999987,
          -244.79999999999987,
          -244.79999999999987,
          -244.79999999999987,
          -244.79999999999987,
          -244.79999999999987,
          -244.79999999999987,
          -244.79999999999987,
          -244.79999999999987,
          -244.79999999999987,
          -244.79999999999987,
          -244.79999999999987,
          -244.79999999999987,
          -244.79999999999987,
          -244.79999999999987,
          -244.79999999999987,
          -244.79999999999987,
          -244.79999999999987,
          -244.79999999999987,
          -244.79999999999987,
          -244.79999999999987,
          -244.79999999999987,
          -244.79999999999987,
          -232.99999999999991,
          -232.99999999999991
         ]
        },
        {
         "marker": {
          "color": "#cccccc"
         },
         "mode": "markers",
         "name": "Infeasible Trial",
         "showlegend": false,
         "type": "scatter",
         "x": [],
         "y": []
        }
       ],
       "layout": {
        "template": {
         "data": {
          "bar": [
           {
            "error_x": {
             "color": "#2a3f5f"
            },
            "error_y": {
             "color": "#2a3f5f"
            },
            "marker": {
             "line": {
              "color": "#E5ECF6",
              "width": 0.5
             },
             "pattern": {
              "fillmode": "overlay",
              "size": 10,
              "solidity": 0.2
             }
            },
            "type": "bar"
           }
          ],
          "barpolar": [
           {
            "marker": {
             "line": {
              "color": "#E5ECF6",
              "width": 0.5
             },
             "pattern": {
              "fillmode": "overlay",
              "size": 10,
              "solidity": 0.2
             }
            },
            "type": "barpolar"
           }
          ],
          "carpet": [
           {
            "aaxis": {
             "endlinecolor": "#2a3f5f",
             "gridcolor": "white",
             "linecolor": "white",
             "minorgridcolor": "white",
             "startlinecolor": "#2a3f5f"
            },
            "baxis": {
             "endlinecolor": "#2a3f5f",
             "gridcolor": "white",
             "linecolor": "white",
             "minorgridcolor": "white",
             "startlinecolor": "#2a3f5f"
            },
            "type": "carpet"
           }
          ],
          "choropleth": [
           {
            "colorbar": {
             "outlinewidth": 0,
             "ticks": ""
            },
            "type": "choropleth"
           }
          ],
          "contour": [
           {
            "colorbar": {
             "outlinewidth": 0,
             "ticks": ""
            },
            "colorscale": [
             [
              0,
              "#0d0887"
             ],
             [
              0.1111111111111111,
              "#46039f"
             ],
             [
              0.2222222222222222,
              "#7201a8"
             ],
             [
              0.3333333333333333,
              "#9c179e"
             ],
             [
              0.4444444444444444,
              "#bd3786"
             ],
             [
              0.5555555555555556,
              "#d8576b"
             ],
             [
              0.6666666666666666,
              "#ed7953"
             ],
             [
              0.7777777777777778,
              "#fb9f3a"
             ],
             [
              0.8888888888888888,
              "#fdca26"
             ],
             [
              1,
              "#f0f921"
             ]
            ],
            "type": "contour"
           }
          ],
          "contourcarpet": [
           {
            "colorbar": {
             "outlinewidth": 0,
             "ticks": ""
            },
            "type": "contourcarpet"
           }
          ],
          "heatmap": [
           {
            "colorbar": {
             "outlinewidth": 0,
             "ticks": ""
            },
            "colorscale": [
             [
              0,
              "#0d0887"
             ],
             [
              0.1111111111111111,
              "#46039f"
             ],
             [
              0.2222222222222222,
              "#7201a8"
             ],
             [
              0.3333333333333333,
              "#9c179e"
             ],
             [
              0.4444444444444444,
              "#bd3786"
             ],
             [
              0.5555555555555556,
              "#d8576b"
             ],
             [
              0.6666666666666666,
              "#ed7953"
             ],
             [
              0.7777777777777778,
              "#fb9f3a"
             ],
             [
              0.8888888888888888,
              "#fdca26"
             ],
             [
              1,
              "#f0f921"
             ]
            ],
            "type": "heatmap"
           }
          ],
          "heatmapgl": [
           {
            "colorbar": {
             "outlinewidth": 0,
             "ticks": ""
            },
            "colorscale": [
             [
              0,
              "#0d0887"
             ],
             [
              0.1111111111111111,
              "#46039f"
             ],
             [
              0.2222222222222222,
              "#7201a8"
             ],
             [
              0.3333333333333333,
              "#9c179e"
             ],
             [
              0.4444444444444444,
              "#bd3786"
             ],
             [
              0.5555555555555556,
              "#d8576b"
             ],
             [
              0.6666666666666666,
              "#ed7953"
             ],
             [
              0.7777777777777778,
              "#fb9f3a"
             ],
             [
              0.8888888888888888,
              "#fdca26"
             ],
             [
              1,
              "#f0f921"
             ]
            ],
            "type": "heatmapgl"
           }
          ],
          "histogram": [
           {
            "marker": {
             "pattern": {
              "fillmode": "overlay",
              "size": 10,
              "solidity": 0.2
             }
            },
            "type": "histogram"
           }
          ],
          "histogram2d": [
           {
            "colorbar": {
             "outlinewidth": 0,
             "ticks": ""
            },
            "colorscale": [
             [
              0,
              "#0d0887"
             ],
             [
              0.1111111111111111,
              "#46039f"
             ],
             [
              0.2222222222222222,
              "#7201a8"
             ],
             [
              0.3333333333333333,
              "#9c179e"
             ],
             [
              0.4444444444444444,
              "#bd3786"
             ],
             [
              0.5555555555555556,
              "#d8576b"
             ],
             [
              0.6666666666666666,
              "#ed7953"
             ],
             [
              0.7777777777777778,
              "#fb9f3a"
             ],
             [
              0.8888888888888888,
              "#fdca26"
             ],
             [
              1,
              "#f0f921"
             ]
            ],
            "type": "histogram2d"
           }
          ],
          "histogram2dcontour": [
           {
            "colorbar": {
             "outlinewidth": 0,
             "ticks": ""
            },
            "colorscale": [
             [
              0,
              "#0d0887"
             ],
             [
              0.1111111111111111,
              "#46039f"
             ],
             [
              0.2222222222222222,
              "#7201a8"
             ],
             [
              0.3333333333333333,
              "#9c179e"
             ],
             [
              0.4444444444444444,
              "#bd3786"
             ],
             [
              0.5555555555555556,
              "#d8576b"
             ],
             [
              0.6666666666666666,
              "#ed7953"
             ],
             [
              0.7777777777777778,
              "#fb9f3a"
             ],
             [
              0.8888888888888888,
              "#fdca26"
             ],
             [
              1,
              "#f0f921"
             ]
            ],
            "type": "histogram2dcontour"
           }
          ],
          "mesh3d": [
           {
            "colorbar": {
             "outlinewidth": 0,
             "ticks": ""
            },
            "type": "mesh3d"
           }
          ],
          "parcoords": [
           {
            "line": {
             "colorbar": {
              "outlinewidth": 0,
              "ticks": ""
             }
            },
            "type": "parcoords"
           }
          ],
          "pie": [
           {
            "automargin": true,
            "type": "pie"
           }
          ],
          "scatter": [
           {
            "fillpattern": {
             "fillmode": "overlay",
             "size": 10,
             "solidity": 0.2
            },
            "type": "scatter"
           }
          ],
          "scatter3d": [
           {
            "line": {
             "colorbar": {
              "outlinewidth": 0,
              "ticks": ""
             }
            },
            "marker": {
             "colorbar": {
              "outlinewidth": 0,
              "ticks": ""
             }
            },
            "type": "scatter3d"
           }
          ],
          "scattercarpet": [
           {
            "marker": {
             "colorbar": {
              "outlinewidth": 0,
              "ticks": ""
             }
            },
            "type": "scattercarpet"
           }
          ],
          "scattergeo": [
           {
            "marker": {
             "colorbar": {
              "outlinewidth": 0,
              "ticks": ""
             }
            },
            "type": "scattergeo"
           }
          ],
          "scattergl": [
           {
            "marker": {
             "colorbar": {
              "outlinewidth": 0,
              "ticks": ""
             }
            },
            "type": "scattergl"
           }
          ],
          "scattermapbox": [
           {
            "marker": {
             "colorbar": {
              "outlinewidth": 0,
              "ticks": ""
             }
            },
            "type": "scattermapbox"
           }
          ],
          "scatterpolar": [
           {
            "marker": {
             "colorbar": {
              "outlinewidth": 0,
              "ticks": ""
             }
            },
            "type": "scatterpolar"
           }
          ],
          "scatterpolargl": [
           {
            "marker": {
             "colorbar": {
              "outlinewidth": 0,
              "ticks": ""
             }
            },
            "type": "scatterpolargl"
           }
          ],
          "scatterternary": [
           {
            "marker": {
             "colorbar": {
              "outlinewidth": 0,
              "ticks": ""
             }
            },
            "type": "scatterternary"
           }
          ],
          "surface": [
           {
            "colorbar": {
             "outlinewidth": 0,
             "ticks": ""
            },
            "colorscale": [
             [
              0,
              "#0d0887"
             ],
             [
              0.1111111111111111,
              "#46039f"
             ],
             [
              0.2222222222222222,
              "#7201a8"
             ],
             [
              0.3333333333333333,
              "#9c179e"
             ],
             [
              0.4444444444444444,
              "#bd3786"
             ],
             [
              0.5555555555555556,
              "#d8576b"
             ],
             [
              0.6666666666666666,
              "#ed7953"
             ],
             [
              0.7777777777777778,
              "#fb9f3a"
             ],
             [
              0.8888888888888888,
              "#fdca26"
             ],
             [
              1,
              "#f0f921"
             ]
            ],
            "type": "surface"
           }
          ],
          "table": [
           {
            "cells": {
             "fill": {
              "color": "#EBF0F8"
             },
             "line": {
              "color": "white"
             }
            },
            "header": {
             "fill": {
              "color": "#C8D4E3"
             },
             "line": {
              "color": "white"
             }
            },
            "type": "table"
           }
          ]
         },
         "layout": {
          "annotationdefaults": {
           "arrowcolor": "#2a3f5f",
           "arrowhead": 0,
           "arrowwidth": 1
          },
          "autotypenumbers": "strict",
          "coloraxis": {
           "colorbar": {
            "outlinewidth": 0,
            "ticks": ""
           }
          },
          "colorscale": {
           "diverging": [
            [
             0,
             "#8e0152"
            ],
            [
             0.1,
             "#c51b7d"
            ],
            [
             0.2,
             "#de77ae"
            ],
            [
             0.3,
             "#f1b6da"
            ],
            [
             0.4,
             "#fde0ef"
            ],
            [
             0.5,
             "#f7f7f7"
            ],
            [
             0.6,
             "#e6f5d0"
            ],
            [
             0.7,
             "#b8e186"
            ],
            [
             0.8,
             "#7fbc41"
            ],
            [
             0.9,
             "#4d9221"
            ],
            [
             1,
             "#276419"
            ]
           ],
           "sequential": [
            [
             0,
             "#0d0887"
            ],
            [
             0.1111111111111111,
             "#46039f"
            ],
            [
             0.2222222222222222,
             "#7201a8"
            ],
            [
             0.3333333333333333,
             "#9c179e"
            ],
            [
             0.4444444444444444,
             "#bd3786"
            ],
            [
             0.5555555555555556,
             "#d8576b"
            ],
            [
             0.6666666666666666,
             "#ed7953"
            ],
            [
             0.7777777777777778,
             "#fb9f3a"
            ],
            [
             0.8888888888888888,
             "#fdca26"
            ],
            [
             1,
             "#f0f921"
            ]
           ],
           "sequentialminus": [
            [
             0,
             "#0d0887"
            ],
            [
             0.1111111111111111,
             "#46039f"
            ],
            [
             0.2222222222222222,
             "#7201a8"
            ],
            [
             0.3333333333333333,
             "#9c179e"
            ],
            [
             0.4444444444444444,
             "#bd3786"
            ],
            [
             0.5555555555555556,
             "#d8576b"
            ],
            [
             0.6666666666666666,
             "#ed7953"
            ],
            [
             0.7777777777777778,
             "#fb9f3a"
            ],
            [
             0.8888888888888888,
             "#fdca26"
            ],
            [
             1,
             "#f0f921"
            ]
           ]
          },
          "colorway": [
           "#636efa",
           "#EF553B",
           "#00cc96",
           "#ab63fa",
           "#FFA15A",
           "#19d3f3",
           "#FF6692",
           "#B6E880",
           "#FF97FF",
           "#FECB52"
          ],
          "font": {
           "color": "#2a3f5f"
          },
          "geo": {
           "bgcolor": "white",
           "lakecolor": "white",
           "landcolor": "#E5ECF6",
           "showlakes": true,
           "showland": true,
           "subunitcolor": "white"
          },
          "hoverlabel": {
           "align": "left"
          },
          "hovermode": "closest",
          "mapbox": {
           "style": "light"
          },
          "paper_bgcolor": "white",
          "plot_bgcolor": "#E5ECF6",
          "polar": {
           "angularaxis": {
            "gridcolor": "white",
            "linecolor": "white",
            "ticks": ""
           },
           "bgcolor": "#E5ECF6",
           "radialaxis": {
            "gridcolor": "white",
            "linecolor": "white",
            "ticks": ""
           }
          },
          "scene": {
           "xaxis": {
            "backgroundcolor": "#E5ECF6",
            "gridcolor": "white",
            "gridwidth": 2,
            "linecolor": "white",
            "showbackground": true,
            "ticks": "",
            "zerolinecolor": "white"
           },
           "yaxis": {
            "backgroundcolor": "#E5ECF6",
            "gridcolor": "white",
            "gridwidth": 2,
            "linecolor": "white",
            "showbackground": true,
            "ticks": "",
            "zerolinecolor": "white"
           },
           "zaxis": {
            "backgroundcolor": "#E5ECF6",
            "gridcolor": "white",
            "gridwidth": 2,
            "linecolor": "white",
            "showbackground": true,
            "ticks": "",
            "zerolinecolor": "white"
           }
          },
          "shapedefaults": {
           "line": {
            "color": "#2a3f5f"
           }
          },
          "ternary": {
           "aaxis": {
            "gridcolor": "white",
            "linecolor": "white",
            "ticks": ""
           },
           "baxis": {
            "gridcolor": "white",
            "linecolor": "white",
            "ticks": ""
           },
           "bgcolor": "#E5ECF6",
           "caxis": {
            "gridcolor": "white",
            "linecolor": "white",
            "ticks": ""
           }
          },
          "title": {
           "x": 0.05
          },
          "xaxis": {
           "automargin": true,
           "gridcolor": "white",
           "linecolor": "white",
           "ticks": "",
           "title": {
            "standoff": 15
           },
           "zerolinecolor": "white",
           "zerolinewidth": 2
          },
          "yaxis": {
           "automargin": true,
           "gridcolor": "white",
           "linecolor": "white",
           "ticks": "",
           "title": {
            "standoff": 15
           },
           "zerolinecolor": "white",
           "zerolinewidth": 2
          }
         }
        },
        "title": {
         "text": "Optimization History Plot"
        },
        "xaxis": {
         "title": {
          "text": "Trial"
         }
        },
        "yaxis": {
         "title": {
          "text": "Objective Value"
         }
        }
       }
      }
     },
     "metadata": {},
     "output_type": "display_data"
    },
    {
     "data": {
      "application/vnd.plotly.v1+json": {
       "config": {
        "plotlyServerURL": "https://plot.ly"
       },
       "data": [
        {
         "cliponaxis": false,
         "hovertemplate": [
          "min_child_weight (FloatDistribution): 0.033754369632064386<extra></extra>",
          "max_depth (IntDistribution): 0.036889244537910766<extra></extra>",
          "n_estimators (IntDistribution): 0.03708706377809032<extra></extra>",
          "colsample_bytree (FloatDistribution): 0.043513986734008206<extra></extra>",
          "learning_rate (FloatDistribution): 0.04582792334942015<extra></extra>",
          "max_delta_step (IntDistribution): 0.050976938309364055<extra></extra>",
          "gamma (FloatDistribution): 0.10883487143441703<extra></extra>",
          "subsample (FloatDistribution): 0.2993208934917017<extra></extra>",
          "scale_pos_weight (FloatDistribution): 0.34379470873302337<extra></extra>"
         ],
         "name": "Objective Value",
         "orientation": "h",
         "text": [
          "0.03",
          "0.04",
          "0.04",
          "0.04",
          "0.05",
          "0.05",
          "0.11",
          "0.30",
          "0.34"
         ],
         "textposition": "outside",
         "type": "bar",
         "x": [
          0.033754369632064386,
          0.036889244537910766,
          0.03708706377809032,
          0.043513986734008206,
          0.04582792334942015,
          0.050976938309364055,
          0.10883487143441703,
          0.2993208934917017,
          0.34379470873302337
         ],
         "y": [
          "min_child_weight",
          "max_depth",
          "n_estimators",
          "colsample_bytree",
          "learning_rate",
          "max_delta_step",
          "gamma",
          "subsample",
          "scale_pos_weight"
         ]
        }
       ],
       "layout": {
        "template": {
         "data": {
          "bar": [
           {
            "error_x": {
             "color": "#2a3f5f"
            },
            "error_y": {
             "color": "#2a3f5f"
            },
            "marker": {
             "line": {
              "color": "#E5ECF6",
              "width": 0.5
             },
             "pattern": {
              "fillmode": "overlay",
              "size": 10,
              "solidity": 0.2
             }
            },
            "type": "bar"
           }
          ],
          "barpolar": [
           {
            "marker": {
             "line": {
              "color": "#E5ECF6",
              "width": 0.5
             },
             "pattern": {
              "fillmode": "overlay",
              "size": 10,
              "solidity": 0.2
             }
            },
            "type": "barpolar"
           }
          ],
          "carpet": [
           {
            "aaxis": {
             "endlinecolor": "#2a3f5f",
             "gridcolor": "white",
             "linecolor": "white",
             "minorgridcolor": "white",
             "startlinecolor": "#2a3f5f"
            },
            "baxis": {
             "endlinecolor": "#2a3f5f",
             "gridcolor": "white",
             "linecolor": "white",
             "minorgridcolor": "white",
             "startlinecolor": "#2a3f5f"
            },
            "type": "carpet"
           }
          ],
          "choropleth": [
           {
            "colorbar": {
             "outlinewidth": 0,
             "ticks": ""
            },
            "type": "choropleth"
           }
          ],
          "contour": [
           {
            "colorbar": {
             "outlinewidth": 0,
             "ticks": ""
            },
            "colorscale": [
             [
              0,
              "#0d0887"
             ],
             [
              0.1111111111111111,
              "#46039f"
             ],
             [
              0.2222222222222222,
              "#7201a8"
             ],
             [
              0.3333333333333333,
              "#9c179e"
             ],
             [
              0.4444444444444444,
              "#bd3786"
             ],
             [
              0.5555555555555556,
              "#d8576b"
             ],
             [
              0.6666666666666666,
              "#ed7953"
             ],
             [
              0.7777777777777778,
              "#fb9f3a"
             ],
             [
              0.8888888888888888,
              "#fdca26"
             ],
             [
              1,
              "#f0f921"
             ]
            ],
            "type": "contour"
           }
          ],
          "contourcarpet": [
           {
            "colorbar": {
             "outlinewidth": 0,
             "ticks": ""
            },
            "type": "contourcarpet"
           }
          ],
          "heatmap": [
           {
            "colorbar": {
             "outlinewidth": 0,
             "ticks": ""
            },
            "colorscale": [
             [
              0,
              "#0d0887"
             ],
             [
              0.1111111111111111,
              "#46039f"
             ],
             [
              0.2222222222222222,
              "#7201a8"
             ],
             [
              0.3333333333333333,
              "#9c179e"
             ],
             [
              0.4444444444444444,
              "#bd3786"
             ],
             [
              0.5555555555555556,
              "#d8576b"
             ],
             [
              0.6666666666666666,
              "#ed7953"
             ],
             [
              0.7777777777777778,
              "#fb9f3a"
             ],
             [
              0.8888888888888888,
              "#fdca26"
             ],
             [
              1,
              "#f0f921"
             ]
            ],
            "type": "heatmap"
           }
          ],
          "heatmapgl": [
           {
            "colorbar": {
             "outlinewidth": 0,
             "ticks": ""
            },
            "colorscale": [
             [
              0,
              "#0d0887"
             ],
             [
              0.1111111111111111,
              "#46039f"
             ],
             [
              0.2222222222222222,
              "#7201a8"
             ],
             [
              0.3333333333333333,
              "#9c179e"
             ],
             [
              0.4444444444444444,
              "#bd3786"
             ],
             [
              0.5555555555555556,
              "#d8576b"
             ],
             [
              0.6666666666666666,
              "#ed7953"
             ],
             [
              0.7777777777777778,
              "#fb9f3a"
             ],
             [
              0.8888888888888888,
              "#fdca26"
             ],
             [
              1,
              "#f0f921"
             ]
            ],
            "type": "heatmapgl"
           }
          ],
          "histogram": [
           {
            "marker": {
             "pattern": {
              "fillmode": "overlay",
              "size": 10,
              "solidity": 0.2
             }
            },
            "type": "histogram"
           }
          ],
          "histogram2d": [
           {
            "colorbar": {
             "outlinewidth": 0,
             "ticks": ""
            },
            "colorscale": [
             [
              0,
              "#0d0887"
             ],
             [
              0.1111111111111111,
              "#46039f"
             ],
             [
              0.2222222222222222,
              "#7201a8"
             ],
             [
              0.3333333333333333,
              "#9c179e"
             ],
             [
              0.4444444444444444,
              "#bd3786"
             ],
             [
              0.5555555555555556,
              "#d8576b"
             ],
             [
              0.6666666666666666,
              "#ed7953"
             ],
             [
              0.7777777777777778,
              "#fb9f3a"
             ],
             [
              0.8888888888888888,
              "#fdca26"
             ],
             [
              1,
              "#f0f921"
             ]
            ],
            "type": "histogram2d"
           }
          ],
          "histogram2dcontour": [
           {
            "colorbar": {
             "outlinewidth": 0,
             "ticks": ""
            },
            "colorscale": [
             [
              0,
              "#0d0887"
             ],
             [
              0.1111111111111111,
              "#46039f"
             ],
             [
              0.2222222222222222,
              "#7201a8"
             ],
             [
              0.3333333333333333,
              "#9c179e"
             ],
             [
              0.4444444444444444,
              "#bd3786"
             ],
             [
              0.5555555555555556,
              "#d8576b"
             ],
             [
              0.6666666666666666,
              "#ed7953"
             ],
             [
              0.7777777777777778,
              "#fb9f3a"
             ],
             [
              0.8888888888888888,
              "#fdca26"
             ],
             [
              1,
              "#f0f921"
             ]
            ],
            "type": "histogram2dcontour"
           }
          ],
          "mesh3d": [
           {
            "colorbar": {
             "outlinewidth": 0,
             "ticks": ""
            },
            "type": "mesh3d"
           }
          ],
          "parcoords": [
           {
            "line": {
             "colorbar": {
              "outlinewidth": 0,
              "ticks": ""
             }
            },
            "type": "parcoords"
           }
          ],
          "pie": [
           {
            "automargin": true,
            "type": "pie"
           }
          ],
          "scatter": [
           {
            "fillpattern": {
             "fillmode": "overlay",
             "size": 10,
             "solidity": 0.2
            },
            "type": "scatter"
           }
          ],
          "scatter3d": [
           {
            "line": {
             "colorbar": {
              "outlinewidth": 0,
              "ticks": ""
             }
            },
            "marker": {
             "colorbar": {
              "outlinewidth": 0,
              "ticks": ""
             }
            },
            "type": "scatter3d"
           }
          ],
          "scattercarpet": [
           {
            "marker": {
             "colorbar": {
              "outlinewidth": 0,
              "ticks": ""
             }
            },
            "type": "scattercarpet"
           }
          ],
          "scattergeo": [
           {
            "marker": {
             "colorbar": {
              "outlinewidth": 0,
              "ticks": ""
             }
            },
            "type": "scattergeo"
           }
          ],
          "scattergl": [
           {
            "marker": {
             "colorbar": {
              "outlinewidth": 0,
              "ticks": ""
             }
            },
            "type": "scattergl"
           }
          ],
          "scattermapbox": [
           {
            "marker": {
             "colorbar": {
              "outlinewidth": 0,
              "ticks": ""
             }
            },
            "type": "scattermapbox"
           }
          ],
          "scatterpolar": [
           {
            "marker": {
             "colorbar": {
              "outlinewidth": 0,
              "ticks": ""
             }
            },
            "type": "scatterpolar"
           }
          ],
          "scatterpolargl": [
           {
            "marker": {
             "colorbar": {
              "outlinewidth": 0,
              "ticks": ""
             }
            },
            "type": "scatterpolargl"
           }
          ],
          "scatterternary": [
           {
            "marker": {
             "colorbar": {
              "outlinewidth": 0,
              "ticks": ""
             }
            },
            "type": "scatterternary"
           }
          ],
          "surface": [
           {
            "colorbar": {
             "outlinewidth": 0,
             "ticks": ""
            },
            "colorscale": [
             [
              0,
              "#0d0887"
             ],
             [
              0.1111111111111111,
              "#46039f"
             ],
             [
              0.2222222222222222,
              "#7201a8"
             ],
             [
              0.3333333333333333,
              "#9c179e"
             ],
             [
              0.4444444444444444,
              "#bd3786"
             ],
             [
              0.5555555555555556,
              "#d8576b"
             ],
             [
              0.6666666666666666,
              "#ed7953"
             ],
             [
              0.7777777777777778,
              "#fb9f3a"
             ],
             [
              0.8888888888888888,
              "#fdca26"
             ],
             [
              1,
              "#f0f921"
             ]
            ],
            "type": "surface"
           }
          ],
          "table": [
           {
            "cells": {
             "fill": {
              "color": "#EBF0F8"
             },
             "line": {
              "color": "white"
             }
            },
            "header": {
             "fill": {
              "color": "#C8D4E3"
             },
             "line": {
              "color": "white"
             }
            },
            "type": "table"
           }
          ]
         },
         "layout": {
          "annotationdefaults": {
           "arrowcolor": "#2a3f5f",
           "arrowhead": 0,
           "arrowwidth": 1
          },
          "autotypenumbers": "strict",
          "coloraxis": {
           "colorbar": {
            "outlinewidth": 0,
            "ticks": ""
           }
          },
          "colorscale": {
           "diverging": [
            [
             0,
             "#8e0152"
            ],
            [
             0.1,
             "#c51b7d"
            ],
            [
             0.2,
             "#de77ae"
            ],
            [
             0.3,
             "#f1b6da"
            ],
            [
             0.4,
             "#fde0ef"
            ],
            [
             0.5,
             "#f7f7f7"
            ],
            [
             0.6,
             "#e6f5d0"
            ],
            [
             0.7,
             "#b8e186"
            ],
            [
             0.8,
             "#7fbc41"
            ],
            [
             0.9,
             "#4d9221"
            ],
            [
             1,
             "#276419"
            ]
           ],
           "sequential": [
            [
             0,
             "#0d0887"
            ],
            [
             0.1111111111111111,
             "#46039f"
            ],
            [
             0.2222222222222222,
             "#7201a8"
            ],
            [
             0.3333333333333333,
             "#9c179e"
            ],
            [
             0.4444444444444444,
             "#bd3786"
            ],
            [
             0.5555555555555556,
             "#d8576b"
            ],
            [
             0.6666666666666666,
             "#ed7953"
            ],
            [
             0.7777777777777778,
             "#fb9f3a"
            ],
            [
             0.8888888888888888,
             "#fdca26"
            ],
            [
             1,
             "#f0f921"
            ]
           ],
           "sequentialminus": [
            [
             0,
             "#0d0887"
            ],
            [
             0.1111111111111111,
             "#46039f"
            ],
            [
             0.2222222222222222,
             "#7201a8"
            ],
            [
             0.3333333333333333,
             "#9c179e"
            ],
            [
             0.4444444444444444,
             "#bd3786"
            ],
            [
             0.5555555555555556,
             "#d8576b"
            ],
            [
             0.6666666666666666,
             "#ed7953"
            ],
            [
             0.7777777777777778,
             "#fb9f3a"
            ],
            [
             0.8888888888888888,
             "#fdca26"
            ],
            [
             1,
             "#f0f921"
            ]
           ]
          },
          "colorway": [
           "#636efa",
           "#EF553B",
           "#00cc96",
           "#ab63fa",
           "#FFA15A",
           "#19d3f3",
           "#FF6692",
           "#B6E880",
           "#FF97FF",
           "#FECB52"
          ],
          "font": {
           "color": "#2a3f5f"
          },
          "geo": {
           "bgcolor": "white",
           "lakecolor": "white",
           "landcolor": "#E5ECF6",
           "showlakes": true,
           "showland": true,
           "subunitcolor": "white"
          },
          "hoverlabel": {
           "align": "left"
          },
          "hovermode": "closest",
          "mapbox": {
           "style": "light"
          },
          "paper_bgcolor": "white",
          "plot_bgcolor": "#E5ECF6",
          "polar": {
           "angularaxis": {
            "gridcolor": "white",
            "linecolor": "white",
            "ticks": ""
           },
           "bgcolor": "#E5ECF6",
           "radialaxis": {
            "gridcolor": "white",
            "linecolor": "white",
            "ticks": ""
           }
          },
          "scene": {
           "xaxis": {
            "backgroundcolor": "#E5ECF6",
            "gridcolor": "white",
            "gridwidth": 2,
            "linecolor": "white",
            "showbackground": true,
            "ticks": "",
            "zerolinecolor": "white"
           },
           "yaxis": {
            "backgroundcolor": "#E5ECF6",
            "gridcolor": "white",
            "gridwidth": 2,
            "linecolor": "white",
            "showbackground": true,
            "ticks": "",
            "zerolinecolor": "white"
           },
           "zaxis": {
            "backgroundcolor": "#E5ECF6",
            "gridcolor": "white",
            "gridwidth": 2,
            "linecolor": "white",
            "showbackground": true,
            "ticks": "",
            "zerolinecolor": "white"
           }
          },
          "shapedefaults": {
           "line": {
            "color": "#2a3f5f"
           }
          },
          "ternary": {
           "aaxis": {
            "gridcolor": "white",
            "linecolor": "white",
            "ticks": ""
           },
           "baxis": {
            "gridcolor": "white",
            "linecolor": "white",
            "ticks": ""
           },
           "bgcolor": "#E5ECF6",
           "caxis": {
            "gridcolor": "white",
            "linecolor": "white",
            "ticks": ""
           }
          },
          "title": {
           "x": 0.05
          },
          "xaxis": {
           "automargin": true,
           "gridcolor": "white",
           "linecolor": "white",
           "ticks": "",
           "title": {
            "standoff": 15
           },
           "zerolinecolor": "white",
           "zerolinewidth": 2
          },
          "yaxis": {
           "automargin": true,
           "gridcolor": "white",
           "linecolor": "white",
           "ticks": "",
           "title": {
            "standoff": 15
           },
           "zerolinecolor": "white",
           "zerolinewidth": 2
          }
         }
        },
        "title": {
         "text": "Hyperparameter Importances"
        },
        "xaxis": {
         "title": {
          "text": "Hyperparameter Importance"
         }
        },
        "yaxis": {
         "title": {
          "text": "Hyperparameter"
         }
        }
       }
      }
     },
     "metadata": {},
     "output_type": "display_data"
    },
    {
     "data": {
      "application/vnd.plotly.v1+json": {
       "config": {
        "plotlyServerURL": "https://plot.ly"
       },
       "data": [
        {
         "marker": {
          "color": [
           0,
           1,
           2,
           3,
           4,
           5,
           6,
           7,
           8,
           9,
           10,
           11,
           12,
           13,
           14,
           15,
           16,
           17,
           18,
           19,
           20,
           21,
           22,
           23,
           24,
           25,
           26,
           27,
           28,
           29,
           30,
           31,
           32,
           33,
           34,
           35,
           36,
           37,
           38,
           39,
           40,
           41,
           42,
           43,
           44,
           45,
           46,
           47,
           48,
           49
          ],
          "colorbar": {
           "title": {
            "text": "Trial"
           },
           "x": 1,
           "xpad": 40
          },
          "colorscale": [
           [
            0,
            "rgb(247,251,255)"
           ],
           [
            0.125,
            "rgb(222,235,247)"
           ],
           [
            0.25,
            "rgb(198,219,239)"
           ],
           [
            0.375,
            "rgb(158,202,225)"
           ],
           [
            0.5,
            "rgb(107,174,214)"
           ],
           [
            0.625,
            "rgb(66,146,198)"
           ],
           [
            0.75,
            "rgb(33,113,181)"
           ],
           [
            0.875,
            "rgb(8,81,156)"
           ],
           [
            1,
            "rgb(8,48,107)"
           ]
          ],
          "line": {
           "color": "Grey",
           "width": 0.5
          },
          "showscale": true
         },
         "mode": "markers",
         "name": "Feasible Trial",
         "showlegend": false,
         "type": "scatter",
         "x": [
          0.6232334448672797,
          0.6733618039413735,
          0.7824279936868144,
          0.9795542149013333,
          0.6137554084460873,
          0.9100531293444458,
          0.7554709158757928,
          0.9947547746402069,
          0.7433862914177091,
          0.8550229885420852,
          0.6060507263653538,
          0.6046928628827648,
          0.6833121064435295,
          0.6783676929682204,
          0.6394422928464841,
          0.7156271065739876,
          0.7238803118866864,
          0.8467677663406261,
          0.7032058382935239,
          0.8137042715510351,
          0.6553724219146176,
          0.6330988942414393,
          0.6207890228479968,
          0.7037912798877496,
          0.6554112407611402,
          0.7609600257803817,
          0.7166665700370984,
          0.6413444086632656,
          0.6054557645138428,
          0.6784967943771661,
          0.6672508331298881,
          0.6328029503982384,
          0.6340980729482607,
          0.7987952892795905,
          0.7998739856203676,
          0.8928011543897678,
          0.9414705414003753,
          0.7876620128733746,
          0.8280998427268168,
          0.7546042934026556,
          0.779096226746567,
          0.6205544885622435,
          0.695999921774401,
          0.7246290727019287,
          0.6643114669034609,
          0.6030528117542462,
          0.6473008028546633,
          0.8886573204751101,
          0.7373238229775813,
          0.7324475042616325
         ],
         "xaxis": "x",
         "y": [
          -259.59999999999985,
          -279.3999999999999,
          -325.79999999999995,
          -279.3999999999999,
          -244.79999999999987,
          -310.9999999999999,
          -294.19999999999993,
          -278.3999999999999,
          -325.7999999999999,
          -264.59999999999985,
          -343.5999999999999,
          -343.6,
          -278.3999999999999,
          -311,
          -311.9999999999999,
          -244.79999999999995,
          -278.4,
          -286.3999999999999,
          -278.3999999999999,
          -293.19999999999993,
          -376.19999999999993,
          -260.5999999999999,
          -279.3999999999999,
          -262.5999999999999,
          -281.3999999999999,
          -280.4,
          -327.7999999999999,
          -280.3999999999999,
          -279.3999999999999,
          -295.19999999999993,
          -294.19999999999993,
          -309.9999999999999,
          -308.9999999999999,
          -244.79999999999995,
          -292.19999999999993,
          -281.3999999999999,
          -311.9999999999999,
          -277.4,
          -311.9999999999999,
          -277.3999999999999,
          -300.19999999999993,
          -261.5999999999999,
          -277.3999999999999,
          -293.19999999999993,
          -358.3999999999999,
          -296.19999999999993,
          -298.1999999999999,
          -262.5999999999999,
          -232.99999999999991,
          -249.7999999999999
         ],
         "yaxis": "y"
        },
        {
         "marker": {
          "color": [
           0,
           1,
           2,
           3,
           4,
           5,
           6,
           7,
           8,
           9,
           10,
           11,
           12,
           13,
           14,
           15,
           16,
           17,
           18,
           19,
           20,
           21,
           22,
           23,
           24,
           25,
           26,
           27,
           28,
           29,
           30,
           31,
           32,
           33,
           34,
           35,
           36,
           37,
           38,
           39,
           40,
           41,
           42,
           43,
           44,
           45,
           46,
           47,
           48,
           49
          ],
          "colorbar": {
           "title": {
            "text": "Trial"
           },
           "x": 1,
           "xpad": 40
          },
          "colorscale": [
           [
            0,
            "rgb(247,251,255)"
           ],
           [
            0.125,
            "rgb(222,235,247)"
           ],
           [
            0.25,
            "rgb(198,219,239)"
           ],
           [
            0.375,
            "rgb(158,202,225)"
           ],
           [
            0.5,
            "rgb(107,174,214)"
           ],
           [
            0.625,
            "rgb(66,146,198)"
           ],
           [
            0.75,
            "rgb(33,113,181)"
           ],
           [
            0.875,
            "rgb(8,81,156)"
           ],
           [
            1,
            "rgb(8,48,107)"
           ]
          ],
          "line": {
           "color": "Grey",
           "width": 0.5
          },
          "showscale": false
         },
         "mode": "markers",
         "name": "Feasible Trial",
         "showlegend": false,
         "type": "scatter",
         "x": [
          0.06240745617697461,
          0.08493564427131046,
          0.11685785941408727,
          0.06820964947491662,
          0.048815293937911536,
          0.07394178221021082,
          0.018090915564215226,
          0.32087879230161587,
          0.3085081386743783,
          0.13007332881069883,
          0.21447543547910383,
          0.1898925643930462,
          0.010947079881574173,
          0.16676984333100026,
          0.25243373741558617,
          0.004880525208538468,
          0.0011779019870080008,
          0.12883177440299848,
          0.03714588398310181,
          0.2636340695110948,
          0.37124114729314905,
          0.05264928092598074,
          0.1048819780305098,
          0.039767001452666983,
          0.16003232205353748,
          0.08689778383565255,
          0.032375631618918904,
          0.0001352924069728768,
          0.061356777041120636,
          0.0978055252271974,
          0.14932929849749563,
          0.05308867479501383,
          0.084950210100768,
          0.04825261274692513,
          0.02267667248712517,
          0.06438430592020598,
          0.10369435268213184,
          0.07639072375951705,
          0.028710122719078038,
          0.12544836522016564,
          0.047282299407672944,
          0.05761937892146412,
          0.018288003256092138,
          0.06590878696450082,
          0.04373485142119706,
          0.08092029768766255,
          0.014316728017922081,
          0.10934206787458745,
          0.1974251183637835,
          0.2208820206786353
         ],
         "xaxis": "x2",
         "y": [
          -259.59999999999985,
          -279.3999999999999,
          -325.79999999999995,
          -279.3999999999999,
          -244.79999999999987,
          -310.9999999999999,
          -294.19999999999993,
          -278.3999999999999,
          -325.7999999999999,
          -264.59999999999985,
          -343.5999999999999,
          -343.6,
          -278.3999999999999,
          -311,
          -311.9999999999999,
          -244.79999999999995,
          -278.4,
          -286.3999999999999,
          -278.3999999999999,
          -293.19999999999993,
          -376.19999999999993,
          -260.5999999999999,
          -279.3999999999999,
          -262.5999999999999,
          -281.3999999999999,
          -280.4,
          -327.7999999999999,
          -280.3999999999999,
          -279.3999999999999,
          -295.19999999999993,
          -294.19999999999993,
          -309.9999999999999,
          -308.9999999999999,
          -244.79999999999995,
          -292.19999999999993,
          -281.3999999999999,
          -311.9999999999999,
          -277.4,
          -311.9999999999999,
          -277.3999999999999,
          -300.19999999999993,
          -261.5999999999999,
          -277.3999999999999,
          -293.19999999999993,
          -358.3999999999999,
          -296.19999999999993,
          -298.1999999999999,
          -262.5999999999999,
          -232.99999999999991,
          -249.7999999999999
         ],
         "yaxis": "y2"
        },
        {
         "marker": {
          "color": [
           0,
           1,
           2,
           3,
           4,
           5,
           6,
           7,
           8,
           9,
           10,
           11,
           12,
           13,
           14,
           15,
           16,
           17,
           18,
           19,
           20,
           21,
           22,
           23,
           24,
           25,
           26,
           27,
           28,
           29,
           30,
           31,
           32,
           33,
           34,
           35,
           36,
           37,
           38,
           39,
           40,
           41,
           42,
           43,
           44,
           45,
           46,
           47,
           48,
           49
          ],
          "colorbar": {
           "title": {
            "text": "Trial"
           },
           "x": 1,
           "xpad": 40
          },
          "colorscale": [
           [
            0,
            "rgb(247,251,255)"
           ],
           [
            0.125,
            "rgb(222,235,247)"
           ],
           [
            0.25,
            "rgb(198,219,239)"
           ],
           [
            0.375,
            "rgb(158,202,225)"
           ],
           [
            0.5,
            "rgb(107,174,214)"
           ],
           [
            0.625,
            "rgb(66,146,198)"
           ],
           [
            0.75,
            "rgb(33,113,181)"
           ],
           [
            0.875,
            "rgb(8,81,156)"
           ],
           [
            1,
            "rgb(8,48,107)"
           ]
          ],
          "line": {
           "color": "Grey",
           "width": 0.5
          },
          "showscale": false
         },
         "mode": "markers",
         "name": "Feasible Trial",
         "showlegend": false,
         "type": "scatter",
         "x": [
          0.17254716573280354,
          0.010636066512540286,
          0.023927528765580644,
          0.05898602410432694,
          0.013399060561509796,
          0.02544166090938368,
          0.15826541904647565,
          0.023200867504756827,
          0.11506408247250169,
          0.026946865572417687,
          0.010181283131439633,
          0.06576314691863702,
          0.0964724775767875,
          0.1893571899699074,
          0.043220193635896985,
          0.015123755992440441,
          0.015384671546585056,
          0.014281475351800396,
          0.015410501180994867,
          0.03615581608890234,
          0.018855722138439224,
          0.07774994410549736,
          0.040954812969069006,
          0.013025867173288986,
          0.03456276471622824,
          0.018838025047979153,
          0.13175809697521088,
          0.019179361850828257,
          0.029677912232698504,
          0.05454966520942964,
          0.012691197607475313,
          0.08813169184889007,
          0.07743051576123285,
          0.18995570723097283,
          0.1959897341639896,
          0.15139783630444306,
          0.1070825440113779,
          0.15404107237261797,
          0.12389899206292888,
          0.02235999478079805,
          0.010813651056019292,
          0.16557370589307824,
          0.053403716293085,
          0.07969432059916352,
          0.06612217368955924,
          0.17728034138260826,
          0.13937664867683827,
          0.1010135590334193,
          0.011648949675038826,
          0.010464725708835908
         ],
         "xaxis": "x3",
         "y": [
          -259.59999999999985,
          -279.3999999999999,
          -325.79999999999995,
          -279.3999999999999,
          -244.79999999999987,
          -310.9999999999999,
          -294.19999999999993,
          -278.3999999999999,
          -325.7999999999999,
          -264.59999999999985,
          -343.5999999999999,
          -343.6,
          -278.3999999999999,
          -311,
          -311.9999999999999,
          -244.79999999999995,
          -278.4,
          -286.3999999999999,
          -278.3999999999999,
          -293.19999999999993,
          -376.19999999999993,
          -260.5999999999999,
          -279.3999999999999,
          -262.5999999999999,
          -281.3999999999999,
          -280.4,
          -327.7999999999999,
          -280.3999999999999,
          -279.3999999999999,
          -295.19999999999993,
          -294.19999999999993,
          -309.9999999999999,
          -308.9999999999999,
          -244.79999999999995,
          -292.19999999999993,
          -281.3999999999999,
          -311.9999999999999,
          -277.4,
          -311.9999999999999,
          -277.3999999999999,
          -300.19999999999993,
          -261.5999999999999,
          -277.3999999999999,
          -293.19999999999993,
          -358.3999999999999,
          -296.19999999999993,
          -298.1999999999999,
          -262.5999999999999,
          -232.99999999999991,
          -249.7999999999999
         ],
         "yaxis": "y3"
        },
        {
         "marker": {
          "color": [
           0,
           1,
           2,
           3,
           4,
           5,
           6,
           7,
           8,
           9,
           10,
           11,
           12,
           13,
           14,
           15,
           16,
           17,
           18,
           19,
           20,
           21,
           22,
           23,
           24,
           25,
           26,
           27,
           28,
           29,
           30,
           31,
           32,
           33,
           34,
           35,
           36,
           37,
           38,
           39,
           40,
           41,
           42,
           43,
           44,
           45,
           46,
           47,
           48,
           49
          ],
          "colorbar": {
           "title": {
            "text": "Trial"
           },
           "x": 1,
           "xpad": 40
          },
          "colorscale": [
           [
            0,
            "rgb(247,251,255)"
           ],
           [
            0.125,
            "rgb(222,235,247)"
           ],
           [
            0.25,
            "rgb(198,219,239)"
           ],
           [
            0.375,
            "rgb(158,202,225)"
           ],
           [
            0.5,
            "rgb(107,174,214)"
           ],
           [
            0.625,
            "rgb(66,146,198)"
           ],
           [
            0.75,
            "rgb(33,113,181)"
           ],
           [
            0.875,
            "rgb(8,81,156)"
           ],
           [
            1,
            "rgb(8,48,107)"
           ]
          ],
          "line": {
           "color": "Grey",
           "width": 0.5
          },
          "showscale": false
         },
         "mode": "markers",
         "name": "Feasible Trial",
         "showlegend": false,
         "type": "scatter",
         "x": [
          6,
          5,
          2,
          8,
          2,
          9,
          9,
          2,
          9,
          5,
          0,
          6,
          3,
          7,
          4,
          0,
          0,
          1,
          2,
          1,
          3,
          6,
          0,
          4,
          1,
          3,
          7,
          6,
          4,
          1,
          5,
          6,
          7,
          8,
          8,
          10,
          8,
          2,
          10,
          9,
          5,
          6,
          7,
          8,
          5,
          6,
          4,
          7,
          0,
          0
         ],
         "xaxis": "x4",
         "y": [
          -259.59999999999985,
          -279.3999999999999,
          -325.79999999999995,
          -279.3999999999999,
          -244.79999999999987,
          -310.9999999999999,
          -294.19999999999993,
          -278.3999999999999,
          -325.7999999999999,
          -264.59999999999985,
          -343.5999999999999,
          -343.6,
          -278.3999999999999,
          -311,
          -311.9999999999999,
          -244.79999999999995,
          -278.4,
          -286.3999999999999,
          -278.3999999999999,
          -293.19999999999993,
          -376.19999999999993,
          -260.5999999999999,
          -279.3999999999999,
          -262.5999999999999,
          -281.3999999999999,
          -280.4,
          -327.7999999999999,
          -280.3999999999999,
          -279.3999999999999,
          -295.19999999999993,
          -294.19999999999993,
          -309.9999999999999,
          -308.9999999999999,
          -244.79999999999995,
          -292.19999999999993,
          -281.3999999999999,
          -311.9999999999999,
          -277.4,
          -311.9999999999999,
          -277.3999999999999,
          -300.19999999999993,
          -261.5999999999999,
          -277.3999999999999,
          -293.19999999999993,
          -358.3999999999999,
          -296.19999999999993,
          -298.1999999999999,
          -262.5999999999999,
          -232.99999999999991,
          -249.7999999999999
         ],
         "yaxis": "y4"
        },
        {
         "marker": {
          "color": [
           0,
           1,
           2,
           3,
           4,
           5,
           6,
           7,
           8,
           9,
           10,
           11,
           12,
           13,
           14,
           15,
           16,
           17,
           18,
           19,
           20,
           21,
           22,
           23,
           24,
           25,
           26,
           27,
           28,
           29,
           30,
           31,
           32,
           33,
           34,
           35,
           36,
           37,
           38,
           39,
           40,
           41,
           42,
           43,
           44,
           45,
           46,
           47,
           48,
           49
          ],
          "colorbar": {
           "title": {
            "text": "Trial"
           },
           "x": 1,
           "xpad": 40
          },
          "colorscale": [
           [
            0,
            "rgb(247,251,255)"
           ],
           [
            0.125,
            "rgb(222,235,247)"
           ],
           [
            0.25,
            "rgb(198,219,239)"
           ],
           [
            0.375,
            "rgb(158,202,225)"
           ],
           [
            0.5,
            "rgb(107,174,214)"
           ],
           [
            0.625,
            "rgb(66,146,198)"
           ],
           [
            0.75,
            "rgb(33,113,181)"
           ],
           [
            0.875,
            "rgb(8,81,156)"
           ],
           [
            1,
            "rgb(8,48,107)"
           ]
          ],
          "line": {
           "color": "Grey",
           "width": 0.5
          },
          "showscale": false
         },
         "mode": "markers",
         "name": "Feasible Trial",
         "showlegend": false,
         "type": "scatter",
         "x": [
          7,
          8,
          7,
          4,
          7,
          6,
          4,
          6,
          7,
          4,
          8,
          7,
          6,
          5,
          7,
          8,
          8,
          8,
          8,
          6,
          7,
          7,
          7,
          8,
          5,
          8,
          7,
          5,
          7,
          8,
          6,
          7,
          7,
          6,
          6,
          6,
          5,
          6,
          6,
          8,
          6,
          7,
          7,
          7,
          7,
          8,
          6,
          5,
          7,
          8
         ],
         "xaxis": "x5",
         "y": [
          -259.59999999999985,
          -279.3999999999999,
          -325.79999999999995,
          -279.3999999999999,
          -244.79999999999987,
          -310.9999999999999,
          -294.19999999999993,
          -278.3999999999999,
          -325.7999999999999,
          -264.59999999999985,
          -343.5999999999999,
          -343.6,
          -278.3999999999999,
          -311,
          -311.9999999999999,
          -244.79999999999995,
          -278.4,
          -286.3999999999999,
          -278.3999999999999,
          -293.19999999999993,
          -376.19999999999993,
          -260.5999999999999,
          -279.3999999999999,
          -262.5999999999999,
          -281.3999999999999,
          -280.4,
          -327.7999999999999,
          -280.3999999999999,
          -279.3999999999999,
          -295.19999999999993,
          -294.19999999999993,
          -309.9999999999999,
          -308.9999999999999,
          -244.79999999999995,
          -292.19999999999993,
          -281.3999999999999,
          -311.9999999999999,
          -277.4,
          -311.9999999999999,
          -277.3999999999999,
          -300.19999999999993,
          -261.5999999999999,
          -277.3999999999999,
          -293.19999999999993,
          -358.3999999999999,
          -296.19999999999993,
          -298.1999999999999,
          -262.5999999999999,
          -232.99999999999991,
          -249.7999999999999
         ],
         "yaxis": "y5"
        },
        {
         "marker": {
          "color": [
           0,
           1,
           2,
           3,
           4,
           5,
           6,
           7,
           8,
           9,
           10,
           11,
           12,
           13,
           14,
           15,
           16,
           17,
           18,
           19,
           20,
           21,
           22,
           23,
           24,
           25,
           26,
           27,
           28,
           29,
           30,
           31,
           32,
           33,
           34,
           35,
           36,
           37,
           38,
           39,
           40,
           41,
           42,
           43,
           44,
           45,
           46,
           47,
           48,
           49
          ],
          "colorbar": {
           "title": {
            "text": "Trial"
           },
           "x": 1,
           "xpad": 40
          },
          "colorscale": [
           [
            0,
            "rgb(247,251,255)"
           ],
           [
            0.125,
            "rgb(222,235,247)"
           ],
           [
            0.25,
            "rgb(198,219,239)"
           ],
           [
            0.375,
            "rgb(158,202,225)"
           ],
           [
            0.5,
            "rgb(107,174,214)"
           ],
           [
            0.625,
            "rgb(66,146,198)"
           ],
           [
            0.75,
            "rgb(33,113,181)"
           ],
           [
            0.875,
            "rgb(8,81,156)"
           ],
           [
            1,
            "rgb(8,48,107)"
           ]
          ],
          "line": {
           "color": "Grey",
           "width": 0.5
          },
          "showscale": false
         },
         "mode": "markers",
         "name": "Feasible Trial",
         "showlegend": false,
         "type": "scatter",
         "x": [
          1.0401663679887312,
          2.595942550311263,
          0.17258215396625,
          1.0769622478263126,
          0.5595074635794796,
          0.8488762161408708,
          0.21526280972215273,
          0.17355056469855074,
          1.7320535358459541,
          0.3375589571206083,
          0.4386603153334467,
          0.582658675711409,
          4.91578870796274,
          1.1234673928235268,
          0.1056049803337925,
          1.800086569735479,
          2.2779425336645787,
          4.100536013443725,
          1.6440597207771477,
          0.5416433613077386,
          0.32269244796640884,
          0.9248469132401388,
          1.4992115223105236,
          2.833172876515441,
          0.7280311075496486,
          1.425474260280519,
          0.5922193120043332,
          2.1045366753587516,
          3.426584432456785,
          1.1780418059029503,
          0.4143330065510209,
          0.9391199818686099,
          0.7730285680288618,
          1.2481728403227053,
          1.2587447844111366,
          2.0487046767962975,
          2.993409433904077,
          0.947657269649398,
          1.8556994647060432,
          0.681258782890746,
          0.2383957326214512,
          0.9500388566406404,
          1.2908037262817127,
          0.4688461347079349,
          0.8193179801501327,
          1.0440324278914566,
          2.5501895865171145,
          0.6467301852702783,
          1.6414283214247292,
          1.7117979552446185
         ],
         "xaxis": "x6",
         "y": [
          -259.59999999999985,
          -279.3999999999999,
          -325.79999999999995,
          -279.3999999999999,
          -244.79999999999987,
          -310.9999999999999,
          -294.19999999999993,
          -278.3999999999999,
          -325.7999999999999,
          -264.59999999999985,
          -343.5999999999999,
          -343.6,
          -278.3999999999999,
          -311,
          -311.9999999999999,
          -244.79999999999995,
          -278.4,
          -286.3999999999999,
          -278.3999999999999,
          -293.19999999999993,
          -376.19999999999993,
          -260.5999999999999,
          -279.3999999999999,
          -262.5999999999999,
          -281.3999999999999,
          -280.4,
          -327.7999999999999,
          -280.3999999999999,
          -279.3999999999999,
          -295.19999999999993,
          -294.19999999999993,
          -309.9999999999999,
          -308.9999999999999,
          -244.79999999999995,
          -292.19999999999993,
          -281.3999999999999,
          -311.9999999999999,
          -277.4,
          -311.9999999999999,
          -277.3999999999999,
          -300.19999999999993,
          -261.5999999999999,
          -277.3999999999999,
          -293.19999999999993,
          -358.3999999999999,
          -296.19999999999993,
          -298.1999999999999,
          -262.5999999999999,
          -232.99999999999991,
          -249.7999999999999
         ],
         "yaxis": "y6"
        },
        {
         "marker": {
          "color": [
           0,
           1,
           2,
           3,
           4,
           5,
           6,
           7,
           8,
           9,
           10,
           11,
           12,
           13,
           14,
           15,
           16,
           17,
           18,
           19,
           20,
           21,
           22,
           23,
           24,
           25,
           26,
           27,
           28,
           29,
           30,
           31,
           32,
           33,
           34,
           35,
           36,
           37,
           38,
           39,
           40,
           41,
           42,
           43,
           44,
           45,
           46,
           47,
           48,
           49
          ],
          "colorbar": {
           "title": {
            "text": "Trial"
           },
           "x": 1,
           "xpad": 40
          },
          "colorscale": [
           [
            0,
            "rgb(247,251,255)"
           ],
           [
            0.125,
            "rgb(222,235,247)"
           ],
           [
            0.25,
            "rgb(198,219,239)"
           ],
           [
            0.375,
            "rgb(158,202,225)"
           ],
           [
            0.5,
            "rgb(107,174,214)"
           ],
           [
            0.625,
            "rgb(66,146,198)"
           ],
           [
            0.75,
            "rgb(33,113,181)"
           ],
           [
            0.875,
            "rgb(8,81,156)"
           ],
           [
            1,
            "rgb(8,48,107)"
           ]
          ],
          "line": {
           "color": "Grey",
           "width": 0.5
          },
          "showscale": false
         },
         "mode": "markers",
         "name": "Feasible Trial",
         "showlegend": false,
         "type": "scatter",
         "x": [
          712,
          813,
          730,
          754,
          691,
          799,
          779,
          707,
          601,
          787,
          884,
          665,
          666,
          672,
          603,
          709,
          643,
          843,
          690,
          737,
          625,
          711,
          700,
          767,
          724,
          637,
          686,
          740,
          655,
          834,
          687,
          710,
          724,
          759,
          757,
          752,
          775,
          796,
          723,
          815,
          742,
          702,
          715,
          672,
          763,
          694,
          681,
          713,
          732,
          732
         ],
         "xaxis": "x7",
         "y": [
          -259.59999999999985,
          -279.3999999999999,
          -325.79999999999995,
          -279.3999999999999,
          -244.79999999999987,
          -310.9999999999999,
          -294.19999999999993,
          -278.3999999999999,
          -325.7999999999999,
          -264.59999999999985,
          -343.5999999999999,
          -343.6,
          -278.3999999999999,
          -311,
          -311.9999999999999,
          -244.79999999999995,
          -278.4,
          -286.3999999999999,
          -278.3999999999999,
          -293.19999999999993,
          -376.19999999999993,
          -260.5999999999999,
          -279.3999999999999,
          -262.5999999999999,
          -281.3999999999999,
          -280.4,
          -327.7999999999999,
          -280.3999999999999,
          -279.3999999999999,
          -295.19999999999993,
          -294.19999999999993,
          -309.9999999999999,
          -308.9999999999999,
          -244.79999999999995,
          -292.19999999999993,
          -281.3999999999999,
          -311.9999999999999,
          -277.4,
          -311.9999999999999,
          -277.3999999999999,
          -300.19999999999993,
          -261.5999999999999,
          -277.3999999999999,
          -293.19999999999993,
          -358.3999999999999,
          -296.19999999999993,
          -298.1999999999999,
          -262.5999999999999,
          -232.99999999999991,
          -249.7999999999999
         ],
         "yaxis": "y7"
        },
        {
         "marker": {
          "color": [
           0,
           1,
           2,
           3,
           4,
           5,
           6,
           7,
           8,
           9,
           10,
           11,
           12,
           13,
           14,
           15,
           16,
           17,
           18,
           19,
           20,
           21,
           22,
           23,
           24,
           25,
           26,
           27,
           28,
           29,
           30,
           31,
           32,
           33,
           34,
           35,
           36,
           37,
           38,
           39,
           40,
           41,
           42,
           43,
           44,
           45,
           46,
           47,
           48,
           49
          ],
          "colorbar": {
           "title": {
            "text": "Trial"
           },
           "x": 1,
           "xpad": 40
          },
          "colorscale": [
           [
            0,
            "rgb(247,251,255)"
           ],
           [
            0.125,
            "rgb(222,235,247)"
           ],
           [
            0.25,
            "rgb(198,219,239)"
           ],
           [
            0.375,
            "rgb(158,202,225)"
           ],
           [
            0.5,
            "rgb(107,174,214)"
           ],
           [
            0.625,
            "rgb(66,146,198)"
           ],
           [
            0.75,
            "rgb(33,113,181)"
           ],
           [
            0.875,
            "rgb(8,81,156)"
           ],
           [
            1,
            "rgb(8,48,107)"
           ]
          ],
          "line": {
           "color": "Grey",
           "width": 0.5
          },
          "showscale": false
         },
         "mode": "markers",
         "name": "Feasible Trial",
         "showlegend": false,
         "type": "scatter",
         "x": [
          35.31616510212273,
          15.64847850358382,
          32.481158648755475,
          38.79712115760958,
          36.826214072757374,
          37.88246295474662,
          14.497216112086356,
          32.02856692538301,
          9.05541708337954,
          36.05244599017143,
          26.474677682642564,
          26.251449591162896,
          30.548028565020335,
          20.189939012203364,
          39.753629255337415,
          27.186313970589545,
          25.364236126015605,
          21.849637897104202,
          29.65165063676354,
          19.635392879872597,
          5.406733656964356,
          34.64000098107312,
          34.47394926826139,
          28.085469178337455,
          36.08139518114357,
          33.88165126970879,
          29.27202511135813,
          37.07670443568785,
          24.15065303024192,
          14.613054653744944,
          18.018262015941986,
          34.04947160284902,
          32.80863626809645,
          39.839819532139096,
          38.158139455516604,
          39.00440116329314,
          31.84953194010488,
          36.59088292080579,
          39.83026242274194,
          28.059305653314215,
          31.494289696577702,
          34.7983213131155,
          37.53504141330106,
          35.305249381819046,
          11.48403355502871,
          33.00560236453789,
          38.172299304280024,
          30.41666923136629,
          35.870969782400486,
          39.817778800807176
         ],
         "xaxis": "x8",
         "y": [
          -259.59999999999985,
          -279.3999999999999,
          -325.79999999999995,
          -279.3999999999999,
          -244.79999999999987,
          -310.9999999999999,
          -294.19999999999993,
          -278.3999999999999,
          -325.7999999999999,
          -264.59999999999985,
          -343.5999999999999,
          -343.6,
          -278.3999999999999,
          -311,
          -311.9999999999999,
          -244.79999999999995,
          -278.4,
          -286.3999999999999,
          -278.3999999999999,
          -293.19999999999993,
          -376.19999999999993,
          -260.5999999999999,
          -279.3999999999999,
          -262.5999999999999,
          -281.3999999999999,
          -280.4,
          -327.7999999999999,
          -280.3999999999999,
          -279.3999999999999,
          -295.19999999999993,
          -294.19999999999993,
          -309.9999999999999,
          -308.9999999999999,
          -244.79999999999995,
          -292.19999999999993,
          -281.3999999999999,
          -311.9999999999999,
          -277.4,
          -311.9999999999999,
          -277.3999999999999,
          -300.19999999999993,
          -261.5999999999999,
          -277.3999999999999,
          -293.19999999999993,
          -358.3999999999999,
          -296.19999999999993,
          -298.1999999999999,
          -262.5999999999999,
          -232.99999999999991,
          -249.7999999999999
         ],
         "yaxis": "y8"
        },
        {
         "marker": {
          "color": [
           0,
           1,
           2,
           3,
           4,
           5,
           6,
           7,
           8,
           9,
           10,
           11,
           12,
           13,
           14,
           15,
           16,
           17,
           18,
           19,
           20,
           21,
           22,
           23,
           24,
           25,
           26,
           27,
           28,
           29,
           30,
           31,
           32,
           33,
           34,
           35,
           36,
           37,
           38,
           39,
           40,
           41,
           42,
           43,
           44,
           45,
           46,
           47,
           48,
           49
          ],
          "colorbar": {
           "title": {
            "text": "Trial"
           },
           "x": 1,
           "xpad": 40
          },
          "colorscale": [
           [
            0,
            "rgb(247,251,255)"
           ],
           [
            0.125,
            "rgb(222,235,247)"
           ],
           [
            0.25,
            "rgb(198,219,239)"
           ],
           [
            0.375,
            "rgb(158,202,225)"
           ],
           [
            0.5,
            "rgb(107,174,214)"
           ],
           [
            0.625,
            "rgb(66,146,198)"
           ],
           [
            0.75,
            "rgb(33,113,181)"
           ],
           [
            0.875,
            "rgb(8,81,156)"
           ],
           [
            1,
            "rgb(8,48,107)"
           ]
          ],
          "line": {
           "color": "Grey",
           "width": 0.5
          },
          "showscale": false
         },
         "mode": "markers",
         "name": "Feasible Trial",
         "showlegend": false,
         "type": "scatter",
         "x": [
          0.7467983561008608,
          0.7545474901621302,
          0.8099085529881075,
          0.7195154778955838,
          0.848553073033381,
          0.9908753883293675,
          0.7975990992289793,
          0.7223651931039312,
          0.7222133955202271,
          0.9188818535014192,
          0.8822140877344373,
          0.8418142019973845,
          0.9311699380601028,
          0.7866631935833808,
          0.8593372091054381,
          0.7683977018798643,
          0.8424040701179152,
          0.7701626284231518,
          0.8968131503264609,
          0.8212393937049974,
          0.9710526705672428,
          0.7593015079729779,
          0.7466587929981205,
          0.7796586619956891,
          0.7094864966043076,
          0.7464886527337307,
          0.8672552954718422,
          0.8207990357515927,
          0.7402851414389128,
          0.7006973838705174,
          0.8065428697040485,
          0.7628809593142369,
          0.7657313012941603,
          0.7341628395222654,
          0.7901779534015075,
          0.73355619065094,
          0.8263456861344919,
          0.7289757164086108,
          0.9499811004606267,
          0.7143423800803942,
          0.800274139927902,
          0.7533260716317197,
          0.7732725856864786,
          0.757432177395492,
          0.9004717514861839,
          0.7287764958373905,
          0.7862067969534751,
          0.702304220046907,
          0.7199786991208937,
          0.7184705630079126
         ],
         "xaxis": "x9",
         "y": [
          -259.59999999999985,
          -279.3999999999999,
          -325.79999999999995,
          -279.3999999999999,
          -244.79999999999987,
          -310.9999999999999,
          -294.19999999999993,
          -278.3999999999999,
          -325.7999999999999,
          -264.59999999999985,
          -343.5999999999999,
          -343.6,
          -278.3999999999999,
          -311,
          -311.9999999999999,
          -244.79999999999995,
          -278.4,
          -286.3999999999999,
          -278.3999999999999,
          -293.19999999999993,
          -376.19999999999993,
          -260.5999999999999,
          -279.3999999999999,
          -262.5999999999999,
          -281.3999999999999,
          -280.4,
          -327.7999999999999,
          -280.3999999999999,
          -279.3999999999999,
          -295.19999999999993,
          -294.19999999999993,
          -309.9999999999999,
          -308.9999999999999,
          -244.79999999999995,
          -292.19999999999993,
          -281.3999999999999,
          -311.9999999999999,
          -277.4,
          -311.9999999999999,
          -277.3999999999999,
          -300.19999999999993,
          -261.5999999999999,
          -277.3999999999999,
          -293.19999999999993,
          -358.3999999999999,
          -296.19999999999993,
          -298.1999999999999,
          -262.5999999999999,
          -232.99999999999991,
          -249.7999999999999
         ],
         "yaxis": "y9"
        }
       ],
       "layout": {
        "template": {
         "data": {
          "bar": [
           {
            "error_x": {
             "color": "#2a3f5f"
            },
            "error_y": {
             "color": "#2a3f5f"
            },
            "marker": {
             "line": {
              "color": "#E5ECF6",
              "width": 0.5
             },
             "pattern": {
              "fillmode": "overlay",
              "size": 10,
              "solidity": 0.2
             }
            },
            "type": "bar"
           }
          ],
          "barpolar": [
           {
            "marker": {
             "line": {
              "color": "#E5ECF6",
              "width": 0.5
             },
             "pattern": {
              "fillmode": "overlay",
              "size": 10,
              "solidity": 0.2
             }
            },
            "type": "barpolar"
           }
          ],
          "carpet": [
           {
            "aaxis": {
             "endlinecolor": "#2a3f5f",
             "gridcolor": "white",
             "linecolor": "white",
             "minorgridcolor": "white",
             "startlinecolor": "#2a3f5f"
            },
            "baxis": {
             "endlinecolor": "#2a3f5f",
             "gridcolor": "white",
             "linecolor": "white",
             "minorgridcolor": "white",
             "startlinecolor": "#2a3f5f"
            },
            "type": "carpet"
           }
          ],
          "choropleth": [
           {
            "colorbar": {
             "outlinewidth": 0,
             "ticks": ""
            },
            "type": "choropleth"
           }
          ],
          "contour": [
           {
            "colorbar": {
             "outlinewidth": 0,
             "ticks": ""
            },
            "colorscale": [
             [
              0,
              "#0d0887"
             ],
             [
              0.1111111111111111,
              "#46039f"
             ],
             [
              0.2222222222222222,
              "#7201a8"
             ],
             [
              0.3333333333333333,
              "#9c179e"
             ],
             [
              0.4444444444444444,
              "#bd3786"
             ],
             [
              0.5555555555555556,
              "#d8576b"
             ],
             [
              0.6666666666666666,
              "#ed7953"
             ],
             [
              0.7777777777777778,
              "#fb9f3a"
             ],
             [
              0.8888888888888888,
              "#fdca26"
             ],
             [
              1,
              "#f0f921"
             ]
            ],
            "type": "contour"
           }
          ],
          "contourcarpet": [
           {
            "colorbar": {
             "outlinewidth": 0,
             "ticks": ""
            },
            "type": "contourcarpet"
           }
          ],
          "heatmap": [
           {
            "colorbar": {
             "outlinewidth": 0,
             "ticks": ""
            },
            "colorscale": [
             [
              0,
              "#0d0887"
             ],
             [
              0.1111111111111111,
              "#46039f"
             ],
             [
              0.2222222222222222,
              "#7201a8"
             ],
             [
              0.3333333333333333,
              "#9c179e"
             ],
             [
              0.4444444444444444,
              "#bd3786"
             ],
             [
              0.5555555555555556,
              "#d8576b"
             ],
             [
              0.6666666666666666,
              "#ed7953"
             ],
             [
              0.7777777777777778,
              "#fb9f3a"
             ],
             [
              0.8888888888888888,
              "#fdca26"
             ],
             [
              1,
              "#f0f921"
             ]
            ],
            "type": "heatmap"
           }
          ],
          "heatmapgl": [
           {
            "colorbar": {
             "outlinewidth": 0,
             "ticks": ""
            },
            "colorscale": [
             [
              0,
              "#0d0887"
             ],
             [
              0.1111111111111111,
              "#46039f"
             ],
             [
              0.2222222222222222,
              "#7201a8"
             ],
             [
              0.3333333333333333,
              "#9c179e"
             ],
             [
              0.4444444444444444,
              "#bd3786"
             ],
             [
              0.5555555555555556,
              "#d8576b"
             ],
             [
              0.6666666666666666,
              "#ed7953"
             ],
             [
              0.7777777777777778,
              "#fb9f3a"
             ],
             [
              0.8888888888888888,
              "#fdca26"
             ],
             [
              1,
              "#f0f921"
             ]
            ],
            "type": "heatmapgl"
           }
          ],
          "histogram": [
           {
            "marker": {
             "pattern": {
              "fillmode": "overlay",
              "size": 10,
              "solidity": 0.2
             }
            },
            "type": "histogram"
           }
          ],
          "histogram2d": [
           {
            "colorbar": {
             "outlinewidth": 0,
             "ticks": ""
            },
            "colorscale": [
             [
              0,
              "#0d0887"
             ],
             [
              0.1111111111111111,
              "#46039f"
             ],
             [
              0.2222222222222222,
              "#7201a8"
             ],
             [
              0.3333333333333333,
              "#9c179e"
             ],
             [
              0.4444444444444444,
              "#bd3786"
             ],
             [
              0.5555555555555556,
              "#d8576b"
             ],
             [
              0.6666666666666666,
              "#ed7953"
             ],
             [
              0.7777777777777778,
              "#fb9f3a"
             ],
             [
              0.8888888888888888,
              "#fdca26"
             ],
             [
              1,
              "#f0f921"
             ]
            ],
            "type": "histogram2d"
           }
          ],
          "histogram2dcontour": [
           {
            "colorbar": {
             "outlinewidth": 0,
             "ticks": ""
            },
            "colorscale": [
             [
              0,
              "#0d0887"
             ],
             [
              0.1111111111111111,
              "#46039f"
             ],
             [
              0.2222222222222222,
              "#7201a8"
             ],
             [
              0.3333333333333333,
              "#9c179e"
             ],
             [
              0.4444444444444444,
              "#bd3786"
             ],
             [
              0.5555555555555556,
              "#d8576b"
             ],
             [
              0.6666666666666666,
              "#ed7953"
             ],
             [
              0.7777777777777778,
              "#fb9f3a"
             ],
             [
              0.8888888888888888,
              "#fdca26"
             ],
             [
              1,
              "#f0f921"
             ]
            ],
            "type": "histogram2dcontour"
           }
          ],
          "mesh3d": [
           {
            "colorbar": {
             "outlinewidth": 0,
             "ticks": ""
            },
            "type": "mesh3d"
           }
          ],
          "parcoords": [
           {
            "line": {
             "colorbar": {
              "outlinewidth": 0,
              "ticks": ""
             }
            },
            "type": "parcoords"
           }
          ],
          "pie": [
           {
            "automargin": true,
            "type": "pie"
           }
          ],
          "scatter": [
           {
            "fillpattern": {
             "fillmode": "overlay",
             "size": 10,
             "solidity": 0.2
            },
            "type": "scatter"
           }
          ],
          "scatter3d": [
           {
            "line": {
             "colorbar": {
              "outlinewidth": 0,
              "ticks": ""
             }
            },
            "marker": {
             "colorbar": {
              "outlinewidth": 0,
              "ticks": ""
             }
            },
            "type": "scatter3d"
           }
          ],
          "scattercarpet": [
           {
            "marker": {
             "colorbar": {
              "outlinewidth": 0,
              "ticks": ""
             }
            },
            "type": "scattercarpet"
           }
          ],
          "scattergeo": [
           {
            "marker": {
             "colorbar": {
              "outlinewidth": 0,
              "ticks": ""
             }
            },
            "type": "scattergeo"
           }
          ],
          "scattergl": [
           {
            "marker": {
             "colorbar": {
              "outlinewidth": 0,
              "ticks": ""
             }
            },
            "type": "scattergl"
           }
          ],
          "scattermapbox": [
           {
            "marker": {
             "colorbar": {
              "outlinewidth": 0,
              "ticks": ""
             }
            },
            "type": "scattermapbox"
           }
          ],
          "scatterpolar": [
           {
            "marker": {
             "colorbar": {
              "outlinewidth": 0,
              "ticks": ""
             }
            },
            "type": "scatterpolar"
           }
          ],
          "scatterpolargl": [
           {
            "marker": {
             "colorbar": {
              "outlinewidth": 0,
              "ticks": ""
             }
            },
            "type": "scatterpolargl"
           }
          ],
          "scatterternary": [
           {
            "marker": {
             "colorbar": {
              "outlinewidth": 0,
              "ticks": ""
             }
            },
            "type": "scatterternary"
           }
          ],
          "surface": [
           {
            "colorbar": {
             "outlinewidth": 0,
             "ticks": ""
            },
            "colorscale": [
             [
              0,
              "#0d0887"
             ],
             [
              0.1111111111111111,
              "#46039f"
             ],
             [
              0.2222222222222222,
              "#7201a8"
             ],
             [
              0.3333333333333333,
              "#9c179e"
             ],
             [
              0.4444444444444444,
              "#bd3786"
             ],
             [
              0.5555555555555556,
              "#d8576b"
             ],
             [
              0.6666666666666666,
              "#ed7953"
             ],
             [
              0.7777777777777778,
              "#fb9f3a"
             ],
             [
              0.8888888888888888,
              "#fdca26"
             ],
             [
              1,
              "#f0f921"
             ]
            ],
            "type": "surface"
           }
          ],
          "table": [
           {
            "cells": {
             "fill": {
              "color": "#EBF0F8"
             },
             "line": {
              "color": "white"
             }
            },
            "header": {
             "fill": {
              "color": "#C8D4E3"
             },
             "line": {
              "color": "white"
             }
            },
            "type": "table"
           }
          ]
         },
         "layout": {
          "annotationdefaults": {
           "arrowcolor": "#2a3f5f",
           "arrowhead": 0,
           "arrowwidth": 1
          },
          "autotypenumbers": "strict",
          "coloraxis": {
           "colorbar": {
            "outlinewidth": 0,
            "ticks": ""
           }
          },
          "colorscale": {
           "diverging": [
            [
             0,
             "#8e0152"
            ],
            [
             0.1,
             "#c51b7d"
            ],
            [
             0.2,
             "#de77ae"
            ],
            [
             0.3,
             "#f1b6da"
            ],
            [
             0.4,
             "#fde0ef"
            ],
            [
             0.5,
             "#f7f7f7"
            ],
            [
             0.6,
             "#e6f5d0"
            ],
            [
             0.7,
             "#b8e186"
            ],
            [
             0.8,
             "#7fbc41"
            ],
            [
             0.9,
             "#4d9221"
            ],
            [
             1,
             "#276419"
            ]
           ],
           "sequential": [
            [
             0,
             "#0d0887"
            ],
            [
             0.1111111111111111,
             "#46039f"
            ],
            [
             0.2222222222222222,
             "#7201a8"
            ],
            [
             0.3333333333333333,
             "#9c179e"
            ],
            [
             0.4444444444444444,
             "#bd3786"
            ],
            [
             0.5555555555555556,
             "#d8576b"
            ],
            [
             0.6666666666666666,
             "#ed7953"
            ],
            [
             0.7777777777777778,
             "#fb9f3a"
            ],
            [
             0.8888888888888888,
             "#fdca26"
            ],
            [
             1,
             "#f0f921"
            ]
           ],
           "sequentialminus": [
            [
             0,
             "#0d0887"
            ],
            [
             0.1111111111111111,
             "#46039f"
            ],
            [
             0.2222222222222222,
             "#7201a8"
            ],
            [
             0.3333333333333333,
             "#9c179e"
            ],
            [
             0.4444444444444444,
             "#bd3786"
            ],
            [
             0.5555555555555556,
             "#d8576b"
            ],
            [
             0.6666666666666666,
             "#ed7953"
            ],
            [
             0.7777777777777778,
             "#fb9f3a"
            ],
            [
             0.8888888888888888,
             "#fdca26"
            ],
            [
             1,
             "#f0f921"
            ]
           ]
          },
          "colorway": [
           "#636efa",
           "#EF553B",
           "#00cc96",
           "#ab63fa",
           "#FFA15A",
           "#19d3f3",
           "#FF6692",
           "#B6E880",
           "#FF97FF",
           "#FECB52"
          ],
          "font": {
           "color": "#2a3f5f"
          },
          "geo": {
           "bgcolor": "white",
           "lakecolor": "white",
           "landcolor": "#E5ECF6",
           "showlakes": true,
           "showland": true,
           "subunitcolor": "white"
          },
          "hoverlabel": {
           "align": "left"
          },
          "hovermode": "closest",
          "mapbox": {
           "style": "light"
          },
          "paper_bgcolor": "white",
          "plot_bgcolor": "#E5ECF6",
          "polar": {
           "angularaxis": {
            "gridcolor": "white",
            "linecolor": "white",
            "ticks": ""
           },
           "bgcolor": "#E5ECF6",
           "radialaxis": {
            "gridcolor": "white",
            "linecolor": "white",
            "ticks": ""
           }
          },
          "scene": {
           "xaxis": {
            "backgroundcolor": "#E5ECF6",
            "gridcolor": "white",
            "gridwidth": 2,
            "linecolor": "white",
            "showbackground": true,
            "ticks": "",
            "zerolinecolor": "white"
           },
           "yaxis": {
            "backgroundcolor": "#E5ECF6",
            "gridcolor": "white",
            "gridwidth": 2,
            "linecolor": "white",
            "showbackground": true,
            "ticks": "",
            "zerolinecolor": "white"
           },
           "zaxis": {
            "backgroundcolor": "#E5ECF6",
            "gridcolor": "white",
            "gridwidth": 2,
            "linecolor": "white",
            "showbackground": true,
            "ticks": "",
            "zerolinecolor": "white"
           }
          },
          "shapedefaults": {
           "line": {
            "color": "#2a3f5f"
           }
          },
          "ternary": {
           "aaxis": {
            "gridcolor": "white",
            "linecolor": "white",
            "ticks": ""
           },
           "baxis": {
            "gridcolor": "white",
            "linecolor": "white",
            "ticks": ""
           },
           "bgcolor": "#E5ECF6",
           "caxis": {
            "gridcolor": "white",
            "linecolor": "white",
            "ticks": ""
           }
          },
          "title": {
           "x": 0.05
          },
          "xaxis": {
           "automargin": true,
           "gridcolor": "white",
           "linecolor": "white",
           "ticks": "",
           "title": {
            "standoff": 15
           },
           "zerolinecolor": "white",
           "zerolinewidth": 2
          },
          "yaxis": {
           "automargin": true,
           "gridcolor": "white",
           "linecolor": "white",
           "ticks": "",
           "title": {
            "standoff": 15
           },
           "zerolinecolor": "white",
           "zerolinewidth": 2
          }
         }
        },
        "title": {
         "text": "Slice Plot"
        },
        "width": 2700,
        "xaxis": {
         "anchor": "y",
         "domain": [
          0,
          0.09135802469135802
         ],
         "title": {
          "text": "colsample_bytree"
         }
        },
        "xaxis2": {
         "anchor": "y2",
         "domain": [
          0.11358024691358025,
          0.20493827160493827
         ],
         "title": {
          "text": "gamma"
         }
        },
        "xaxis3": {
         "anchor": "y3",
         "domain": [
          0.2271604938271605,
          0.31851851851851853
         ],
         "title": {
          "text": "learning_rate"
         },
         "type": "log"
        },
        "xaxis4": {
         "anchor": "y4",
         "domain": [
          0.34074074074074073,
          0.43209876543209874
         ],
         "title": {
          "text": "max_delta_step"
         }
        },
        "xaxis5": {
         "anchor": "y5",
         "domain": [
          0.454320987654321,
          0.5456790123456791
         ],
         "title": {
          "text": "max_depth"
         }
        },
        "xaxis6": {
         "anchor": "y6",
         "domain": [
          0.5679012345679012,
          0.6592592592592592
         ],
         "title": {
          "text": "min_child_weight"
         },
         "type": "log"
        },
        "xaxis7": {
         "anchor": "y7",
         "domain": [
          0.6814814814814815,
          0.7728395061728395
         ],
         "title": {
          "text": "n_estimators"
         }
        },
        "xaxis8": {
         "anchor": "y8",
         "domain": [
          0.7950617283950617,
          0.8864197530864197
         ],
         "title": {
          "text": "scale_pos_weight"
         }
        },
        "xaxis9": {
         "anchor": "y9",
         "domain": [
          0.908641975308642,
          1
         ],
         "title": {
          "text": "subsample"
         }
        },
        "yaxis": {
         "anchor": "x",
         "domain": [
          0,
          1
         ],
         "title": {
          "text": "Objective Value"
         }
        },
        "yaxis2": {
         "anchor": "x2",
         "domain": [
          0,
          1
         ],
         "matches": "y",
         "showticklabels": false
        },
        "yaxis3": {
         "anchor": "x3",
         "domain": [
          0,
          1
         ],
         "matches": "y",
         "showticklabels": false
        },
        "yaxis4": {
         "anchor": "x4",
         "domain": [
          0,
          1
         ],
         "matches": "y",
         "showticklabels": false
        },
        "yaxis5": {
         "anchor": "x5",
         "domain": [
          0,
          1
         ],
         "matches": "y",
         "showticklabels": false
        },
        "yaxis6": {
         "anchor": "x6",
         "domain": [
          0,
          1
         ],
         "matches": "y",
         "showticklabels": false
        },
        "yaxis7": {
         "anchor": "x7",
         "domain": [
          0,
          1
         ],
         "matches": "y",
         "showticklabels": false
        },
        "yaxis8": {
         "anchor": "x8",
         "domain": [
          0,
          1
         ],
         "matches": "y",
         "showticklabels": false
        },
        "yaxis9": {
         "anchor": "x9",
         "domain": [
          0,
          1
         ],
         "matches": "y",
         "showticklabels": false
        }
       }
      }
     },
     "metadata": {},
     "output_type": "display_data"
    }
   ],
   "source": [
    "optuna.visualization.plot_optimization_history(study).show()\n",
    "optuna.visualization.plot_param_importances(study).show()\n",
    "optuna.visualization.plot_slice(study).show()"
   ]
  },
  {
   "cell_type": "markdown",
   "id": "2c8c7bdc",
   "metadata": {},
   "source": [
    "# Load Baseline XGBoost Models from MLflow"
   ]
  },
  {
   "cell_type": "code",
   "execution_count": 5,
   "id": "90f3ffc4",
   "metadata": {},
   "outputs": [
    {
     "name": "stdout",
     "output_type": "stream",
     "text": [
      "Found run ID for XGBoost: 0ec9e0741ccf48a38cbc71a2df61a030\n"
     ]
    }
   ],
   "source": [
    "mlruns_path = os.path.abspath(\"../mlruns\")\n",
    "mlflow.set_tracking_uri(f\"file:..///{mlruns_path}\")\n",
    "client = MlflowClient()\n",
    "experiment_id = \"811282905201061413\"\n",
    "runs = client.search_runs(\n",
    "    experiment_ids=[experiment_id],\n",
    "    order_by=[\"start_time desc\"]\n",
    ")\n",
    "\n",
    "xgb_run = next(\n",
    "run for run in runs\n",
    "if run.data.tags.get(\"mlflow.runName\", \"\") == \"XGBoost\"\n",
    ")\n",
    "xgb_run_id = xgb_run.info.run_id\n",
    "print(f\"Found run ID for XGBoost: {xgb_run_id}\")\n",
    "\n",
    "xgb_artifact_path = os.path.join(mlruns_path, experiment_id, xgb_run_id, \"artifacts\", \"XGBoost.pkl\")\n",
    "\n",
    "with open(xgb_artifact_path, \"rb\") as f:\n",
    "    xgb_baseline_model = pickle.load(f)"
   ]
  },
  {
   "cell_type": "markdown",
   "id": "8d906374",
   "metadata": {},
   "source": [
    "# Final XGBoost Model Training & Test Set Evaluation"
   ]
  },
  {
   "cell_type": "code",
   "execution_count": 6,
   "id": "902ac8cf",
   "metadata": {},
   "outputs": [
    {
     "name": "stdout",
     "output_type": "stream",
     "text": [
      "Baseline XGB Optimal Threshold @ 60% FN Penalty = 0.064, Max Profit = $-26\n",
      "Tuned XGB Optimal Threshold @ 60% FN Penalty = 0.250, Max Profit = $73\n",
      "Profit Improvement from Tuning = $99\n"
     ]
    }
   ],
   "source": [
    "best_params = {\n",
    "**study.best_trial.params,\n",
    "\"objective\": \"binary:logistic\",\n",
    "\"eval_metric\": \"logloss\",\n",
    "\"random_state\": 42,\n",
    "\"n_jobs\": -1,\n",
    "\"tree_method\": \"hist\"\n",
    "}\n",
    "\n",
    "final_xgb_model = xgb.XGBClassifier(**best_params)\n",
    "final_xgb_model.fit(X_train, Y_train)\n",
    "\n",
    "xgb_probs = final_xgb_model.predict_proba(X_test)[:, 1]\n",
    "xgb_probs_baseline = xgb_baseline_model.predict_proba(X_test)[:, 1]\n",
    "taus = np.linspace(0.0, 1.0, 501)\n",
    "xgb_profits = [profit(Y_test, (xgb_probs >= t).astype(int)) for t in taus]\n",
    "xgb_profits_baseline = [profit(Y_test, (xgb_probs_baseline >= t).astype(int)) for t in taus]\n",
    "\n",
    "xgb_best_tau_idx = int(np.argmax(xgb_profits))\n",
    "xgb_best_tau_idx_baseline = int(np.argmax(xgb_profits_baseline))\n",
    "xgb_best_tau = taus[xgb_best_tau_idx]\n",
    "xgb_best_tau_baseline = taus[xgb_best_tau_idx_baseline]\n",
    "xgb_best_profit = xgb_profits[xgb_best_tau_idx]\n",
    "xgb_best_profit_baseline = xgb_profits_baseline[xgb_best_tau_idx_baseline]\n",
    "\n",
    "print(f\"Baseline XGB Optimal Threshold @ 60% FN Penalty = {xgb_best_tau_baseline:.3f}, Max Profit = ${xgb_best_profit_baseline:,.0f}\")\n",
    "print(f\"Tuned XGB Optimal Threshold @ 60% FN Penalty = {xgb_best_tau:.3f}, Max Profit = ${xgb_best_profit:,.0f}\")\n",
    "improvement = xgb_best_profit - xgb_best_profit_baseline\n",
    "print(f\"Profit Improvement from Tuning = ${improvement:.0f}\")\n"
   ]
  },
  {
   "cell_type": "markdown",
   "id": "8a18114e",
   "metadata": {},
   "source": [
    "# Compare and Log Tuned XGB Model"
   ]
  },
  {
   "cell_type": "code",
   "execution_count": 7,
   "id": "bec3dea1",
   "metadata": {},
   "outputs": [
    {
     "name": "stdout",
     "output_type": "stream",
     "text": [
      "\n",
      "Confusion Matrix - Baseline:\n",
      "[[56854    10]\n",
      " [   16    82]]\n",
      "\n",
      "Classification Report - Baseline:\n",
      "              precision    recall  f1-score   support\n",
      "\n",
      "           0       1.00      1.00      1.00     56864\n",
      "           1       0.89      0.84      0.86        98\n",
      "\n",
      "    accuracy                           1.00     56962\n",
      "   macro avg       0.95      0.92      0.93     56962\n",
      "weighted avg       1.00      1.00      1.00     56962\n",
      "\n",
      "\n",
      "Confusion Matrix - Tuned:\n",
      "[[56851    13]\n",
      " [   17    81]]\n",
      "\n",
      "Classification Report - Tuned:\n",
      "              precision    recall  f1-score   support\n",
      "\n",
      "           0       1.00      1.00      1.00     56864\n",
      "           1       0.86      0.83      0.84        98\n",
      "\n",
      "    accuracy                           1.00     56962\n",
      "   macro avg       0.93      0.91      0.92     56962\n",
      "weighted avg       1.00      1.00      1.00     56962\n",
      "\n"
     ]
    },
    {
     "name": "stderr",
     "output_type": "stream",
     "text": [
      "2025/05/27 17:30:14 WARNING mlflow.models.model: Model logged without a signature and input example. Please set `input_example` parameter when logging the model to auto infer the model signature.\n",
      "Successfully registered model 'XGB_Tuned_Model'.\n",
      "Created version '1' of model 'XGB_Tuned_Model'.\n"
     ]
    }
   ],
   "source": [
    "y_pred_base = xgb_baseline_model.predict(X_test)\n",
    "y_proba_base = xgb_baseline_model.predict_proba(X_test)[:, 1]\n",
    "\n",
    "y_pred_tuned = final_xgb_model.predict(X_test)\n",
    "y_proba_tuned = final_xgb_model.predict_proba(X_test)[:, 1]\n",
    "\n",
    "print(\"\\nConfusion Matrix - Baseline:\")\n",
    "print(confusion_matrix(Y_test, y_pred_base))\n",
    "print(\"\\nClassification Report - Baseline:\")\n",
    "print(classification_report(Y_test, y_pred_base))\n",
    "\n",
    "print(\"\\nConfusion Matrix - Tuned:\")\n",
    "print(confusion_matrix(Y_test, y_pred_tuned))\n",
    "print(\"\\nClassification Report - Tuned:\")\n",
    "print(classification_report(Y_test, y_pred_tuned))\n",
    "\n",
    "metrics = {\n",
    "\"roc_auc\": roc_auc_score(Y_test, y_proba_tuned),\n",
    "\"average_precision\": average_precision_score(Y_test, y_proba_tuned),\n",
    "\"f1\": f1_score(Y_test, y_pred_tuned),\n",
    "\"recall\": recall_score(Y_test, y_pred_tuned),\n",
    "\"precision\": precision_score(Y_test, y_pred_tuned)\n",
    "}\n",
    "\n",
    "confusion_matrix_path = \"confusion_matrix.txt\"\n",
    "classification_report_path = \"classification_report.txt\"\n",
    "with open(confusion_matrix_path, \"w\") as f:\n",
    "    f.write(f\"Confusion Matrix:\\n{confusion_matrix(Y_test, y_pred_tuned)}\")\n",
    "with open(classification_report_path, \"w\") as f:\n",
    "    f.write(f\"Classification Report:\\n{classification_report(Y_test, y_pred_tuned)}\")\n",
    "\n",
    "model_name = \"XGB_Tuned_Model\"\n",
    "local_model_dir = os.path.abspath(\"../models\")\n",
    "os.makedirs(local_model_dir, exist_ok=True)\n",
    "local_model_path = os.path.join(local_model_dir, f\"{model_name}.pkl\")\n",
    "with open(local_model_path, \"wb\") as f:\n",
    "    pickle.dump(final_xgb_model, f)\n",
    "\n",
    "mlflow_model_path = f\"{model_name}.pkl\"\n",
    "with open(mlflow_model_path, \"wb\") as f:\n",
    "    pickle.dump(final_xgb_model, f)\n",
    "\n",
    "with mlflow.start_run(run_name=model_name):\n",
    "    mlflow.log_metrics(metrics)\n",
    "    mlflow.log_artifact(confusion_matrix_path)\n",
    "    mlflow.log_artifact(classification_report_path)\n",
    "    mlflow.log_artifact(mlflow_model_path)\n",
    "\n",
    "    mlflow.sklearn.log_model(final_xgb_model, artifact_path=\"model\", registered_model_name=model_name)\n",
    "mlflow.end_run()\n",
    "\n",
    "os.remove(confusion_matrix_path)\n",
    "os.remove(classification_report_path)\n",
    "os.remove(mlflow_model_path)"
   ]
  },
  {
   "cell_type": "markdown",
   "id": "baa3c028",
   "metadata": {},
   "source": [
    "# Stage Tuned XGBoost Model"
   ]
  },
  {
   "cell_type": "code",
   "execution_count": 8,
   "id": "0ca38c50",
   "metadata": {},
   "outputs": [
    {
     "name": "stdout",
     "output_type": "stream",
     "text": [
      "Pushed XGB_Tuned_Model version 1 to Staging.\n"
     ]
    },
    {
     "name": "stderr",
     "output_type": "stream",
     "text": [
      "C:\\Users\\raira\\AppData\\Local\\Temp\\ipykernel_37024\\1350366918.py:2: FutureWarning: ``mlflow.tracking.client.MlflowClient.get_latest_versions`` is deprecated since 2.9.0. Model registry stages will be removed in a future major release. To learn more about the deprecation of model registry stages, see our migration guide here: https://mlflow.org/docs/latest/model-registry.html#migrating-from-stages\n",
      "  latest_version = client.get_latest_versions(model_name, stages=[\"None\"])[0].version\n",
      "C:\\Users\\raira\\AppData\\Local\\Temp\\ipykernel_37024\\1350366918.py:3: FutureWarning: ``mlflow.tracking.client.MlflowClient.transition_model_version_stage`` is deprecated since 2.9.0. Model registry stages will be removed in a future major release. To learn more about the deprecation of model registry stages, see our migration guide here: https://mlflow.org/docs/latest/model-registry.html#migrating-from-stages\n",
      "  client.transition_model_version_stage(\n"
     ]
    }
   ],
   "source": [
    "client = MlflowClient()\n",
    "latest_version = client.get_latest_versions(model_name, stages=[\"None\"])[0].version\n",
    "client.transition_model_version_stage(\n",
    "name=model_name,\n",
    "version=latest_version,\n",
    "stage=\"Staging\",\n",
    "archive_existing_versions=True\n",
    ")\n",
    "print(f\"Pushed {model_name} version {latest_version} to Staging.\")"
   ]
  },
  {
   "cell_type": "markdown",
   "id": "62842a9a",
   "metadata": {},
   "source": [
    "# Hyperparameter Tuning (XGB) Insights"
   ]
  },
  {
   "cell_type": "markdown",
   "id": "569ce7f7",
   "metadata": {},
   "source": [
    "**Goal:** \n",
    "Optimize XGBoost using business-aligned profit as the objective under a 60% FN-penalty assumption to reflect costly fraud misses.\n",
    "\n",
    "**Approach**\n",
    "- Applied Optuna with Bayesian optimization (`TPESampler`) to tune hyperparameters on a stratified 5-fold CV.\n",
    "- Tuned model evaluated on test set by simulating thresholds from 0 → 1 to find the profit-maximizing threshold.\n",
    "- Compared to a previously logged baseline XGBoost model retrieved from MLflow.\n",
    "\n",
    "**Key Results**\n",
    "- Tuned XGB Optimal Threshold (60% FN Penalty): **0.250**\n",
    "- Max Profit (Tuned): **\\$73**\n",
    "- Baseline XGB Profit (60% FN Penalty): **-\\$26**\n",
    "- Improvement from Tuning: **\\$99 gain per 56k transactions**\n",
    "\n",
    "**Model Evaluation**\n",
    "- Improved recall at a moderate cost to precision.\n",
    "- ROC-AUC and PR-AUC also slightly improved over the baseline.\n",
    "- Confusion matrix and classification report show fewer false negatives with the tuned model.\n",
    "\n",
    "**MLOps**\n",
    "- Tuned model logged and registered via MLflow.\n",
    "- Metrics, confusion matrix, and classification report saved as tracked artifacts.\n",
    "- Model version pushed to **Staging** in MLflow Registry."
   ]
  }
 ],
 "metadata": {
  "kernelspec": {
   "display_name": "Python 3",
   "language": "python",
   "name": "python3"
  },
  "language_info": {
   "codemirror_mode": {
    "name": "ipython",
    "version": 3
   },
   "file_extension": ".py",
   "mimetype": "text/x-python",
   "name": "python",
   "nbconvert_exporter": "python",
   "pygments_lexer": "ipython3",
   "version": "3.12.6"
  }
 },
 "nbformat": 4,
 "nbformat_minor": 5
}
