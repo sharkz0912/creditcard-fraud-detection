{
 "cells": [
  {
   "cell_type": "markdown",
   "id": "62c1786b",
   "metadata": {},
   "source": [
    "# Import Libraries"
   ]
  },
  {
   "cell_type": "code",
   "execution_count": 1,
   "id": "36b65e0f",
   "metadata": {},
   "outputs": [],
   "source": [
    "import os\n",
    "import optuna\n",
    "import pickle\n",
    "import mlflow\n",
    "import joblib\n",
    "import numpy as np\n",
    "import mlflow.sklearn\n",
    "import xgboost as xgb\n",
    "import seaborn as sns\n",
    "import matplotlib.pyplot as plt\n",
    "from mlflow.tracking import MlflowClient\n",
    "from imblearn.over_sampling import SMOTE\n",
    "from optuna.integration.mlflow import MLflowCallback\n",
    "from sklearn.model_selection import train_test_split, StratifiedKFold\n",
    "from sklearn.metrics import classification_report, confusion_matrix, roc_auc_score, average_precision_score, f1_score, recall_score, precision_score"
   ]
  },
  {
   "cell_type": "markdown",
   "id": "388048ca",
   "metadata": {},
   "source": [
    "# Load Data"
   ]
  },
  {
   "cell_type": "code",
   "execution_count": 2,
   "id": "94dd3ce5",
   "metadata": {},
   "outputs": [],
   "source": [
    "X_train, X_test, Y_train, Y_test = joblib.load(\"../data/processed/split_data.pkl\")"
   ]
  },
  {
   "cell_type": "markdown",
   "id": "f4c10db1",
   "metadata": {},
   "source": [
    "# Create New MLflow Experiment"
   ]
  },
  {
   "cell_type": "code",
   "execution_count": 3,
   "id": "f961a9e2",
   "metadata": {},
   "outputs": [
    {
     "name": "stderr",
     "output_type": "stream",
     "text": [
      "C:\\Users\\raira\\AppData\\Local\\Temp\\ipykernel_34924\\3314759884.py:3: ExperimentalWarning: MLflowCallback is experimental (supported from v1.4.0). The interface can change in the future.\n",
      "  mlflc = MLflowCallback(\n",
      "[I 2025-05-27 22:34:30,503] A new study created in RDB with name: XGB + SMOTE Profit Tuning\n"
     ]
    }
   ],
   "source": [
    "mlruns_path = os.path.abspath(\"../mlruns\")\n",
    "mlflow.set_tracking_uri(f\"file:..///{mlruns_path}\")\n",
    "mlflc = MLflowCallback(\n",
    "    tracking_uri=mlflow.get_tracking_uri(),\n",
    "    metric_name=\"profit\"\n",
    ")\n",
    "\n",
    "study = optuna.create_study(\n",
    "    study_name=\"XGB + SMOTE Profit Tuning\",\n",
    "    direction=\"maximize\",\n",
    "    sampler=optuna.samplers.TPESampler(seed=42),\n",
    "    storage=\"sqlite:///../mlruns/xgb_smote_profit_tuning.db\",\n",
    "    load_if_exists=True\n",
    ")"
   ]
  },
  {
   "cell_type": "markdown",
   "id": "5b7800ae",
   "metadata": {},
   "source": [
    "# Hyperparameter Tuning XGBoost + SMOTE Model (Bayesian Search)"
   ]
  },
  {
   "cell_type": "code",
   "execution_count": 4,
   "id": "f847678c",
   "metadata": {},
   "outputs": [
    {
     "data": {
      "application/vnd.jupyter.widget-view+json": {
       "model_id": "2824793aeb4c4ca9b0d7bf9f88527411",
       "version_major": 2,
       "version_minor": 0
      },
      "text/plain": [
       "  0%|          | 0/50 [00:00<?, ?it/s]"
      ]
     },
     "metadata": {},
     "output_type": "display_data"
    },
    {
     "name": "stderr",
     "output_type": "stream",
     "text": [
      "2025/05/27 22:35:23 INFO mlflow.tracking.fluent: Experiment with name 'XGB + SMOTE Profit Tuning' does not exist. Creating a new experiment.\n"
     ]
    },
    {
     "name": "stdout",
     "output_type": "stream",
     "text": [
      "[I 2025-05-27 22:35:23,461] Trial 0 finished with value: 305.4 and parameters: {'n_estimators': 637, 'learning_rate': 0.14886262201211786, 'max_depth': 8, 'min_child_weight': 0.6251373574521749, 'gamma': 0.07800932022121826, 'subsample': 0.5779972601681014, 'colsample_bytree': 0.6232334448672797, 'max_delta_step': 9}. Best is trial 0 with value: 305.4.\n",
      "[I 2025-05-27 22:36:36,616] Trial 1 finished with value: -117.39999999999998 and parameters: {'n_estimators': 841, 'learning_rate': 0.034787028257996074, 'max_depth': 3, 'min_child_weight': 8.123245085588687, 'gamma': 0.41622132040021087, 'subsample': 0.6061695553391381, 'colsample_bytree': 0.6727299868828402, 'max_delta_step': 2}. Best is trial 0 with value: 305.4.\n",
      "[I 2025-05-27 22:37:41,562] Trial 2 finished with value: -225.4 and parameters: {'n_estimators': 574, 'learning_rate': 0.011598924466766455, 'max_depth': 6, 'min_child_weight': 0.07476312062252301, 'gamma': 0.30592644736118974, 'subsample': 0.569746930326021, 'colsample_bytree': 0.7168578594140873, 'max_delta_step': 4}. Best is trial 0 with value: 305.4.\n",
      "[I 2025-05-27 22:38:50,955] Trial 3 finished with value: 235.8000000000001 and parameters: {'n_estimators': 710, 'learning_rate': 0.055213459515736196, 'max_depth': 4, 'min_child_weight': 0.34890188454913873, 'gamma': 0.29620728443102123, 'subsample': 0.5232252063599989, 'colsample_bytree': 0.8430179407605753, 'max_delta_step': 1}. Best is trial 0 with value: 305.4.\n",
      "[I 2025-05-27 22:39:31,652] Trial 4 finished with value: 295.8 and parameters: {'n_estimators': 358, 'learning_rate': 0.14724043680961832, 'max_depth': 9, 'min_child_weight': 2.6619018884890564, 'gamma': 0.15230688458668534, 'subsample': 0.5488360570031919, 'colsample_bytree': 0.8736932106048627, 'max_delta_step': 4}. Best is trial 0 with value: 305.4.\n",
      "[I 2025-05-27 22:40:05,922] Trial 5 finished with value: -2267.6 and parameters: {'n_estimators': 409, 'learning_rate': 0.009715161640377407, 'max_depth': 3, 'min_child_weight': 5.345166110646819, 'gamma': 0.12938999080000846, 'subsample': 0.831261142176991, 'colsample_bytree': 0.7246844304357644, 'max_delta_step': 5}. Best is trial 0 with value: 305.4.\n",
      "[I 2025-05-27 22:42:06,511] Trial 6 finished with value: -178.79999999999993 and parameters: {'n_estimators': 792, 'learning_rate': 0.0015134650182984423, 'max_depth': 9, 'min_child_weight': 2.1154290797261215, 'gamma': 0.46974947078209456, 'subsample': 0.9474136752138245, 'colsample_bytree': 0.8391599915244341, 'max_delta_step': 10}. Best is trial 0 with value: 305.4.\n",
      "[I 2025-05-27 22:42:42,024] Trial 7 finished with value: -4634.2 and parameters: {'n_estimators': 379, 'learning_rate': 0.0016178161616817175, 'max_depth': 3, 'min_child_weight': 0.09462175356461491, 'gamma': 0.194338644844741, 'subsample': 0.6356745158869479, 'colsample_bytree': 0.9314950036607718, 'max_delta_step': 3}. Best is trial 0 with value: 305.4.\n",
      "[I 2025-05-27 22:43:29,403] Trial 8 finished with value: -2108.2 and parameters: {'n_estimators': 553, 'learning_rate': 0.012915099897772675, 'max_depth': 3, 'min_child_weight': 2.5502980701628926, 'gamma': 0.03727532183988541, 'subsample': 0.9934434683002586, 'colsample_bytree': 0.908897907718663, 'max_delta_step': 2}. Best is trial 0 with value: 305.4.\n",
      "[I 2025-05-27 22:44:09,503] Trial 9 finished with value: 277.8 and parameters: {'n_estimators': 304, 'learning_rate': 0.06619871537619336, 'max_depth': 7, 'min_child_weight': 1.5382308040278996, 'gamma': 0.38563517334297287, 'subsample': 0.5370223258670452, 'colsample_bytree': 0.7433862914177091, 'max_delta_step': 1}. Best is trial 0 with value: 305.4.\n",
      "[I 2025-05-27 22:46:12,075] Trial 10 finished with value: -260.6 and parameters: {'n_estimators': 1106, 'learning_rate': 0.0005182926310126857, 'max_depth': 7, 'min_child_weight': 0.01132102180423038, 'gamma': 0.007683868664052143, 'subsample': 0.7190404637309149, 'colsample_bytree': 0.6060576948411027, 'max_delta_step': 9}. Best is trial 0 with value: 305.4.\n",
      "[I 2025-05-27 22:47:17,435] Trial 11 finished with value: 272.6 and parameters: {'n_estimators': 1006, 'learning_rate': 0.19502395377574622, 'max_depth': 9, 'min_child_weight': 0.5990937895571765, 'gamma': 0.1167235717698462, 'subsample': 0.6975337768549552, 'colsample_bytree': 0.9795761300441179, 'max_delta_step': 7}. Best is trial 0 with value: 305.4.\n",
      "[I 2025-05-27 22:48:02,606] Trial 12 finished with value: 290.4 and parameters: {'n_estimators': 542, 'learning_rate': 0.19777302346890807, 'max_depth': 8, 'min_child_weight': 0.8417063037735232, 'gamma': 0.13066263156829958, 'subsample': 0.5046555777845694, 'colsample_bytree': 0.7874820875551369, 'max_delta_step': 7}. Best is trial 0 with value: 305.4.\n",
      "[I 2025-05-27 22:49:11,119] Trial 13 finished with value: 283.6 and parameters: {'n_estimators': 659, 'learning_rate': 0.09026194589439383, 'max_depth': 8, 'min_child_weight': 0.12785868619453924, 'gamma': 0.07639569329519566, 'subsample': 0.8304278626461434, 'colsample_bytree': 0.6115030766107388, 'max_delta_step': 6}. Best is trial 0 with value: 305.4.\n",
      "[I 2025-05-27 22:50:55,328] Trial 14 finished with value: 287.40000000000003 and parameters: {'n_estimators': 873, 'learning_rate': 0.026619097699121998, 'max_depth': 6, 'min_child_weight': 0.23296755935885294, 'gamma': 0.2033356295452699, 'subsample': 0.651723150444279, 'colsample_bytree': 0.893935819264609, 'max_delta_step': 8}. Best is trial 0 with value: 305.4.\n",
      "[I 2025-05-27 22:51:35,864] Trial 15 finished with value: 276.6 and parameters: {'n_estimators': 473, 'learning_rate': 0.11011242129943638, 'max_depth': 8, 'min_child_weight': 0.031381149231882115, 'gamma': 0.22616315643880422, 'subsample': 0.7967945385475436, 'colsample_bytree': 0.8318264197864259, 'max_delta_step': 5}. Best is trial 0 with value: 305.4.\n",
      "[I 2025-05-27 22:52:19,911] Trial 16 finished with value: -88.79999999999991 and parameters: {'n_estimators': 309, 'learning_rate': 0.005084446113648767, 'max_depth': 9, 'min_child_weight': 3.879555467818439, 'gamma': 0.16201605006775435, 'subsample': 0.5939491377055859, 'colsample_bytree': 0.7822247457988033, 'max_delta_step': 10}. Best is trial 0 with value: 305.4.\n",
      "[I 2025-05-27 22:53:50,513] Trial 17 finished with value: 264.40000000000003 and parameters: {'n_estimators': 954, 'learning_rate': 0.028239928602292682, 'max_depth': 5, 'min_child_weight': 0.94896791575319, 'gamma': 0.07467864047884067, 'subsample': 0.6707750474677462, 'colsample_bytree': 0.6683886491275017, 'max_delta_step': 4}. Best is trial 0 with value: 305.4.\n",
      "[I 2025-05-27 22:54:37,648] Trial 18 finished with value: 287.4 and parameters: {'n_estimators': 643, 'learning_rate': 0.13292702078897078, 'max_depth': 7, 'min_child_weight': 0.3938266821068358, 'gamma': 0.27004751005679706, 'subsample': 0.7533881284358336, 'colsample_bytree': 0.9981115928105939, 'max_delta_step': 0}. Best is trial 0 with value: 305.4.\n",
      "[I 2025-05-27 22:55:37,850] Trial 19 finished with value: 270.0 and parameters: {'n_estimators': 446, 'learning_rate': 0.04178064513208245, 'max_depth': 8, 'min_child_weight': 1.6893806027344118, 'gamma': 0.059052034925492936, 'subsample': 0.5736120808852527, 'colsample_bytree': 0.8783547787549184, 'max_delta_step': 8}. Best is trial 0 with value: 305.4.\n",
      "[I 2025-05-27 22:57:24,655] Trial 20 finished with value: 239.8 and parameters: {'n_estimators': 754, 'learning_rate': 0.019467265156903023, 'max_depth': 9, 'min_child_weight': 0.19705406434342268, 'gamma': 0.33805498772353254, 'subsample': 0.7496498782182923, 'colsample_bytree': 0.9455198244794488, 'max_delta_step': 6}. Best is trial 0 with value: 305.4.\n",
      "[I 2025-05-27 22:58:10,294] Trial 21 finished with value: 271.2 and parameters: {'n_estimators': 528, 'learning_rate': 0.19139602969312342, 'max_depth': 8, 'min_child_weight': 0.7640107481737557, 'gamma': 0.13740891421267268, 'subsample': 0.5008410273198123, 'colsample_bytree': 0.7646239779119828, 'max_delta_step': 8}. Best is trial 0 with value: 305.4.\n",
      "[I 2025-05-27 22:59:04,962] Trial 22 finished with value: 277.6 and parameters: {'n_estimators': 609, 'learning_rate': 0.08968597379230246, 'max_depth': 8, 'min_child_weight': 1.0363227161857758, 'gamma': 0.17775937934227015, 'subsample': 0.5484853721510957, 'colsample_bytree': 0.8103493961621379, 'max_delta_step': 7}. Best is trial 0 with value: 305.4.\n",
      "[I 2025-05-27 22:59:44,787] Trial 23 finished with value: 297.4 and parameters: {'n_estimators': 488, 'learning_rate': 0.19011613236608804, 'max_depth': 7, 'min_child_weight': 0.492988668446176, 'gamma': 0.10043700498086088, 'subsample': 0.617683261540186, 'colsample_bytree': 0.6648274117894588, 'max_delta_step': 9}. Best is trial 0 with value: 305.4.\n",
      "[I 2025-05-27 23:00:34,539] Trial 24 finished with value: 255.8 and parameters: {'n_estimators': 478, 'learning_rate': 0.06226773685280021, 'max_depth': 6, 'min_child_weight': 9.826740452177596, 'gamma': 0.09742932185094433, 'subsample': 0.6221144155921522, 'colsample_bytree': 0.6558667542906086, 'max_delta_step': 9}. Best is trial 0 with value: 305.4.\n",
      "[I 2025-05-27 23:01:23,272] Trial 25 finished with value: 309.8 and parameters: {'n_estimators': 376, 'learning_rate': 0.11780549783176551, 'max_depth': 7, 'min_child_weight': 0.33117648065599964, 'gamma': 0.007196960146638287, 'subsample': 0.5770570987170854, 'colsample_bytree': 0.6422230443238732, 'max_delta_step': 9}. Best is trial 25 with value: 309.8.\n",
      "[I 2025-05-27 23:02:45,948] Trial 26 finished with value: 292.00000000000006 and parameters: {'n_estimators': 671, 'learning_rate': 0.08629125576551479, 'max_depth': 7, 'min_child_weight': 0.4307743754225539, 'gamma': 0.005229780877342161, 'subsample': 0.6949628191602379, 'colsample_bytree': 0.6391730982750156, 'max_delta_step': 9}. Best is trial 25 with value: 309.8.\n",
      "[I 2025-05-27 23:03:37,984] Trial 27 finished with value: -1072.0 and parameters: {'n_estimators': 480, 'learning_rate': 0.004760638891402726, 'max_depth': 5, 'min_child_weight': 0.053665559163850615, 'gamma': 0.03840001655398875, 'subsample': 0.5984315958210278, 'colsample_bytree': 0.6934765039297069, 'max_delta_step': 10}. Best is trial 25 with value: 309.8.\n",
      "[I 2025-05-27 23:04:24,539] Trial 28 finished with value: 287.8 and parameters: {'n_estimators': 370, 'learning_rate': 0.04774051175813904, 'max_depth': 7, 'min_child_weight': 0.2024252983621731, 'gamma': 0.03547251214369216, 'subsample': 0.650002078145779, 'colsample_bytree': 0.6895408883053928, 'max_delta_step': 9}. Best is trial 25 with value: 309.8.\n",
      "[I 2025-05-27 23:05:29,976] Trial 29 finished with value: 281.6 and parameters: {'n_estimators': 814, 'learning_rate': 0.11921657083389012, 'max_depth': 6, 'min_child_weight': 0.560448123895573, 'gamma': 0.09496003912986002, 'subsample': 0.605690596421204, 'colsample_bytree': 0.6315466357261564, 'max_delta_step': 8}. Best is trial 25 with value: 309.8.\n",
      "[I 2025-05-27 23:06:12,057] Trial 30 finished with value: -333.0 and parameters: {'n_estimators': 432, 'learning_rate': 0.019271191991498515, 'max_depth': 5, 'min_child_weight': 0.13576273917790843, 'gamma': 0.0006225393284621517, 'subsample': 0.5685175506741637, 'colsample_bytree': 0.6402888115222659, 'max_delta_step': 10}. Best is trial 25 with value: 309.8.\n",
      "[I 2025-05-27 23:06:50,696] Trial 31 finished with value: 296.8 and parameters: {'n_estimators': 353, 'learning_rate': 0.14256018847587248, 'max_depth': 9, 'min_child_weight': 4.709324939800523, 'gamma': 0.051235474800395975, 'subsample': 0.5726326282318149, 'colsample_bytree': 0.6840257252181997, 'max_delta_step': 3}. Best is trial 25 with value: 309.8.\n",
      "[I 2025-05-27 23:07:42,251] Trial 32 finished with value: 288.4000000000001 and parameters: {'n_estimators': 515, 'learning_rate': 0.15132224956486973, 'max_depth': 7, 'min_child_weight': 6.000029984369752, 'gamma': 0.05600926241803353, 'subsample': 0.5835859437421063, 'colsample_bytree': 0.6869089433050847, 'max_delta_step': 3}. Best is trial 25 with value: 309.8.\n",
      "[I 2025-05-27 23:08:31,082] Trial 33 finished with value: 280.6 and parameters: {'n_estimators': 352, 'learning_rate': 0.06813127562646501, 'max_depth': 8, 'min_child_weight': 0.25688696707127595, 'gamma': 0.09716858338110398, 'subsample': 0.6144854707985706, 'colsample_bytree': 0.7174505960838787, 'max_delta_step': 6}. Best is trial 25 with value: 309.8.\n",
      "[I 2025-05-27 23:09:38,830] Trial 34 finished with value: 298.4 and parameters: {'n_estimators': 583, 'learning_rate': 0.11067443204303139, 'max_depth': 9, 'min_child_weight': 1.1660594485895914, 'gamma': 0.03285328175261782, 'subsample': 0.5397523903538466, 'colsample_bytree': 0.6612071907870587, 'max_delta_step': 3}. Best is trial 25 with value: 309.8.\n",
      "[I 2025-05-27 23:10:54,286] Trial 35 finished with value: 300.8 and parameters: {'n_estimators': 597, 'learning_rate': 0.039784460156762534, 'max_depth': 7, 'min_child_weight': 1.2493189550872934, 'gamma': 0.02762231704535499, 'subsample': 0.5294385180895341, 'colsample_bytree': 0.6003523697184783, 'max_delta_step': 9}. Best is trial 25 with value: 309.8.\n",
      "[I 2025-05-27 23:12:06,988] Trial 36 finished with value: 293.4 and parameters: {'n_estimators': 605, 'learning_rate': 0.035035660226907246, 'max_depth': 8, 'min_child_weight': 1.2512067538817722, 'gamma': 0.024302104985162082, 'subsample': 0.5343119527665035, 'colsample_bytree': 0.6195563704486614, 'max_delta_step': 7}. Best is trial 25 with value: 309.8.\n",
      "[I 2025-05-27 23:13:27,054] Trial 37 finished with value: 291.4 and parameters: {'n_estimators': 752, 'learning_rate': 0.056126728852871365, 'max_depth': 9, 'min_child_weight': 3.640160157744684, 'gamma': 0.07478953909973564, 'subsample': 0.517810801518841, 'colsample_bytree': 0.652156241137956, 'max_delta_step': 4}. Best is trial 25 with value: 309.8.\n",
      "[I 2025-05-27 23:14:24,035] Trial 38 finished with value: 305.20000000000005 and parameters: {'n_estimators': 701, 'learning_rate': 0.09412225440655114, 'max_depth': 6, 'min_child_weight': 1.7681936096208934, 'gamma': 0.4713386595732588, 'subsample': 0.5531236104887309, 'colsample_bytree': 0.6050832624393397, 'max_delta_step': 2}. Best is trial 25 with value: 309.8.\n",
      "[I 2025-05-27 23:15:38,736] Trial 39 finished with value: 273.6 and parameters: {'n_estimators': 873, 'learning_rate': 0.07942511343367077, 'max_depth': 6, 'min_child_weight': 0.33957169526985925, 'gamma': 0.48992263569968086, 'subsample': 0.561327581678862, 'colsample_bytree': 0.6026955449228255, 'max_delta_step': 0}. Best is trial 25 with value: 309.8.\n",
      "[I 2025-05-27 23:16:50,835] Trial 40 finished with value: 262.8 and parameters: {'n_estimators': 683, 'learning_rate': 0.0447169886902192, 'max_depth': 5, 'min_child_weight': 2.0557025251149685, 'gamma': 0.3861036314593588, 'subsample': 0.6636022284498319, 'colsample_bytree': 0.6223644680307718, 'max_delta_step': 1}. Best is trial 25 with value: 309.8.\n",
      "[I 2025-05-27 23:17:48,850] Trial 41 finished with value: 298.8 and parameters: {'n_estimators': 583, 'learning_rate': 0.09135167866492153, 'max_depth': 6, 'min_child_weight': 1.291296208122227, 'gamma': 0.2928964625818664, 'subsample': 0.5366093281640608, 'colsample_bytree': 0.6391576010329512, 'max_delta_step': 2}. Best is trial 25 with value: 309.8.\n",
      "[I 2025-05-27 23:18:49,087] Trial 42 finished with value: 290.8 and parameters: {'n_estimators': 699, 'learning_rate': 0.09926673926893055, 'max_depth': 6, 'min_child_weight': 2.786688066997921, 'gamma': 0.4460380679068837, 'subsample': 0.5183460264811075, 'colsample_bytree': 0.6329247154736289, 'max_delta_step': 2}. Best is trial 25 with value: 309.8.\n",
      "[I 2025-05-27 23:19:54,775] Trial 43 finished with value: 298.8 and parameters: {'n_estimators': 732, 'learning_rate': 0.06306086166591088, 'max_depth': 6, 'min_child_weight': 0.6670438837278988, 'gamma': 0.3191303354280147, 'subsample': 0.5508406946819653, 'colsample_bytree': 0.6014899278556308, 'max_delta_step': 2}. Best is trial 25 with value: 309.8.\n",
      "[I 2025-05-27 23:20:43,042] Trial 44 finished with value: 288.4 and parameters: {'n_estimators': 634, 'learning_rate': 0.14378070788352215, 'max_depth': 7, 'min_child_weight': 1.574600028278175, 'gamma': 0.35645750815531346, 'subsample': 0.5293186011280115, 'colsample_bytree': 0.7395296006671987, 'max_delta_step': 10}. Best is trial 25 with value: 309.8.\n",
      "[I 2025-05-27 23:21:33,035] Trial 45 finished with value: -1935.2 and parameters: {'n_estimators': 576, 'learning_rate': 0.007540014239175769, 'max_depth': 4, 'min_child_weight': 2.312250450295015, 'gamma': 0.25903528219670224, 'subsample': 0.6330522654986235, 'colsample_bytree': 0.7037598142957925, 'max_delta_step': 1}. Best is trial 25 with value: 309.8.\n",
      "[I 2025-05-27 23:22:57,580] Trial 46 finished with value: 292.8 and parameters: {'n_estimators': 782, 'learning_rate': 0.033874036404638826, 'max_depth': 6, 'min_child_weight': 1.37814297145321, 'gamma': 0.4136938687789151, 'subsample': 0.5027969607022454, 'colsample_bytree': 0.6453823509918785, 'max_delta_step': 5}. Best is trial 25 with value: 309.8.\n",
      "[I 2025-05-27 23:25:20,703] Trial 47 finished with value: 274.6 and parameters: {'n_estimators': 1177, 'learning_rate': 0.018958395842863063, 'max_depth': 7, 'min_child_weight': 0.7419550671252163, 'gamma': 0.22103882007359307, 'subsample': 0.9275133114228717, 'colsample_bytree': 0.6209404076360141, 'max_delta_step': 8}. Best is trial 25 with value: 309.8.\n",
      "[I 2025-05-27 23:26:12,054] Trial 48 finished with value: 288.40000000000003 and parameters: {'n_estimators': 556, 'learning_rate': 0.07859925586166756, 'max_depth': 7, 'min_child_weight': 0.27845498683178355, 'gamma': 0.2837288546978885, 'subsample': 0.5884329587924731, 'colsample_bytree': 0.6023506026406293, 'max_delta_step': 0}. Best is trial 25 with value: 309.8.\n",
      "[I 2025-05-27 23:27:25,564] Trial 49 finished with value: -645.1999999999999 and parameters: {'n_estimators': 723, 'learning_rate': 0.0020285413895751235, 'max_depth': 6, 'min_child_weight': 3.2521503541295123, 'gamma': 0.4405467047023246, 'subsample': 0.8875278728669203, 'colsample_bytree': 0.6737347600065828, 'max_delta_step': 2}. Best is trial 25 with value: 309.8.\n",
      "\n",
      "Best Cross-Validated Profit: $310\n",
      "Best Params:\n",
      " {'n_estimators': 376, 'learning_rate': 0.11780549783176551, 'max_depth': 7, 'min_child_weight': 0.33117648065599964, 'gamma': 0.007196960146638287, 'subsample': 0.5770570987170854, 'colsample_bytree': 0.6422230443238732, 'max_delta_step': 9}\n"
     ]
    }
   ],
   "source": [
    "AVG_FRAUD, TP_FEE, FP_COST = 120, 0.10, -5\n",
    "FN_PEN_TUNE = -0.25\n",
    "\n",
    "X_dev, X_val, y_dev, y_val = train_test_split(\n",
    "X_train, Y_train, test_size=0.15, stratify=Y_train, random_state=42\n",
    ")\n",
    "y_dev_np = y_dev.to_numpy()\n",
    "\n",
    "def profit(y_true, y_pred):\n",
    "    tn, fp, fn, tp = confusion_matrix(y_true, y_pred).ravel()\n",
    "    return TP_FEE * tp * AVG_FRAUD + FP_COST * fp + FN_PEN_TUNE * fn * AVG_FRAUD\n",
    "\n",
    "def objective(trial):\n",
    "    params = {\n",
    "    \"n_estimators\": trial.suggest_int(\"n_estimators\", 300, 1200),\n",
    "    \"learning_rate\": trial.suggest_float(\"learning_rate\", 0.0005, 0.2, log=True),\n",
    "    \"max_depth\": trial.suggest_int(\"max_depth\", 3, 9),\n",
    "    \"min_child_weight\": trial.suggest_float(\"min_child_weight\", 0.01, 10.0, log=True),\n",
    "    \"gamma\": trial.suggest_float(\"gamma\", 0.0, 0.5),\n",
    "    \"subsample\": trial.suggest_float(\"subsample\", 0.5, 1.0),\n",
    "    \"colsample_bytree\": trial.suggest_float(\"colsample_bytree\", 0.6, 1.0),\n",
    "    \"max_delta_step\": trial.suggest_int(\"max_delta_step\", 0, 10),\n",
    "    \"objective\": \"binary:logistic\",\n",
    "    \"eval_metric\": \"logloss\",\n",
    "    \"random_state\": 42,\n",
    "    \"n_jobs\": -1,\n",
    "    \"tree_method\": \"hist\"\n",
    "    }\n",
    "\n",
    "    model = xgb.XGBClassifier(**params)\n",
    "    cv = StratifiedKFold(n_splits=5, shuffle=True, random_state=42)\n",
    "    scores = []\n",
    "\n",
    "    for train_idx, val_idx in cv.split(X_dev, y_dev_np):\n",
    "        X_tr, y_tr = X_dev.iloc[train_idx], y_dev_np[train_idx]\n",
    "        X_va, y_va = X_dev.iloc[val_idx], y_dev_np[val_idx]\n",
    "\n",
    "        smote = SMOTE(random_state=42)\n",
    "        X_tr_res, y_tr_res = smote.fit_resample(X_tr, y_tr)\n",
    "\n",
    "        model.fit(X_tr_res, y_tr_res, eval_set=[(X_va, y_va)], verbose=False)\n",
    "        preds = (model.predict_proba(X_va)[:, 1] >= 0.5).astype(int)\n",
    "        scores.append(profit(y_va, preds))\n",
    "\n",
    "    return np.mean(scores)\n",
    "\n",
    "study.optimize(objective, n_trials=50, timeout=6000, callbacks=[mlflc], show_progress_bar=True)\n",
    "\n",
    "print(\"\\nBest Cross-Validated Profit:\", f\"${study.best_value:,.0f}\")\n",
    "print(\"Best Params:\\n\", study.best_trial.params)"
   ]
  },
  {
   "cell_type": "markdown",
   "id": "efd9446b",
   "metadata": {},
   "source": [
    "# Hyperparameter Tuning Validation Curves"
   ]
  },
  {
   "cell_type": "code",
   "execution_count": 5,
   "id": "33f175ff",
   "metadata": {},
   "outputs": [
    {
     "data": {
      "application/vnd.plotly.v1+json": {
       "config": {
        "plotlyServerURL": "https://plot.ly"
       },
       "data": [
        {
         "mode": "markers",
         "name": "Objective Value",
         "type": "scatter",
         "x": [
          0,
          1,
          2,
          3,
          4,
          5,
          6,
          7,
          8,
          9,
          10,
          11,
          12,
          13,
          14,
          15,
          16,
          17,
          18,
          19,
          20,
          21,
          22,
          23,
          24,
          25,
          26,
          27,
          28,
          29,
          30,
          31,
          32,
          33,
          34,
          35,
          36,
          37,
          38,
          39,
          40,
          41,
          42,
          43,
          44,
          45,
          46,
          47,
          48,
          49
         ],
         "y": [
          305.4,
          -117.39999999999998,
          -225.4,
          235.8000000000001,
          295.8,
          -2267.6,
          -178.79999999999993,
          -4634.2,
          -2108.2,
          277.8,
          -260.6,
          272.6,
          290.4,
          283.6,
          287.40000000000003,
          276.6,
          -88.79999999999991,
          264.40000000000003,
          287.4,
          270,
          239.8,
          271.2,
          277.6,
          297.4,
          255.8,
          309.8,
          292.00000000000006,
          -1072,
          287.8,
          281.6,
          -333,
          296.8,
          288.4000000000001,
          280.6,
          298.4,
          300.8,
          293.4,
          291.4,
          305.20000000000005,
          273.6,
          262.8,
          298.8,
          290.8,
          298.8,
          288.4,
          -1935.2,
          292.8,
          274.6,
          288.40000000000003,
          -645.1999999999999
         ]
        },
        {
         "mode": "lines",
         "name": "Best Value",
         "type": "scatter",
         "x": [
          0,
          1,
          2,
          3,
          4,
          5,
          6,
          7,
          8,
          9,
          10,
          11,
          12,
          13,
          14,
          15,
          16,
          17,
          18,
          19,
          20,
          21,
          22,
          23,
          24,
          25,
          26,
          27,
          28,
          29,
          30,
          31,
          32,
          33,
          34,
          35,
          36,
          37,
          38,
          39,
          40,
          41,
          42,
          43,
          44,
          45,
          46,
          47,
          48,
          49
         ],
         "y": [
          305.4,
          305.4,
          305.4,
          305.4,
          305.4,
          305.4,
          305.4,
          305.4,
          305.4,
          305.4,
          305.4,
          305.4,
          305.4,
          305.4,
          305.4,
          305.4,
          305.4,
          305.4,
          305.4,
          305.4,
          305.4,
          305.4,
          305.4,
          305.4,
          305.4,
          309.8,
          309.8,
          309.8,
          309.8,
          309.8,
          309.8,
          309.8,
          309.8,
          309.8,
          309.8,
          309.8,
          309.8,
          309.8,
          309.8,
          309.8,
          309.8,
          309.8,
          309.8,
          309.8,
          309.8,
          309.8,
          309.8,
          309.8,
          309.8,
          309.8
         ]
        },
        {
         "marker": {
          "color": "#cccccc"
         },
         "mode": "markers",
         "name": "Infeasible Trial",
         "showlegend": false,
         "type": "scatter",
         "x": [],
         "y": []
        }
       ],
       "layout": {
        "template": {
         "data": {
          "bar": [
           {
            "error_x": {
             "color": "#2a3f5f"
            },
            "error_y": {
             "color": "#2a3f5f"
            },
            "marker": {
             "line": {
              "color": "#E5ECF6",
              "width": 0.5
             },
             "pattern": {
              "fillmode": "overlay",
              "size": 10,
              "solidity": 0.2
             }
            },
            "type": "bar"
           }
          ],
          "barpolar": [
           {
            "marker": {
             "line": {
              "color": "#E5ECF6",
              "width": 0.5
             },
             "pattern": {
              "fillmode": "overlay",
              "size": 10,
              "solidity": 0.2
             }
            },
            "type": "barpolar"
           }
          ],
          "carpet": [
           {
            "aaxis": {
             "endlinecolor": "#2a3f5f",
             "gridcolor": "white",
             "linecolor": "white",
             "minorgridcolor": "white",
             "startlinecolor": "#2a3f5f"
            },
            "baxis": {
             "endlinecolor": "#2a3f5f",
             "gridcolor": "white",
             "linecolor": "white",
             "minorgridcolor": "white",
             "startlinecolor": "#2a3f5f"
            },
            "type": "carpet"
           }
          ],
          "choropleth": [
           {
            "colorbar": {
             "outlinewidth": 0,
             "ticks": ""
            },
            "type": "choropleth"
           }
          ],
          "contour": [
           {
            "colorbar": {
             "outlinewidth": 0,
             "ticks": ""
            },
            "colorscale": [
             [
              0,
              "#0d0887"
             ],
             [
              0.1111111111111111,
              "#46039f"
             ],
             [
              0.2222222222222222,
              "#7201a8"
             ],
             [
              0.3333333333333333,
              "#9c179e"
             ],
             [
              0.4444444444444444,
              "#bd3786"
             ],
             [
              0.5555555555555556,
              "#d8576b"
             ],
             [
              0.6666666666666666,
              "#ed7953"
             ],
             [
              0.7777777777777778,
              "#fb9f3a"
             ],
             [
              0.8888888888888888,
              "#fdca26"
             ],
             [
              1,
              "#f0f921"
             ]
            ],
            "type": "contour"
           }
          ],
          "contourcarpet": [
           {
            "colorbar": {
             "outlinewidth": 0,
             "ticks": ""
            },
            "type": "contourcarpet"
           }
          ],
          "heatmap": [
           {
            "colorbar": {
             "outlinewidth": 0,
             "ticks": ""
            },
            "colorscale": [
             [
              0,
              "#0d0887"
             ],
             [
              0.1111111111111111,
              "#46039f"
             ],
             [
              0.2222222222222222,
              "#7201a8"
             ],
             [
              0.3333333333333333,
              "#9c179e"
             ],
             [
              0.4444444444444444,
              "#bd3786"
             ],
             [
              0.5555555555555556,
              "#d8576b"
             ],
             [
              0.6666666666666666,
              "#ed7953"
             ],
             [
              0.7777777777777778,
              "#fb9f3a"
             ],
             [
              0.8888888888888888,
              "#fdca26"
             ],
             [
              1,
              "#f0f921"
             ]
            ],
            "type": "heatmap"
           }
          ],
          "heatmapgl": [
           {
            "colorbar": {
             "outlinewidth": 0,
             "ticks": ""
            },
            "colorscale": [
             [
              0,
              "#0d0887"
             ],
             [
              0.1111111111111111,
              "#46039f"
             ],
             [
              0.2222222222222222,
              "#7201a8"
             ],
             [
              0.3333333333333333,
              "#9c179e"
             ],
             [
              0.4444444444444444,
              "#bd3786"
             ],
             [
              0.5555555555555556,
              "#d8576b"
             ],
             [
              0.6666666666666666,
              "#ed7953"
             ],
             [
              0.7777777777777778,
              "#fb9f3a"
             ],
             [
              0.8888888888888888,
              "#fdca26"
             ],
             [
              1,
              "#f0f921"
             ]
            ],
            "type": "heatmapgl"
           }
          ],
          "histogram": [
           {
            "marker": {
             "pattern": {
              "fillmode": "overlay",
              "size": 10,
              "solidity": 0.2
             }
            },
            "type": "histogram"
           }
          ],
          "histogram2d": [
           {
            "colorbar": {
             "outlinewidth": 0,
             "ticks": ""
            },
            "colorscale": [
             [
              0,
              "#0d0887"
             ],
             [
              0.1111111111111111,
              "#46039f"
             ],
             [
              0.2222222222222222,
              "#7201a8"
             ],
             [
              0.3333333333333333,
              "#9c179e"
             ],
             [
              0.4444444444444444,
              "#bd3786"
             ],
             [
              0.5555555555555556,
              "#d8576b"
             ],
             [
              0.6666666666666666,
              "#ed7953"
             ],
             [
              0.7777777777777778,
              "#fb9f3a"
             ],
             [
              0.8888888888888888,
              "#fdca26"
             ],
             [
              1,
              "#f0f921"
             ]
            ],
            "type": "histogram2d"
           }
          ],
          "histogram2dcontour": [
           {
            "colorbar": {
             "outlinewidth": 0,
             "ticks": ""
            },
            "colorscale": [
             [
              0,
              "#0d0887"
             ],
             [
              0.1111111111111111,
              "#46039f"
             ],
             [
              0.2222222222222222,
              "#7201a8"
             ],
             [
              0.3333333333333333,
              "#9c179e"
             ],
             [
              0.4444444444444444,
              "#bd3786"
             ],
             [
              0.5555555555555556,
              "#d8576b"
             ],
             [
              0.6666666666666666,
              "#ed7953"
             ],
             [
              0.7777777777777778,
              "#fb9f3a"
             ],
             [
              0.8888888888888888,
              "#fdca26"
             ],
             [
              1,
              "#f0f921"
             ]
            ],
            "type": "histogram2dcontour"
           }
          ],
          "mesh3d": [
           {
            "colorbar": {
             "outlinewidth": 0,
             "ticks": ""
            },
            "type": "mesh3d"
           }
          ],
          "parcoords": [
           {
            "line": {
             "colorbar": {
              "outlinewidth": 0,
              "ticks": ""
             }
            },
            "type": "parcoords"
           }
          ],
          "pie": [
           {
            "automargin": true,
            "type": "pie"
           }
          ],
          "scatter": [
           {
            "fillpattern": {
             "fillmode": "overlay",
             "size": 10,
             "solidity": 0.2
            },
            "type": "scatter"
           }
          ],
          "scatter3d": [
           {
            "line": {
             "colorbar": {
              "outlinewidth": 0,
              "ticks": ""
             }
            },
            "marker": {
             "colorbar": {
              "outlinewidth": 0,
              "ticks": ""
             }
            },
            "type": "scatter3d"
           }
          ],
          "scattercarpet": [
           {
            "marker": {
             "colorbar": {
              "outlinewidth": 0,
              "ticks": ""
             }
            },
            "type": "scattercarpet"
           }
          ],
          "scattergeo": [
           {
            "marker": {
             "colorbar": {
              "outlinewidth": 0,
              "ticks": ""
             }
            },
            "type": "scattergeo"
           }
          ],
          "scattergl": [
           {
            "marker": {
             "colorbar": {
              "outlinewidth": 0,
              "ticks": ""
             }
            },
            "type": "scattergl"
           }
          ],
          "scattermapbox": [
           {
            "marker": {
             "colorbar": {
              "outlinewidth": 0,
              "ticks": ""
             }
            },
            "type": "scattermapbox"
           }
          ],
          "scatterpolar": [
           {
            "marker": {
             "colorbar": {
              "outlinewidth": 0,
              "ticks": ""
             }
            },
            "type": "scatterpolar"
           }
          ],
          "scatterpolargl": [
           {
            "marker": {
             "colorbar": {
              "outlinewidth": 0,
              "ticks": ""
             }
            },
            "type": "scatterpolargl"
           }
          ],
          "scatterternary": [
           {
            "marker": {
             "colorbar": {
              "outlinewidth": 0,
              "ticks": ""
             }
            },
            "type": "scatterternary"
           }
          ],
          "surface": [
           {
            "colorbar": {
             "outlinewidth": 0,
             "ticks": ""
            },
            "colorscale": [
             [
              0,
              "#0d0887"
             ],
             [
              0.1111111111111111,
              "#46039f"
             ],
             [
              0.2222222222222222,
              "#7201a8"
             ],
             [
              0.3333333333333333,
              "#9c179e"
             ],
             [
              0.4444444444444444,
              "#bd3786"
             ],
             [
              0.5555555555555556,
              "#d8576b"
             ],
             [
              0.6666666666666666,
              "#ed7953"
             ],
             [
              0.7777777777777778,
              "#fb9f3a"
             ],
             [
              0.8888888888888888,
              "#fdca26"
             ],
             [
              1,
              "#f0f921"
             ]
            ],
            "type": "surface"
           }
          ],
          "table": [
           {
            "cells": {
             "fill": {
              "color": "#EBF0F8"
             },
             "line": {
              "color": "white"
             }
            },
            "header": {
             "fill": {
              "color": "#C8D4E3"
             },
             "line": {
              "color": "white"
             }
            },
            "type": "table"
           }
          ]
         },
         "layout": {
          "annotationdefaults": {
           "arrowcolor": "#2a3f5f",
           "arrowhead": 0,
           "arrowwidth": 1
          },
          "autotypenumbers": "strict",
          "coloraxis": {
           "colorbar": {
            "outlinewidth": 0,
            "ticks": ""
           }
          },
          "colorscale": {
           "diverging": [
            [
             0,
             "#8e0152"
            ],
            [
             0.1,
             "#c51b7d"
            ],
            [
             0.2,
             "#de77ae"
            ],
            [
             0.3,
             "#f1b6da"
            ],
            [
             0.4,
             "#fde0ef"
            ],
            [
             0.5,
             "#f7f7f7"
            ],
            [
             0.6,
             "#e6f5d0"
            ],
            [
             0.7,
             "#b8e186"
            ],
            [
             0.8,
             "#7fbc41"
            ],
            [
             0.9,
             "#4d9221"
            ],
            [
             1,
             "#276419"
            ]
           ],
           "sequential": [
            [
             0,
             "#0d0887"
            ],
            [
             0.1111111111111111,
             "#46039f"
            ],
            [
             0.2222222222222222,
             "#7201a8"
            ],
            [
             0.3333333333333333,
             "#9c179e"
            ],
            [
             0.4444444444444444,
             "#bd3786"
            ],
            [
             0.5555555555555556,
             "#d8576b"
            ],
            [
             0.6666666666666666,
             "#ed7953"
            ],
            [
             0.7777777777777778,
             "#fb9f3a"
            ],
            [
             0.8888888888888888,
             "#fdca26"
            ],
            [
             1,
             "#f0f921"
            ]
           ],
           "sequentialminus": [
            [
             0,
             "#0d0887"
            ],
            [
             0.1111111111111111,
             "#46039f"
            ],
            [
             0.2222222222222222,
             "#7201a8"
            ],
            [
             0.3333333333333333,
             "#9c179e"
            ],
            [
             0.4444444444444444,
             "#bd3786"
            ],
            [
             0.5555555555555556,
             "#d8576b"
            ],
            [
             0.6666666666666666,
             "#ed7953"
            ],
            [
             0.7777777777777778,
             "#fb9f3a"
            ],
            [
             0.8888888888888888,
             "#fdca26"
            ],
            [
             1,
             "#f0f921"
            ]
           ]
          },
          "colorway": [
           "#636efa",
           "#EF553B",
           "#00cc96",
           "#ab63fa",
           "#FFA15A",
           "#19d3f3",
           "#FF6692",
           "#B6E880",
           "#FF97FF",
           "#FECB52"
          ],
          "font": {
           "color": "#2a3f5f"
          },
          "geo": {
           "bgcolor": "white",
           "lakecolor": "white",
           "landcolor": "#E5ECF6",
           "showlakes": true,
           "showland": true,
           "subunitcolor": "white"
          },
          "hoverlabel": {
           "align": "left"
          },
          "hovermode": "closest",
          "mapbox": {
           "style": "light"
          },
          "paper_bgcolor": "white",
          "plot_bgcolor": "#E5ECF6",
          "polar": {
           "angularaxis": {
            "gridcolor": "white",
            "linecolor": "white",
            "ticks": ""
           },
           "bgcolor": "#E5ECF6",
           "radialaxis": {
            "gridcolor": "white",
            "linecolor": "white",
            "ticks": ""
           }
          },
          "scene": {
           "xaxis": {
            "backgroundcolor": "#E5ECF6",
            "gridcolor": "white",
            "gridwidth": 2,
            "linecolor": "white",
            "showbackground": true,
            "ticks": "",
            "zerolinecolor": "white"
           },
           "yaxis": {
            "backgroundcolor": "#E5ECF6",
            "gridcolor": "white",
            "gridwidth": 2,
            "linecolor": "white",
            "showbackground": true,
            "ticks": "",
            "zerolinecolor": "white"
           },
           "zaxis": {
            "backgroundcolor": "#E5ECF6",
            "gridcolor": "white",
            "gridwidth": 2,
            "linecolor": "white",
            "showbackground": true,
            "ticks": "",
            "zerolinecolor": "white"
           }
          },
          "shapedefaults": {
           "line": {
            "color": "#2a3f5f"
           }
          },
          "ternary": {
           "aaxis": {
            "gridcolor": "white",
            "linecolor": "white",
            "ticks": ""
           },
           "baxis": {
            "gridcolor": "white",
            "linecolor": "white",
            "ticks": ""
           },
           "bgcolor": "#E5ECF6",
           "caxis": {
            "gridcolor": "white",
            "linecolor": "white",
            "ticks": ""
           }
          },
          "title": {
           "x": 0.05
          },
          "xaxis": {
           "automargin": true,
           "gridcolor": "white",
           "linecolor": "white",
           "ticks": "",
           "title": {
            "standoff": 15
           },
           "zerolinecolor": "white",
           "zerolinewidth": 2
          },
          "yaxis": {
           "automargin": true,
           "gridcolor": "white",
           "linecolor": "white",
           "ticks": "",
           "title": {
            "standoff": 15
           },
           "zerolinecolor": "white",
           "zerolinewidth": 2
          }
         }
        },
        "title": {
         "text": "Optimization History Plot"
        },
        "xaxis": {
         "title": {
          "text": "Trial"
         }
        },
        "yaxis": {
         "title": {
          "text": "Objective Value"
         }
        }
       }
      }
     },
     "metadata": {},
     "output_type": "display_data"
    },
    {
     "data": {
      "application/vnd.plotly.v1+json": {
       "config": {
        "plotlyServerURL": "https://plot.ly"
       },
       "data": [
        {
         "cliponaxis": false,
         "hovertemplate": [
          "max_delta_step (IntDistribution): 0.004500185737064942<extra></extra>",
          "n_estimators (IntDistribution): 0.006095715771672182<extra></extra>",
          "gamma (FloatDistribution): 0.006581268188851657<extra></extra>",
          "colsample_bytree (FloatDistribution): 0.007058677063650726<extra></extra>",
          "min_child_weight (FloatDistribution): 0.02135157887224957<extra></extra>",
          "subsample (FloatDistribution): 0.03807950423270763<extra></extra>",
          "learning_rate (FloatDistribution): 0.3033719855690723<extra></extra>",
          "max_depth (IntDistribution): 0.6129610845647311<extra></extra>"
         ],
         "name": "Objective Value",
         "orientation": "h",
         "text": [
          "<0.01",
          "<0.01",
          "<0.01",
          "<0.01",
          "0.02",
          "0.04",
          "0.30",
          "0.61"
         ],
         "textposition": "outside",
         "type": "bar",
         "x": [
          0.004500185737064942,
          0.006095715771672182,
          0.006581268188851657,
          0.007058677063650726,
          0.02135157887224957,
          0.03807950423270763,
          0.3033719855690723,
          0.6129610845647311
         ],
         "y": [
          "max_delta_step",
          "n_estimators",
          "gamma",
          "colsample_bytree",
          "min_child_weight",
          "subsample",
          "learning_rate",
          "max_depth"
         ]
        }
       ],
       "layout": {
        "template": {
         "data": {
          "bar": [
           {
            "error_x": {
             "color": "#2a3f5f"
            },
            "error_y": {
             "color": "#2a3f5f"
            },
            "marker": {
             "line": {
              "color": "#E5ECF6",
              "width": 0.5
             },
             "pattern": {
              "fillmode": "overlay",
              "size": 10,
              "solidity": 0.2
             }
            },
            "type": "bar"
           }
          ],
          "barpolar": [
           {
            "marker": {
             "line": {
              "color": "#E5ECF6",
              "width": 0.5
             },
             "pattern": {
              "fillmode": "overlay",
              "size": 10,
              "solidity": 0.2
             }
            },
            "type": "barpolar"
           }
          ],
          "carpet": [
           {
            "aaxis": {
             "endlinecolor": "#2a3f5f",
             "gridcolor": "white",
             "linecolor": "white",
             "minorgridcolor": "white",
             "startlinecolor": "#2a3f5f"
            },
            "baxis": {
             "endlinecolor": "#2a3f5f",
             "gridcolor": "white",
             "linecolor": "white",
             "minorgridcolor": "white",
             "startlinecolor": "#2a3f5f"
            },
            "type": "carpet"
           }
          ],
          "choropleth": [
           {
            "colorbar": {
             "outlinewidth": 0,
             "ticks": ""
            },
            "type": "choropleth"
           }
          ],
          "contour": [
           {
            "colorbar": {
             "outlinewidth": 0,
             "ticks": ""
            },
            "colorscale": [
             [
              0,
              "#0d0887"
             ],
             [
              0.1111111111111111,
              "#46039f"
             ],
             [
              0.2222222222222222,
              "#7201a8"
             ],
             [
              0.3333333333333333,
              "#9c179e"
             ],
             [
              0.4444444444444444,
              "#bd3786"
             ],
             [
              0.5555555555555556,
              "#d8576b"
             ],
             [
              0.6666666666666666,
              "#ed7953"
             ],
             [
              0.7777777777777778,
              "#fb9f3a"
             ],
             [
              0.8888888888888888,
              "#fdca26"
             ],
             [
              1,
              "#f0f921"
             ]
            ],
            "type": "contour"
           }
          ],
          "contourcarpet": [
           {
            "colorbar": {
             "outlinewidth": 0,
             "ticks": ""
            },
            "type": "contourcarpet"
           }
          ],
          "heatmap": [
           {
            "colorbar": {
             "outlinewidth": 0,
             "ticks": ""
            },
            "colorscale": [
             [
              0,
              "#0d0887"
             ],
             [
              0.1111111111111111,
              "#46039f"
             ],
             [
              0.2222222222222222,
              "#7201a8"
             ],
             [
              0.3333333333333333,
              "#9c179e"
             ],
             [
              0.4444444444444444,
              "#bd3786"
             ],
             [
              0.5555555555555556,
              "#d8576b"
             ],
             [
              0.6666666666666666,
              "#ed7953"
             ],
             [
              0.7777777777777778,
              "#fb9f3a"
             ],
             [
              0.8888888888888888,
              "#fdca26"
             ],
             [
              1,
              "#f0f921"
             ]
            ],
            "type": "heatmap"
           }
          ],
          "heatmapgl": [
           {
            "colorbar": {
             "outlinewidth": 0,
             "ticks": ""
            },
            "colorscale": [
             [
              0,
              "#0d0887"
             ],
             [
              0.1111111111111111,
              "#46039f"
             ],
             [
              0.2222222222222222,
              "#7201a8"
             ],
             [
              0.3333333333333333,
              "#9c179e"
             ],
             [
              0.4444444444444444,
              "#bd3786"
             ],
             [
              0.5555555555555556,
              "#d8576b"
             ],
             [
              0.6666666666666666,
              "#ed7953"
             ],
             [
              0.7777777777777778,
              "#fb9f3a"
             ],
             [
              0.8888888888888888,
              "#fdca26"
             ],
             [
              1,
              "#f0f921"
             ]
            ],
            "type": "heatmapgl"
           }
          ],
          "histogram": [
           {
            "marker": {
             "pattern": {
              "fillmode": "overlay",
              "size": 10,
              "solidity": 0.2
             }
            },
            "type": "histogram"
           }
          ],
          "histogram2d": [
           {
            "colorbar": {
             "outlinewidth": 0,
             "ticks": ""
            },
            "colorscale": [
             [
              0,
              "#0d0887"
             ],
             [
              0.1111111111111111,
              "#46039f"
             ],
             [
              0.2222222222222222,
              "#7201a8"
             ],
             [
              0.3333333333333333,
              "#9c179e"
             ],
             [
              0.4444444444444444,
              "#bd3786"
             ],
             [
              0.5555555555555556,
              "#d8576b"
             ],
             [
              0.6666666666666666,
              "#ed7953"
             ],
             [
              0.7777777777777778,
              "#fb9f3a"
             ],
             [
              0.8888888888888888,
              "#fdca26"
             ],
             [
              1,
              "#f0f921"
             ]
            ],
            "type": "histogram2d"
           }
          ],
          "histogram2dcontour": [
           {
            "colorbar": {
             "outlinewidth": 0,
             "ticks": ""
            },
            "colorscale": [
             [
              0,
              "#0d0887"
             ],
             [
              0.1111111111111111,
              "#46039f"
             ],
             [
              0.2222222222222222,
              "#7201a8"
             ],
             [
              0.3333333333333333,
              "#9c179e"
             ],
             [
              0.4444444444444444,
              "#bd3786"
             ],
             [
              0.5555555555555556,
              "#d8576b"
             ],
             [
              0.6666666666666666,
              "#ed7953"
             ],
             [
              0.7777777777777778,
              "#fb9f3a"
             ],
             [
              0.8888888888888888,
              "#fdca26"
             ],
             [
              1,
              "#f0f921"
             ]
            ],
            "type": "histogram2dcontour"
           }
          ],
          "mesh3d": [
           {
            "colorbar": {
             "outlinewidth": 0,
             "ticks": ""
            },
            "type": "mesh3d"
           }
          ],
          "parcoords": [
           {
            "line": {
             "colorbar": {
              "outlinewidth": 0,
              "ticks": ""
             }
            },
            "type": "parcoords"
           }
          ],
          "pie": [
           {
            "automargin": true,
            "type": "pie"
           }
          ],
          "scatter": [
           {
            "fillpattern": {
             "fillmode": "overlay",
             "size": 10,
             "solidity": 0.2
            },
            "type": "scatter"
           }
          ],
          "scatter3d": [
           {
            "line": {
             "colorbar": {
              "outlinewidth": 0,
              "ticks": ""
             }
            },
            "marker": {
             "colorbar": {
              "outlinewidth": 0,
              "ticks": ""
             }
            },
            "type": "scatter3d"
           }
          ],
          "scattercarpet": [
           {
            "marker": {
             "colorbar": {
              "outlinewidth": 0,
              "ticks": ""
             }
            },
            "type": "scattercarpet"
           }
          ],
          "scattergeo": [
           {
            "marker": {
             "colorbar": {
              "outlinewidth": 0,
              "ticks": ""
             }
            },
            "type": "scattergeo"
           }
          ],
          "scattergl": [
           {
            "marker": {
             "colorbar": {
              "outlinewidth": 0,
              "ticks": ""
             }
            },
            "type": "scattergl"
           }
          ],
          "scattermapbox": [
           {
            "marker": {
             "colorbar": {
              "outlinewidth": 0,
              "ticks": ""
             }
            },
            "type": "scattermapbox"
           }
          ],
          "scatterpolar": [
           {
            "marker": {
             "colorbar": {
              "outlinewidth": 0,
              "ticks": ""
             }
            },
            "type": "scatterpolar"
           }
          ],
          "scatterpolargl": [
           {
            "marker": {
             "colorbar": {
              "outlinewidth": 0,
              "ticks": ""
             }
            },
            "type": "scatterpolargl"
           }
          ],
          "scatterternary": [
           {
            "marker": {
             "colorbar": {
              "outlinewidth": 0,
              "ticks": ""
             }
            },
            "type": "scatterternary"
           }
          ],
          "surface": [
           {
            "colorbar": {
             "outlinewidth": 0,
             "ticks": ""
            },
            "colorscale": [
             [
              0,
              "#0d0887"
             ],
             [
              0.1111111111111111,
              "#46039f"
             ],
             [
              0.2222222222222222,
              "#7201a8"
             ],
             [
              0.3333333333333333,
              "#9c179e"
             ],
             [
              0.4444444444444444,
              "#bd3786"
             ],
             [
              0.5555555555555556,
              "#d8576b"
             ],
             [
              0.6666666666666666,
              "#ed7953"
             ],
             [
              0.7777777777777778,
              "#fb9f3a"
             ],
             [
              0.8888888888888888,
              "#fdca26"
             ],
             [
              1,
              "#f0f921"
             ]
            ],
            "type": "surface"
           }
          ],
          "table": [
           {
            "cells": {
             "fill": {
              "color": "#EBF0F8"
             },
             "line": {
              "color": "white"
             }
            },
            "header": {
             "fill": {
              "color": "#C8D4E3"
             },
             "line": {
              "color": "white"
             }
            },
            "type": "table"
           }
          ]
         },
         "layout": {
          "annotationdefaults": {
           "arrowcolor": "#2a3f5f",
           "arrowhead": 0,
           "arrowwidth": 1
          },
          "autotypenumbers": "strict",
          "coloraxis": {
           "colorbar": {
            "outlinewidth": 0,
            "ticks": ""
           }
          },
          "colorscale": {
           "diverging": [
            [
             0,
             "#8e0152"
            ],
            [
             0.1,
             "#c51b7d"
            ],
            [
             0.2,
             "#de77ae"
            ],
            [
             0.3,
             "#f1b6da"
            ],
            [
             0.4,
             "#fde0ef"
            ],
            [
             0.5,
             "#f7f7f7"
            ],
            [
             0.6,
             "#e6f5d0"
            ],
            [
             0.7,
             "#b8e186"
            ],
            [
             0.8,
             "#7fbc41"
            ],
            [
             0.9,
             "#4d9221"
            ],
            [
             1,
             "#276419"
            ]
           ],
           "sequential": [
            [
             0,
             "#0d0887"
            ],
            [
             0.1111111111111111,
             "#46039f"
            ],
            [
             0.2222222222222222,
             "#7201a8"
            ],
            [
             0.3333333333333333,
             "#9c179e"
            ],
            [
             0.4444444444444444,
             "#bd3786"
            ],
            [
             0.5555555555555556,
             "#d8576b"
            ],
            [
             0.6666666666666666,
             "#ed7953"
            ],
            [
             0.7777777777777778,
             "#fb9f3a"
            ],
            [
             0.8888888888888888,
             "#fdca26"
            ],
            [
             1,
             "#f0f921"
            ]
           ],
           "sequentialminus": [
            [
             0,
             "#0d0887"
            ],
            [
             0.1111111111111111,
             "#46039f"
            ],
            [
             0.2222222222222222,
             "#7201a8"
            ],
            [
             0.3333333333333333,
             "#9c179e"
            ],
            [
             0.4444444444444444,
             "#bd3786"
            ],
            [
             0.5555555555555556,
             "#d8576b"
            ],
            [
             0.6666666666666666,
             "#ed7953"
            ],
            [
             0.7777777777777778,
             "#fb9f3a"
            ],
            [
             0.8888888888888888,
             "#fdca26"
            ],
            [
             1,
             "#f0f921"
            ]
           ]
          },
          "colorway": [
           "#636efa",
           "#EF553B",
           "#00cc96",
           "#ab63fa",
           "#FFA15A",
           "#19d3f3",
           "#FF6692",
           "#B6E880",
           "#FF97FF",
           "#FECB52"
          ],
          "font": {
           "color": "#2a3f5f"
          },
          "geo": {
           "bgcolor": "white",
           "lakecolor": "white",
           "landcolor": "#E5ECF6",
           "showlakes": true,
           "showland": true,
           "subunitcolor": "white"
          },
          "hoverlabel": {
           "align": "left"
          },
          "hovermode": "closest",
          "mapbox": {
           "style": "light"
          },
          "paper_bgcolor": "white",
          "plot_bgcolor": "#E5ECF6",
          "polar": {
           "angularaxis": {
            "gridcolor": "white",
            "linecolor": "white",
            "ticks": ""
           },
           "bgcolor": "#E5ECF6",
           "radialaxis": {
            "gridcolor": "white",
            "linecolor": "white",
            "ticks": ""
           }
          },
          "scene": {
           "xaxis": {
            "backgroundcolor": "#E5ECF6",
            "gridcolor": "white",
            "gridwidth": 2,
            "linecolor": "white",
            "showbackground": true,
            "ticks": "",
            "zerolinecolor": "white"
           },
           "yaxis": {
            "backgroundcolor": "#E5ECF6",
            "gridcolor": "white",
            "gridwidth": 2,
            "linecolor": "white",
            "showbackground": true,
            "ticks": "",
            "zerolinecolor": "white"
           },
           "zaxis": {
            "backgroundcolor": "#E5ECF6",
            "gridcolor": "white",
            "gridwidth": 2,
            "linecolor": "white",
            "showbackground": true,
            "ticks": "",
            "zerolinecolor": "white"
           }
          },
          "shapedefaults": {
           "line": {
            "color": "#2a3f5f"
           }
          },
          "ternary": {
           "aaxis": {
            "gridcolor": "white",
            "linecolor": "white",
            "ticks": ""
           },
           "baxis": {
            "gridcolor": "white",
            "linecolor": "white",
            "ticks": ""
           },
           "bgcolor": "#E5ECF6",
           "caxis": {
            "gridcolor": "white",
            "linecolor": "white",
            "ticks": ""
           }
          },
          "title": {
           "x": 0.05
          },
          "xaxis": {
           "automargin": true,
           "gridcolor": "white",
           "linecolor": "white",
           "ticks": "",
           "title": {
            "standoff": 15
           },
           "zerolinecolor": "white",
           "zerolinewidth": 2
          },
          "yaxis": {
           "automargin": true,
           "gridcolor": "white",
           "linecolor": "white",
           "ticks": "",
           "title": {
            "standoff": 15
           },
           "zerolinecolor": "white",
           "zerolinewidth": 2
          }
         }
        },
        "title": {
         "text": "Hyperparameter Importances"
        },
        "xaxis": {
         "title": {
          "text": "Hyperparameter Importance"
         }
        },
        "yaxis": {
         "title": {
          "text": "Hyperparameter"
         }
        }
       }
      }
     },
     "metadata": {},
     "output_type": "display_data"
    },
    {
     "data": {
      "application/vnd.plotly.v1+json": {
       "config": {
        "plotlyServerURL": "https://plot.ly"
       },
       "data": [
        {
         "marker": {
          "color": [
           0,
           1,
           2,
           3,
           4,
           5,
           6,
           7,
           8,
           9,
           10,
           11,
           12,
           13,
           14,
           15,
           16,
           17,
           18,
           19,
           20,
           21,
           22,
           23,
           24,
           25,
           26,
           27,
           28,
           29,
           30,
           31,
           32,
           33,
           34,
           35,
           36,
           37,
           38,
           39,
           40,
           41,
           42,
           43,
           44,
           45,
           46,
           47,
           48,
           49
          ],
          "colorbar": {
           "title": {
            "text": "Trial"
           },
           "x": 1,
           "xpad": 40
          },
          "colorscale": [
           [
            0,
            "rgb(247,251,255)"
           ],
           [
            0.125,
            "rgb(222,235,247)"
           ],
           [
            0.25,
            "rgb(198,219,239)"
           ],
           [
            0.375,
            "rgb(158,202,225)"
           ],
           [
            0.5,
            "rgb(107,174,214)"
           ],
           [
            0.625,
            "rgb(66,146,198)"
           ],
           [
            0.75,
            "rgb(33,113,181)"
           ],
           [
            0.875,
            "rgb(8,81,156)"
           ],
           [
            1,
            "rgb(8,48,107)"
           ]
          ],
          "line": {
           "color": "Grey",
           "width": 0.5
          },
          "showscale": true
         },
         "mode": "markers",
         "name": "Feasible Trial",
         "showlegend": false,
         "type": "scatter",
         "x": [
          0.6232334448672797,
          0.6727299868828402,
          0.7168578594140873,
          0.8430179407605753,
          0.8736932106048627,
          0.7246844304357644,
          0.8391599915244341,
          0.9314950036607718,
          0.908897907718663,
          0.7433862914177091,
          0.6060576948411027,
          0.9795761300441179,
          0.7874820875551369,
          0.6115030766107388,
          0.893935819264609,
          0.8318264197864259,
          0.7822247457988033,
          0.6683886491275017,
          0.9981115928105939,
          0.8783547787549184,
          0.9455198244794488,
          0.7646239779119828,
          0.8103493961621379,
          0.6648274117894588,
          0.6558667542906086,
          0.6422230443238732,
          0.6391730982750156,
          0.6934765039297069,
          0.6895408883053928,
          0.6315466357261564,
          0.6402888115222659,
          0.6840257252181997,
          0.6869089433050847,
          0.7174505960838787,
          0.6612071907870587,
          0.6003523697184783,
          0.6195563704486614,
          0.652156241137956,
          0.6050832624393397,
          0.6026955449228255,
          0.6223644680307718,
          0.6391576010329512,
          0.6329247154736289,
          0.6014899278556308,
          0.7395296006671987,
          0.7037598142957925,
          0.6453823509918785,
          0.6209404076360141,
          0.6023506026406293,
          0.6737347600065828
         ],
         "xaxis": "x",
         "y": [
          305.4,
          -117.39999999999998,
          -225.4,
          235.8000000000001,
          295.8,
          -2267.6,
          -178.79999999999993,
          -4634.2,
          -2108.2,
          277.8,
          -260.6,
          272.6,
          290.4,
          283.6,
          287.40000000000003,
          276.6,
          -88.79999999999991,
          264.40000000000003,
          287.4,
          270,
          239.8,
          271.2,
          277.6,
          297.4,
          255.8,
          309.8,
          292.00000000000006,
          -1072,
          287.8,
          281.6,
          -333,
          296.8,
          288.4000000000001,
          280.6,
          298.4,
          300.8,
          293.4,
          291.4,
          305.20000000000005,
          273.6,
          262.8,
          298.8,
          290.8,
          298.8,
          288.4,
          -1935.2,
          292.8,
          274.6,
          288.40000000000003,
          -645.1999999999999
         ],
         "yaxis": "y"
        },
        {
         "marker": {
          "color": [
           0,
           1,
           2,
           3,
           4,
           5,
           6,
           7,
           8,
           9,
           10,
           11,
           12,
           13,
           14,
           15,
           16,
           17,
           18,
           19,
           20,
           21,
           22,
           23,
           24,
           25,
           26,
           27,
           28,
           29,
           30,
           31,
           32,
           33,
           34,
           35,
           36,
           37,
           38,
           39,
           40,
           41,
           42,
           43,
           44,
           45,
           46,
           47,
           48,
           49
          ],
          "colorbar": {
           "title": {
            "text": "Trial"
           },
           "x": 1,
           "xpad": 40
          },
          "colorscale": [
           [
            0,
            "rgb(247,251,255)"
           ],
           [
            0.125,
            "rgb(222,235,247)"
           ],
           [
            0.25,
            "rgb(198,219,239)"
           ],
           [
            0.375,
            "rgb(158,202,225)"
           ],
           [
            0.5,
            "rgb(107,174,214)"
           ],
           [
            0.625,
            "rgb(66,146,198)"
           ],
           [
            0.75,
            "rgb(33,113,181)"
           ],
           [
            0.875,
            "rgb(8,81,156)"
           ],
           [
            1,
            "rgb(8,48,107)"
           ]
          ],
          "line": {
           "color": "Grey",
           "width": 0.5
          },
          "showscale": false
         },
         "mode": "markers",
         "name": "Feasible Trial",
         "showlegend": false,
         "type": "scatter",
         "x": [
          0.07800932022121826,
          0.41622132040021087,
          0.30592644736118974,
          0.29620728443102123,
          0.15230688458668534,
          0.12938999080000846,
          0.46974947078209456,
          0.194338644844741,
          0.03727532183988541,
          0.38563517334297287,
          0.007683868664052143,
          0.1167235717698462,
          0.13066263156829958,
          0.07639569329519566,
          0.2033356295452699,
          0.22616315643880422,
          0.16201605006775435,
          0.07467864047884067,
          0.27004751005679706,
          0.059052034925492936,
          0.33805498772353254,
          0.13740891421267268,
          0.17775937934227015,
          0.10043700498086088,
          0.09742932185094433,
          0.007196960146638287,
          0.005229780877342161,
          0.03840001655398875,
          0.03547251214369216,
          0.09496003912986002,
          0.0006225393284621517,
          0.051235474800395975,
          0.05600926241803353,
          0.09716858338110398,
          0.03285328175261782,
          0.02762231704535499,
          0.024302104985162082,
          0.07478953909973564,
          0.4713386595732588,
          0.48992263569968086,
          0.3861036314593588,
          0.2928964625818664,
          0.4460380679068837,
          0.3191303354280147,
          0.35645750815531346,
          0.25903528219670224,
          0.4136938687789151,
          0.22103882007359307,
          0.2837288546978885,
          0.4405467047023246
         ],
         "xaxis": "x2",
         "y": [
          305.4,
          -117.39999999999998,
          -225.4,
          235.8000000000001,
          295.8,
          -2267.6,
          -178.79999999999993,
          -4634.2,
          -2108.2,
          277.8,
          -260.6,
          272.6,
          290.4,
          283.6,
          287.40000000000003,
          276.6,
          -88.79999999999991,
          264.40000000000003,
          287.4,
          270,
          239.8,
          271.2,
          277.6,
          297.4,
          255.8,
          309.8,
          292.00000000000006,
          -1072,
          287.8,
          281.6,
          -333,
          296.8,
          288.4000000000001,
          280.6,
          298.4,
          300.8,
          293.4,
          291.4,
          305.20000000000005,
          273.6,
          262.8,
          298.8,
          290.8,
          298.8,
          288.4,
          -1935.2,
          292.8,
          274.6,
          288.40000000000003,
          -645.1999999999999
         ],
         "yaxis": "y2"
        },
        {
         "marker": {
          "color": [
           0,
           1,
           2,
           3,
           4,
           5,
           6,
           7,
           8,
           9,
           10,
           11,
           12,
           13,
           14,
           15,
           16,
           17,
           18,
           19,
           20,
           21,
           22,
           23,
           24,
           25,
           26,
           27,
           28,
           29,
           30,
           31,
           32,
           33,
           34,
           35,
           36,
           37,
           38,
           39,
           40,
           41,
           42,
           43,
           44,
           45,
           46,
           47,
           48,
           49
          ],
          "colorbar": {
           "title": {
            "text": "Trial"
           },
           "x": 1,
           "xpad": 40
          },
          "colorscale": [
           [
            0,
            "rgb(247,251,255)"
           ],
           [
            0.125,
            "rgb(222,235,247)"
           ],
           [
            0.25,
            "rgb(198,219,239)"
           ],
           [
            0.375,
            "rgb(158,202,225)"
           ],
           [
            0.5,
            "rgb(107,174,214)"
           ],
           [
            0.625,
            "rgb(66,146,198)"
           ],
           [
            0.75,
            "rgb(33,113,181)"
           ],
           [
            0.875,
            "rgb(8,81,156)"
           ],
           [
            1,
            "rgb(8,48,107)"
           ]
          ],
          "line": {
           "color": "Grey",
           "width": 0.5
          },
          "showscale": false
         },
         "mode": "markers",
         "name": "Feasible Trial",
         "showlegend": false,
         "type": "scatter",
         "x": [
          0.14886262201211786,
          0.034787028257996074,
          0.011598924466766455,
          0.055213459515736196,
          0.14724043680961832,
          0.009715161640377407,
          0.0015134650182984423,
          0.0016178161616817175,
          0.012915099897772675,
          0.06619871537619336,
          0.0005182926310126857,
          0.19502395377574622,
          0.19777302346890807,
          0.09026194589439383,
          0.026619097699121998,
          0.11011242129943638,
          0.005084446113648767,
          0.028239928602292682,
          0.13292702078897078,
          0.04178064513208245,
          0.019467265156903023,
          0.19139602969312342,
          0.08968597379230246,
          0.19011613236608804,
          0.06226773685280021,
          0.11780549783176551,
          0.08629125576551479,
          0.004760638891402726,
          0.04774051175813904,
          0.11921657083389012,
          0.019271191991498515,
          0.14256018847587248,
          0.15132224956486973,
          0.06813127562646501,
          0.11067443204303139,
          0.039784460156762534,
          0.035035660226907246,
          0.056126728852871365,
          0.09412225440655114,
          0.07942511343367077,
          0.0447169886902192,
          0.09135167866492153,
          0.09926673926893055,
          0.06306086166591088,
          0.14378070788352215,
          0.007540014239175769,
          0.033874036404638826,
          0.018958395842863063,
          0.07859925586166756,
          0.0020285413895751235
         ],
         "xaxis": "x3",
         "y": [
          305.4,
          -117.39999999999998,
          -225.4,
          235.8000000000001,
          295.8,
          -2267.6,
          -178.79999999999993,
          -4634.2,
          -2108.2,
          277.8,
          -260.6,
          272.6,
          290.4,
          283.6,
          287.40000000000003,
          276.6,
          -88.79999999999991,
          264.40000000000003,
          287.4,
          270,
          239.8,
          271.2,
          277.6,
          297.4,
          255.8,
          309.8,
          292.00000000000006,
          -1072,
          287.8,
          281.6,
          -333,
          296.8,
          288.4000000000001,
          280.6,
          298.4,
          300.8,
          293.4,
          291.4,
          305.20000000000005,
          273.6,
          262.8,
          298.8,
          290.8,
          298.8,
          288.4,
          -1935.2,
          292.8,
          274.6,
          288.40000000000003,
          -645.1999999999999
         ],
         "yaxis": "y3"
        },
        {
         "marker": {
          "color": [
           0,
           1,
           2,
           3,
           4,
           5,
           6,
           7,
           8,
           9,
           10,
           11,
           12,
           13,
           14,
           15,
           16,
           17,
           18,
           19,
           20,
           21,
           22,
           23,
           24,
           25,
           26,
           27,
           28,
           29,
           30,
           31,
           32,
           33,
           34,
           35,
           36,
           37,
           38,
           39,
           40,
           41,
           42,
           43,
           44,
           45,
           46,
           47,
           48,
           49
          ],
          "colorbar": {
           "title": {
            "text": "Trial"
           },
           "x": 1,
           "xpad": 40
          },
          "colorscale": [
           [
            0,
            "rgb(247,251,255)"
           ],
           [
            0.125,
            "rgb(222,235,247)"
           ],
           [
            0.25,
            "rgb(198,219,239)"
           ],
           [
            0.375,
            "rgb(158,202,225)"
           ],
           [
            0.5,
            "rgb(107,174,214)"
           ],
           [
            0.625,
            "rgb(66,146,198)"
           ],
           [
            0.75,
            "rgb(33,113,181)"
           ],
           [
            0.875,
            "rgb(8,81,156)"
           ],
           [
            1,
            "rgb(8,48,107)"
           ]
          ],
          "line": {
           "color": "Grey",
           "width": 0.5
          },
          "showscale": false
         },
         "mode": "markers",
         "name": "Feasible Trial",
         "showlegend": false,
         "type": "scatter",
         "x": [
          9,
          2,
          4,
          1,
          4,
          5,
          10,
          3,
          2,
          1,
          9,
          7,
          7,
          6,
          8,
          5,
          10,
          4,
          0,
          8,
          6,
          8,
          7,
          9,
          9,
          9,
          9,
          10,
          9,
          8,
          10,
          3,
          3,
          6,
          3,
          9,
          7,
          4,
          2,
          0,
          1,
          2,
          2,
          2,
          10,
          1,
          5,
          8,
          0,
          2
         ],
         "xaxis": "x4",
         "y": [
          305.4,
          -117.39999999999998,
          -225.4,
          235.8000000000001,
          295.8,
          -2267.6,
          -178.79999999999993,
          -4634.2,
          -2108.2,
          277.8,
          -260.6,
          272.6,
          290.4,
          283.6,
          287.40000000000003,
          276.6,
          -88.79999999999991,
          264.40000000000003,
          287.4,
          270,
          239.8,
          271.2,
          277.6,
          297.4,
          255.8,
          309.8,
          292.00000000000006,
          -1072,
          287.8,
          281.6,
          -333,
          296.8,
          288.4000000000001,
          280.6,
          298.4,
          300.8,
          293.4,
          291.4,
          305.20000000000005,
          273.6,
          262.8,
          298.8,
          290.8,
          298.8,
          288.4,
          -1935.2,
          292.8,
          274.6,
          288.40000000000003,
          -645.1999999999999
         ],
         "yaxis": "y4"
        },
        {
         "marker": {
          "color": [
           0,
           1,
           2,
           3,
           4,
           5,
           6,
           7,
           8,
           9,
           10,
           11,
           12,
           13,
           14,
           15,
           16,
           17,
           18,
           19,
           20,
           21,
           22,
           23,
           24,
           25,
           26,
           27,
           28,
           29,
           30,
           31,
           32,
           33,
           34,
           35,
           36,
           37,
           38,
           39,
           40,
           41,
           42,
           43,
           44,
           45,
           46,
           47,
           48,
           49
          ],
          "colorbar": {
           "title": {
            "text": "Trial"
           },
           "x": 1,
           "xpad": 40
          },
          "colorscale": [
           [
            0,
            "rgb(247,251,255)"
           ],
           [
            0.125,
            "rgb(222,235,247)"
           ],
           [
            0.25,
            "rgb(198,219,239)"
           ],
           [
            0.375,
            "rgb(158,202,225)"
           ],
           [
            0.5,
            "rgb(107,174,214)"
           ],
           [
            0.625,
            "rgb(66,146,198)"
           ],
           [
            0.75,
            "rgb(33,113,181)"
           ],
           [
            0.875,
            "rgb(8,81,156)"
           ],
           [
            1,
            "rgb(8,48,107)"
           ]
          ],
          "line": {
           "color": "Grey",
           "width": 0.5
          },
          "showscale": false
         },
         "mode": "markers",
         "name": "Feasible Trial",
         "showlegend": false,
         "type": "scatter",
         "x": [
          8,
          3,
          6,
          4,
          9,
          3,
          9,
          3,
          3,
          7,
          7,
          9,
          8,
          8,
          6,
          8,
          9,
          5,
          7,
          8,
          9,
          8,
          8,
          7,
          6,
          7,
          7,
          5,
          7,
          6,
          5,
          9,
          7,
          8,
          9,
          7,
          8,
          9,
          6,
          6,
          5,
          6,
          6,
          6,
          7,
          4,
          6,
          7,
          7,
          6
         ],
         "xaxis": "x5",
         "y": [
          305.4,
          -117.39999999999998,
          -225.4,
          235.8000000000001,
          295.8,
          -2267.6,
          -178.79999999999993,
          -4634.2,
          -2108.2,
          277.8,
          -260.6,
          272.6,
          290.4,
          283.6,
          287.40000000000003,
          276.6,
          -88.79999999999991,
          264.40000000000003,
          287.4,
          270,
          239.8,
          271.2,
          277.6,
          297.4,
          255.8,
          309.8,
          292.00000000000006,
          -1072,
          287.8,
          281.6,
          -333,
          296.8,
          288.4000000000001,
          280.6,
          298.4,
          300.8,
          293.4,
          291.4,
          305.20000000000005,
          273.6,
          262.8,
          298.8,
          290.8,
          298.8,
          288.4,
          -1935.2,
          292.8,
          274.6,
          288.40000000000003,
          -645.1999999999999
         ],
         "yaxis": "y5"
        },
        {
         "marker": {
          "color": [
           0,
           1,
           2,
           3,
           4,
           5,
           6,
           7,
           8,
           9,
           10,
           11,
           12,
           13,
           14,
           15,
           16,
           17,
           18,
           19,
           20,
           21,
           22,
           23,
           24,
           25,
           26,
           27,
           28,
           29,
           30,
           31,
           32,
           33,
           34,
           35,
           36,
           37,
           38,
           39,
           40,
           41,
           42,
           43,
           44,
           45,
           46,
           47,
           48,
           49
          ],
          "colorbar": {
           "title": {
            "text": "Trial"
           },
           "x": 1,
           "xpad": 40
          },
          "colorscale": [
           [
            0,
            "rgb(247,251,255)"
           ],
           [
            0.125,
            "rgb(222,235,247)"
           ],
           [
            0.25,
            "rgb(198,219,239)"
           ],
           [
            0.375,
            "rgb(158,202,225)"
           ],
           [
            0.5,
            "rgb(107,174,214)"
           ],
           [
            0.625,
            "rgb(66,146,198)"
           ],
           [
            0.75,
            "rgb(33,113,181)"
           ],
           [
            0.875,
            "rgb(8,81,156)"
           ],
           [
            1,
            "rgb(8,48,107)"
           ]
          ],
          "line": {
           "color": "Grey",
           "width": 0.5
          },
          "showscale": false
         },
         "mode": "markers",
         "name": "Feasible Trial",
         "showlegend": false,
         "type": "scatter",
         "x": [
          0.6251373574521749,
          8.123245085588687,
          0.07476312062252301,
          0.34890188454913873,
          2.6619018884890564,
          5.345166110646819,
          2.1154290797261215,
          0.09462175356461491,
          2.5502980701628926,
          1.5382308040278996,
          0.01132102180423038,
          0.5990937895571765,
          0.8417063037735232,
          0.12785868619453924,
          0.23296755935885294,
          0.031381149231882115,
          3.879555467818439,
          0.94896791575319,
          0.3938266821068358,
          1.6893806027344118,
          0.19705406434342268,
          0.7640107481737557,
          1.0363227161857758,
          0.492988668446176,
          9.826740452177596,
          0.33117648065599964,
          0.4307743754225539,
          0.053665559163850615,
          0.2024252983621731,
          0.560448123895573,
          0.13576273917790843,
          4.709324939800523,
          6.000029984369752,
          0.25688696707127595,
          1.1660594485895914,
          1.2493189550872934,
          1.2512067538817722,
          3.640160157744684,
          1.7681936096208934,
          0.33957169526985925,
          2.0557025251149685,
          1.291296208122227,
          2.786688066997921,
          0.6670438837278988,
          1.574600028278175,
          2.312250450295015,
          1.37814297145321,
          0.7419550671252163,
          0.27845498683178355,
          3.2521503541295123
         ],
         "xaxis": "x6",
         "y": [
          305.4,
          -117.39999999999998,
          -225.4,
          235.8000000000001,
          295.8,
          -2267.6,
          -178.79999999999993,
          -4634.2,
          -2108.2,
          277.8,
          -260.6,
          272.6,
          290.4,
          283.6,
          287.40000000000003,
          276.6,
          -88.79999999999991,
          264.40000000000003,
          287.4,
          270,
          239.8,
          271.2,
          277.6,
          297.4,
          255.8,
          309.8,
          292.00000000000006,
          -1072,
          287.8,
          281.6,
          -333,
          296.8,
          288.4000000000001,
          280.6,
          298.4,
          300.8,
          293.4,
          291.4,
          305.20000000000005,
          273.6,
          262.8,
          298.8,
          290.8,
          298.8,
          288.4,
          -1935.2,
          292.8,
          274.6,
          288.40000000000003,
          -645.1999999999999
         ],
         "yaxis": "y6"
        },
        {
         "marker": {
          "color": [
           0,
           1,
           2,
           3,
           4,
           5,
           6,
           7,
           8,
           9,
           10,
           11,
           12,
           13,
           14,
           15,
           16,
           17,
           18,
           19,
           20,
           21,
           22,
           23,
           24,
           25,
           26,
           27,
           28,
           29,
           30,
           31,
           32,
           33,
           34,
           35,
           36,
           37,
           38,
           39,
           40,
           41,
           42,
           43,
           44,
           45,
           46,
           47,
           48,
           49
          ],
          "colorbar": {
           "title": {
            "text": "Trial"
           },
           "x": 1,
           "xpad": 40
          },
          "colorscale": [
           [
            0,
            "rgb(247,251,255)"
           ],
           [
            0.125,
            "rgb(222,235,247)"
           ],
           [
            0.25,
            "rgb(198,219,239)"
           ],
           [
            0.375,
            "rgb(158,202,225)"
           ],
           [
            0.5,
            "rgb(107,174,214)"
           ],
           [
            0.625,
            "rgb(66,146,198)"
           ],
           [
            0.75,
            "rgb(33,113,181)"
           ],
           [
            0.875,
            "rgb(8,81,156)"
           ],
           [
            1,
            "rgb(8,48,107)"
           ]
          ],
          "line": {
           "color": "Grey",
           "width": 0.5
          },
          "showscale": false
         },
         "mode": "markers",
         "name": "Feasible Trial",
         "showlegend": false,
         "type": "scatter",
         "x": [
          637,
          841,
          574,
          710,
          358,
          409,
          792,
          379,
          553,
          304,
          1106,
          1006,
          542,
          659,
          873,
          473,
          309,
          954,
          643,
          446,
          754,
          528,
          609,
          488,
          478,
          376,
          671,
          480,
          370,
          814,
          432,
          353,
          515,
          352,
          583,
          597,
          605,
          752,
          701,
          873,
          683,
          583,
          699,
          732,
          634,
          576,
          782,
          1177,
          556,
          723
         ],
         "xaxis": "x7",
         "y": [
          305.4,
          -117.39999999999998,
          -225.4,
          235.8000000000001,
          295.8,
          -2267.6,
          -178.79999999999993,
          -4634.2,
          -2108.2,
          277.8,
          -260.6,
          272.6,
          290.4,
          283.6,
          287.40000000000003,
          276.6,
          -88.79999999999991,
          264.40000000000003,
          287.4,
          270,
          239.8,
          271.2,
          277.6,
          297.4,
          255.8,
          309.8,
          292.00000000000006,
          -1072,
          287.8,
          281.6,
          -333,
          296.8,
          288.4000000000001,
          280.6,
          298.4,
          300.8,
          293.4,
          291.4,
          305.20000000000005,
          273.6,
          262.8,
          298.8,
          290.8,
          298.8,
          288.4,
          -1935.2,
          292.8,
          274.6,
          288.40000000000003,
          -645.1999999999999
         ],
         "yaxis": "y7"
        },
        {
         "marker": {
          "color": [
           0,
           1,
           2,
           3,
           4,
           5,
           6,
           7,
           8,
           9,
           10,
           11,
           12,
           13,
           14,
           15,
           16,
           17,
           18,
           19,
           20,
           21,
           22,
           23,
           24,
           25,
           26,
           27,
           28,
           29,
           30,
           31,
           32,
           33,
           34,
           35,
           36,
           37,
           38,
           39,
           40,
           41,
           42,
           43,
           44,
           45,
           46,
           47,
           48,
           49
          ],
          "colorbar": {
           "title": {
            "text": "Trial"
           },
           "x": 1,
           "xpad": 40
          },
          "colorscale": [
           [
            0,
            "rgb(247,251,255)"
           ],
           [
            0.125,
            "rgb(222,235,247)"
           ],
           [
            0.25,
            "rgb(198,219,239)"
           ],
           [
            0.375,
            "rgb(158,202,225)"
           ],
           [
            0.5,
            "rgb(107,174,214)"
           ],
           [
            0.625,
            "rgb(66,146,198)"
           ],
           [
            0.75,
            "rgb(33,113,181)"
           ],
           [
            0.875,
            "rgb(8,81,156)"
           ],
           [
            1,
            "rgb(8,48,107)"
           ]
          ],
          "line": {
           "color": "Grey",
           "width": 0.5
          },
          "showscale": false
         },
         "mode": "markers",
         "name": "Feasible Trial",
         "showlegend": false,
         "type": "scatter",
         "x": [
          0.5779972601681014,
          0.6061695553391381,
          0.569746930326021,
          0.5232252063599989,
          0.5488360570031919,
          0.831261142176991,
          0.9474136752138245,
          0.6356745158869479,
          0.9934434683002586,
          0.5370223258670452,
          0.7190404637309149,
          0.6975337768549552,
          0.5046555777845694,
          0.8304278626461434,
          0.651723150444279,
          0.7967945385475436,
          0.5939491377055859,
          0.6707750474677462,
          0.7533881284358336,
          0.5736120808852527,
          0.7496498782182923,
          0.5008410273198123,
          0.5484853721510957,
          0.617683261540186,
          0.6221144155921522,
          0.5770570987170854,
          0.6949628191602379,
          0.5984315958210278,
          0.650002078145779,
          0.605690596421204,
          0.5685175506741637,
          0.5726326282318149,
          0.5835859437421063,
          0.6144854707985706,
          0.5397523903538466,
          0.5294385180895341,
          0.5343119527665035,
          0.517810801518841,
          0.5531236104887309,
          0.561327581678862,
          0.6636022284498319,
          0.5366093281640608,
          0.5183460264811075,
          0.5508406946819653,
          0.5293186011280115,
          0.6330522654986235,
          0.5027969607022454,
          0.9275133114228717,
          0.5884329587924731,
          0.8875278728669203
         ],
         "xaxis": "x8",
         "y": [
          305.4,
          -117.39999999999998,
          -225.4,
          235.8000000000001,
          295.8,
          -2267.6,
          -178.79999999999993,
          -4634.2,
          -2108.2,
          277.8,
          -260.6,
          272.6,
          290.4,
          283.6,
          287.40000000000003,
          276.6,
          -88.79999999999991,
          264.40000000000003,
          287.4,
          270,
          239.8,
          271.2,
          277.6,
          297.4,
          255.8,
          309.8,
          292.00000000000006,
          -1072,
          287.8,
          281.6,
          -333,
          296.8,
          288.4000000000001,
          280.6,
          298.4,
          300.8,
          293.4,
          291.4,
          305.20000000000005,
          273.6,
          262.8,
          298.8,
          290.8,
          298.8,
          288.4,
          -1935.2,
          292.8,
          274.6,
          288.40000000000003,
          -645.1999999999999
         ],
         "yaxis": "y8"
        }
       ],
       "layout": {
        "template": {
         "data": {
          "bar": [
           {
            "error_x": {
             "color": "#2a3f5f"
            },
            "error_y": {
             "color": "#2a3f5f"
            },
            "marker": {
             "line": {
              "color": "#E5ECF6",
              "width": 0.5
             },
             "pattern": {
              "fillmode": "overlay",
              "size": 10,
              "solidity": 0.2
             }
            },
            "type": "bar"
           }
          ],
          "barpolar": [
           {
            "marker": {
             "line": {
              "color": "#E5ECF6",
              "width": 0.5
             },
             "pattern": {
              "fillmode": "overlay",
              "size": 10,
              "solidity": 0.2
             }
            },
            "type": "barpolar"
           }
          ],
          "carpet": [
           {
            "aaxis": {
             "endlinecolor": "#2a3f5f",
             "gridcolor": "white",
             "linecolor": "white",
             "minorgridcolor": "white",
             "startlinecolor": "#2a3f5f"
            },
            "baxis": {
             "endlinecolor": "#2a3f5f",
             "gridcolor": "white",
             "linecolor": "white",
             "minorgridcolor": "white",
             "startlinecolor": "#2a3f5f"
            },
            "type": "carpet"
           }
          ],
          "choropleth": [
           {
            "colorbar": {
             "outlinewidth": 0,
             "ticks": ""
            },
            "type": "choropleth"
           }
          ],
          "contour": [
           {
            "colorbar": {
             "outlinewidth": 0,
             "ticks": ""
            },
            "colorscale": [
             [
              0,
              "#0d0887"
             ],
             [
              0.1111111111111111,
              "#46039f"
             ],
             [
              0.2222222222222222,
              "#7201a8"
             ],
             [
              0.3333333333333333,
              "#9c179e"
             ],
             [
              0.4444444444444444,
              "#bd3786"
             ],
             [
              0.5555555555555556,
              "#d8576b"
             ],
             [
              0.6666666666666666,
              "#ed7953"
             ],
             [
              0.7777777777777778,
              "#fb9f3a"
             ],
             [
              0.8888888888888888,
              "#fdca26"
             ],
             [
              1,
              "#f0f921"
             ]
            ],
            "type": "contour"
           }
          ],
          "contourcarpet": [
           {
            "colorbar": {
             "outlinewidth": 0,
             "ticks": ""
            },
            "type": "contourcarpet"
           }
          ],
          "heatmap": [
           {
            "colorbar": {
             "outlinewidth": 0,
             "ticks": ""
            },
            "colorscale": [
             [
              0,
              "#0d0887"
             ],
             [
              0.1111111111111111,
              "#46039f"
             ],
             [
              0.2222222222222222,
              "#7201a8"
             ],
             [
              0.3333333333333333,
              "#9c179e"
             ],
             [
              0.4444444444444444,
              "#bd3786"
             ],
             [
              0.5555555555555556,
              "#d8576b"
             ],
             [
              0.6666666666666666,
              "#ed7953"
             ],
             [
              0.7777777777777778,
              "#fb9f3a"
             ],
             [
              0.8888888888888888,
              "#fdca26"
             ],
             [
              1,
              "#f0f921"
             ]
            ],
            "type": "heatmap"
           }
          ],
          "heatmapgl": [
           {
            "colorbar": {
             "outlinewidth": 0,
             "ticks": ""
            },
            "colorscale": [
             [
              0,
              "#0d0887"
             ],
             [
              0.1111111111111111,
              "#46039f"
             ],
             [
              0.2222222222222222,
              "#7201a8"
             ],
             [
              0.3333333333333333,
              "#9c179e"
             ],
             [
              0.4444444444444444,
              "#bd3786"
             ],
             [
              0.5555555555555556,
              "#d8576b"
             ],
             [
              0.6666666666666666,
              "#ed7953"
             ],
             [
              0.7777777777777778,
              "#fb9f3a"
             ],
             [
              0.8888888888888888,
              "#fdca26"
             ],
             [
              1,
              "#f0f921"
             ]
            ],
            "type": "heatmapgl"
           }
          ],
          "histogram": [
           {
            "marker": {
             "pattern": {
              "fillmode": "overlay",
              "size": 10,
              "solidity": 0.2
             }
            },
            "type": "histogram"
           }
          ],
          "histogram2d": [
           {
            "colorbar": {
             "outlinewidth": 0,
             "ticks": ""
            },
            "colorscale": [
             [
              0,
              "#0d0887"
             ],
             [
              0.1111111111111111,
              "#46039f"
             ],
             [
              0.2222222222222222,
              "#7201a8"
             ],
             [
              0.3333333333333333,
              "#9c179e"
             ],
             [
              0.4444444444444444,
              "#bd3786"
             ],
             [
              0.5555555555555556,
              "#d8576b"
             ],
             [
              0.6666666666666666,
              "#ed7953"
             ],
             [
              0.7777777777777778,
              "#fb9f3a"
             ],
             [
              0.8888888888888888,
              "#fdca26"
             ],
             [
              1,
              "#f0f921"
             ]
            ],
            "type": "histogram2d"
           }
          ],
          "histogram2dcontour": [
           {
            "colorbar": {
             "outlinewidth": 0,
             "ticks": ""
            },
            "colorscale": [
             [
              0,
              "#0d0887"
             ],
             [
              0.1111111111111111,
              "#46039f"
             ],
             [
              0.2222222222222222,
              "#7201a8"
             ],
             [
              0.3333333333333333,
              "#9c179e"
             ],
             [
              0.4444444444444444,
              "#bd3786"
             ],
             [
              0.5555555555555556,
              "#d8576b"
             ],
             [
              0.6666666666666666,
              "#ed7953"
             ],
             [
              0.7777777777777778,
              "#fb9f3a"
             ],
             [
              0.8888888888888888,
              "#fdca26"
             ],
             [
              1,
              "#f0f921"
             ]
            ],
            "type": "histogram2dcontour"
           }
          ],
          "mesh3d": [
           {
            "colorbar": {
             "outlinewidth": 0,
             "ticks": ""
            },
            "type": "mesh3d"
           }
          ],
          "parcoords": [
           {
            "line": {
             "colorbar": {
              "outlinewidth": 0,
              "ticks": ""
             }
            },
            "type": "parcoords"
           }
          ],
          "pie": [
           {
            "automargin": true,
            "type": "pie"
           }
          ],
          "scatter": [
           {
            "fillpattern": {
             "fillmode": "overlay",
             "size": 10,
             "solidity": 0.2
            },
            "type": "scatter"
           }
          ],
          "scatter3d": [
           {
            "line": {
             "colorbar": {
              "outlinewidth": 0,
              "ticks": ""
             }
            },
            "marker": {
             "colorbar": {
              "outlinewidth": 0,
              "ticks": ""
             }
            },
            "type": "scatter3d"
           }
          ],
          "scattercarpet": [
           {
            "marker": {
             "colorbar": {
              "outlinewidth": 0,
              "ticks": ""
             }
            },
            "type": "scattercarpet"
           }
          ],
          "scattergeo": [
           {
            "marker": {
             "colorbar": {
              "outlinewidth": 0,
              "ticks": ""
             }
            },
            "type": "scattergeo"
           }
          ],
          "scattergl": [
           {
            "marker": {
             "colorbar": {
              "outlinewidth": 0,
              "ticks": ""
             }
            },
            "type": "scattergl"
           }
          ],
          "scattermapbox": [
           {
            "marker": {
             "colorbar": {
              "outlinewidth": 0,
              "ticks": ""
             }
            },
            "type": "scattermapbox"
           }
          ],
          "scatterpolar": [
           {
            "marker": {
             "colorbar": {
              "outlinewidth": 0,
              "ticks": ""
             }
            },
            "type": "scatterpolar"
           }
          ],
          "scatterpolargl": [
           {
            "marker": {
             "colorbar": {
              "outlinewidth": 0,
              "ticks": ""
             }
            },
            "type": "scatterpolargl"
           }
          ],
          "scatterternary": [
           {
            "marker": {
             "colorbar": {
              "outlinewidth": 0,
              "ticks": ""
             }
            },
            "type": "scatterternary"
           }
          ],
          "surface": [
           {
            "colorbar": {
             "outlinewidth": 0,
             "ticks": ""
            },
            "colorscale": [
             [
              0,
              "#0d0887"
             ],
             [
              0.1111111111111111,
              "#46039f"
             ],
             [
              0.2222222222222222,
              "#7201a8"
             ],
             [
              0.3333333333333333,
              "#9c179e"
             ],
             [
              0.4444444444444444,
              "#bd3786"
             ],
             [
              0.5555555555555556,
              "#d8576b"
             ],
             [
              0.6666666666666666,
              "#ed7953"
             ],
             [
              0.7777777777777778,
              "#fb9f3a"
             ],
             [
              0.8888888888888888,
              "#fdca26"
             ],
             [
              1,
              "#f0f921"
             ]
            ],
            "type": "surface"
           }
          ],
          "table": [
           {
            "cells": {
             "fill": {
              "color": "#EBF0F8"
             },
             "line": {
              "color": "white"
             }
            },
            "header": {
             "fill": {
              "color": "#C8D4E3"
             },
             "line": {
              "color": "white"
             }
            },
            "type": "table"
           }
          ]
         },
         "layout": {
          "annotationdefaults": {
           "arrowcolor": "#2a3f5f",
           "arrowhead": 0,
           "arrowwidth": 1
          },
          "autotypenumbers": "strict",
          "coloraxis": {
           "colorbar": {
            "outlinewidth": 0,
            "ticks": ""
           }
          },
          "colorscale": {
           "diverging": [
            [
             0,
             "#8e0152"
            ],
            [
             0.1,
             "#c51b7d"
            ],
            [
             0.2,
             "#de77ae"
            ],
            [
             0.3,
             "#f1b6da"
            ],
            [
             0.4,
             "#fde0ef"
            ],
            [
             0.5,
             "#f7f7f7"
            ],
            [
             0.6,
             "#e6f5d0"
            ],
            [
             0.7,
             "#b8e186"
            ],
            [
             0.8,
             "#7fbc41"
            ],
            [
             0.9,
             "#4d9221"
            ],
            [
             1,
             "#276419"
            ]
           ],
           "sequential": [
            [
             0,
             "#0d0887"
            ],
            [
             0.1111111111111111,
             "#46039f"
            ],
            [
             0.2222222222222222,
             "#7201a8"
            ],
            [
             0.3333333333333333,
             "#9c179e"
            ],
            [
             0.4444444444444444,
             "#bd3786"
            ],
            [
             0.5555555555555556,
             "#d8576b"
            ],
            [
             0.6666666666666666,
             "#ed7953"
            ],
            [
             0.7777777777777778,
             "#fb9f3a"
            ],
            [
             0.8888888888888888,
             "#fdca26"
            ],
            [
             1,
             "#f0f921"
            ]
           ],
           "sequentialminus": [
            [
             0,
             "#0d0887"
            ],
            [
             0.1111111111111111,
             "#46039f"
            ],
            [
             0.2222222222222222,
             "#7201a8"
            ],
            [
             0.3333333333333333,
             "#9c179e"
            ],
            [
             0.4444444444444444,
             "#bd3786"
            ],
            [
             0.5555555555555556,
             "#d8576b"
            ],
            [
             0.6666666666666666,
             "#ed7953"
            ],
            [
             0.7777777777777778,
             "#fb9f3a"
            ],
            [
             0.8888888888888888,
             "#fdca26"
            ],
            [
             1,
             "#f0f921"
            ]
           ]
          },
          "colorway": [
           "#636efa",
           "#EF553B",
           "#00cc96",
           "#ab63fa",
           "#FFA15A",
           "#19d3f3",
           "#FF6692",
           "#B6E880",
           "#FF97FF",
           "#FECB52"
          ],
          "font": {
           "color": "#2a3f5f"
          },
          "geo": {
           "bgcolor": "white",
           "lakecolor": "white",
           "landcolor": "#E5ECF6",
           "showlakes": true,
           "showland": true,
           "subunitcolor": "white"
          },
          "hoverlabel": {
           "align": "left"
          },
          "hovermode": "closest",
          "mapbox": {
           "style": "light"
          },
          "paper_bgcolor": "white",
          "plot_bgcolor": "#E5ECF6",
          "polar": {
           "angularaxis": {
            "gridcolor": "white",
            "linecolor": "white",
            "ticks": ""
           },
           "bgcolor": "#E5ECF6",
           "radialaxis": {
            "gridcolor": "white",
            "linecolor": "white",
            "ticks": ""
           }
          },
          "scene": {
           "xaxis": {
            "backgroundcolor": "#E5ECF6",
            "gridcolor": "white",
            "gridwidth": 2,
            "linecolor": "white",
            "showbackground": true,
            "ticks": "",
            "zerolinecolor": "white"
           },
           "yaxis": {
            "backgroundcolor": "#E5ECF6",
            "gridcolor": "white",
            "gridwidth": 2,
            "linecolor": "white",
            "showbackground": true,
            "ticks": "",
            "zerolinecolor": "white"
           },
           "zaxis": {
            "backgroundcolor": "#E5ECF6",
            "gridcolor": "white",
            "gridwidth": 2,
            "linecolor": "white",
            "showbackground": true,
            "ticks": "",
            "zerolinecolor": "white"
           }
          },
          "shapedefaults": {
           "line": {
            "color": "#2a3f5f"
           }
          },
          "ternary": {
           "aaxis": {
            "gridcolor": "white",
            "linecolor": "white",
            "ticks": ""
           },
           "baxis": {
            "gridcolor": "white",
            "linecolor": "white",
            "ticks": ""
           },
           "bgcolor": "#E5ECF6",
           "caxis": {
            "gridcolor": "white",
            "linecolor": "white",
            "ticks": ""
           }
          },
          "title": {
           "x": 0.05
          },
          "xaxis": {
           "automargin": true,
           "gridcolor": "white",
           "linecolor": "white",
           "ticks": "",
           "title": {
            "standoff": 15
           },
           "zerolinecolor": "white",
           "zerolinewidth": 2
          },
          "yaxis": {
           "automargin": true,
           "gridcolor": "white",
           "linecolor": "white",
           "ticks": "",
           "title": {
            "standoff": 15
           },
           "zerolinecolor": "white",
           "zerolinewidth": 2
          }
         }
        },
        "title": {
         "text": "Slice Plot"
        },
        "width": 2400,
        "xaxis": {
         "anchor": "y",
         "domain": [
          0,
          0.103125
         ],
         "title": {
          "text": "colsample_bytree"
         }
        },
        "xaxis2": {
         "anchor": "y2",
         "domain": [
          0.128125,
          0.23124999999999998
         ],
         "title": {
          "text": "gamma"
         }
        },
        "xaxis3": {
         "anchor": "y3",
         "domain": [
          0.25625,
          0.359375
         ],
         "title": {
          "text": "learning_rate"
         },
         "type": "log"
        },
        "xaxis4": {
         "anchor": "y4",
         "domain": [
          0.38437499999999997,
          0.48749999999999993
         ],
         "title": {
          "text": "max_delta_step"
         }
        },
        "xaxis5": {
         "anchor": "y5",
         "domain": [
          0.5125,
          0.615625
         ],
         "title": {
          "text": "max_depth"
         }
        },
        "xaxis6": {
         "anchor": "y6",
         "domain": [
          0.640625,
          0.74375
         ],
         "title": {
          "text": "min_child_weight"
         },
         "type": "log"
        },
        "xaxis7": {
         "anchor": "y7",
         "domain": [
          0.7687499999999999,
          0.871875
         ],
         "title": {
          "text": "n_estimators"
         }
        },
        "xaxis8": {
         "anchor": "y8",
         "domain": [
          0.896875,
          1
         ],
         "title": {
          "text": "subsample"
         }
        },
        "yaxis": {
         "anchor": "x",
         "domain": [
          0,
          1
         ],
         "title": {
          "text": "Objective Value"
         }
        },
        "yaxis2": {
         "anchor": "x2",
         "domain": [
          0,
          1
         ],
         "matches": "y",
         "showticklabels": false
        },
        "yaxis3": {
         "anchor": "x3",
         "domain": [
          0,
          1
         ],
         "matches": "y",
         "showticklabels": false
        },
        "yaxis4": {
         "anchor": "x4",
         "domain": [
          0,
          1
         ],
         "matches": "y",
         "showticklabels": false
        },
        "yaxis5": {
         "anchor": "x5",
         "domain": [
          0,
          1
         ],
         "matches": "y",
         "showticklabels": false
        },
        "yaxis6": {
         "anchor": "x6",
         "domain": [
          0,
          1
         ],
         "matches": "y",
         "showticklabels": false
        },
        "yaxis7": {
         "anchor": "x7",
         "domain": [
          0,
          1
         ],
         "matches": "y",
         "showticklabels": false
        },
        "yaxis8": {
         "anchor": "x8",
         "domain": [
          0,
          1
         ],
         "matches": "y",
         "showticklabels": false
        }
       }
      }
     },
     "metadata": {},
     "output_type": "display_data"
    }
   ],
   "source": [
    "optuna.visualization.plot_optimization_history(study).show()\n",
    "optuna.visualization.plot_param_importances(study).show()\n",
    "optuna.visualization.plot_slice(study).show()"
   ]
  },
  {
   "cell_type": "markdown",
   "id": "e658c594",
   "metadata": {},
   "source": [
    "# Load Baseline XGBoost Models from MLflow"
   ]
  },
  {
   "cell_type": "code",
   "execution_count": 6,
   "id": "4e105ab4",
   "metadata": {},
   "outputs": [
    {
     "name": "stdout",
     "output_type": "stream",
     "text": [
      "Found run ID for XGBoost + SMOTE: efb7605b00b64fbd9512e6c3035cc794\n"
     ]
    }
   ],
   "source": [
    "mlruns_path = os.path.abspath(\"../mlruns\")\n",
    "mlflow.set_tracking_uri(f\"file:..///{mlruns_path}\")\n",
    "client = MlflowClient()\n",
    "experiment_id = \"811282905201061413\"\n",
    "runs = client.search_runs(\n",
    "    experiment_ids=[experiment_id],\n",
    "    order_by=[\"start_time desc\"]\n",
    ")\n",
    "\n",
    "xgb_smote_run = next(\n",
    "run for run in runs\n",
    "if run.data.tags.get(\"mlflow.runName\", \"\") == \"XGBoost + SMOTE\"\n",
    ")\n",
    "xgb_smote_run_id = xgb_smote_run.info.run_id\n",
    "print(f\"Found run ID for XGBoost + SMOTE: {xgb_smote_run_id}\")\n",
    "\n",
    "xgb_smote_artifact_path = os.path.join(mlruns_path, experiment_id, xgb_smote_run_id, \"artifacts\", \"XGBoost_+_SMOTE.pkl\")\n",
    "\n",
    "with open(xgb_smote_artifact_path, \"rb\") as f:\n",
    "    xgb_smote_baseline_model = pickle.load(f)"
   ]
  },
  {
   "cell_type": "markdown",
   "id": "b9c30990",
   "metadata": {},
   "source": [
    "# Final XGBoost + SMOTE Model Training & Test Set Evaluation"
   ]
  },
  {
   "cell_type": "code",
   "execution_count": 7,
   "id": "8c37616f",
   "metadata": {},
   "outputs": [
    {
     "name": "stdout",
     "output_type": "stream",
     "text": [
      "Baseline XGB Optimal Threshold @ 25% FN Penalty = 0.842, Max Profit = $538\n",
      "Tuned XGB Optimal Threshold @ 25% FN Penalty = 0.030, Max Profit = $577\n",
      "Profit Improvement from Tuning = $39\n"
     ]
    }
   ],
   "source": [
    "best_params = {\n",
    "**study.best_trial.params,\n",
    "\"objective\": \"binary:logistic\",\n",
    "\"eval_metric\": \"logloss\",\n",
    "\"random_state\": 42,\n",
    "\"n_jobs\": -1,\n",
    "\"tree_method\": \"hist\"\n",
    "}\n",
    "\n",
    "final_xgb_smote_model = xgb.XGBClassifier(**best_params)\n",
    "final_xgb_smote_model.fit(X_train, Y_train)\n",
    "\n",
    "xgb_smote_probs = final_xgb_smote_model.predict_proba(X_test)[:, 1]\n",
    "xgb_smote_probs_baseline = xgb_smote_baseline_model.predict_proba(X_test)[:, 1]\n",
    "taus = np.linspace(0.0, 1.0, 501)\n",
    "xgb_smote_profits = [profit(Y_test, (xgb_smote_probs >= t).astype(int)) for t in taus]\n",
    "xgb_smote_profits_baseline = [profit(Y_test, (xgb_smote_probs_baseline >= t).astype(int)) for t in taus]\n",
    "\n",
    "xgb_smote_best_tau_idx = int(np.argmax(xgb_smote_profits))\n",
    "xgb_smote_best_tau_idx_baseline = int(np.argmax(xgb_smote_profits_baseline))\n",
    "xgb_smote_best_tau = taus[xgb_smote_best_tau_idx]\n",
    "xgb_smote_best_tau_baseline = taus[xgb_smote_best_tau_idx_baseline]\n",
    "xgb_smote_best_profit = xgb_smote_profits[xgb_smote_best_tau_idx]\n",
    "xgb_smote_best_profit_baseline = xgb_smote_profits_baseline[xgb_smote_best_tau_idx_baseline]\n",
    "\n",
    "print(f\"Baseline XGB Optimal Threshold @ 25% FN Penalty = {xgb_smote_best_tau_baseline:.3f}, Max Profit = ${xgb_smote_best_profit_baseline:,.0f}\")\n",
    "print(f\"Tuned XGB Optimal Threshold @ 25% FN Penalty = {xgb_smote_best_tau:.3f}, Max Profit = ${xgb_smote_best_profit:,.0f}\")\n",
    "improvement = xgb_smote_best_profit - xgb_smote_best_profit_baseline\n",
    "print(f\"Profit Improvement from Tuning = ${improvement:.0f}\")"
   ]
  },
  {
   "cell_type": "markdown",
   "id": "2b3dd30f",
   "metadata": {},
   "source": [
    "# Compare and Log Tuned XGB + SMOTE Model"
   ]
  },
  {
   "cell_type": "code",
   "execution_count": 8,
   "id": "8c51b30e",
   "metadata": {},
   "outputs": [
    {
     "name": "stdout",
     "output_type": "stream",
     "text": [
      "\n",
      "Confusion Matrix - Baseline:\n",
      "[[56834    30]\n",
      " [   14    84]]\n",
      "\n",
      "Classification Report - Baseline:\n",
      "              precision    recall  f1-score   support\n",
      "\n",
      "           0       1.00      1.00      1.00     56864\n",
      "           1       0.74      0.86      0.79        98\n",
      "\n",
      "    accuracy                           1.00     56962\n",
      "   macro avg       0.87      0.93      0.90     56962\n",
      "weighted avg       1.00      1.00      1.00     56962\n",
      "\n",
      "\n",
      "Confusion Matrix - Tuned:\n",
      "[[56860     4]\n",
      " [   20    78]]\n",
      "\n",
      "Classification Report - Tuned:\n",
      "              precision    recall  f1-score   support\n",
      "\n",
      "           0       1.00      1.00      1.00     56864\n",
      "           1       0.95      0.80      0.87        98\n",
      "\n",
      "    accuracy                           1.00     56962\n",
      "   macro avg       0.98      0.90      0.93     56962\n",
      "weighted avg       1.00      1.00      1.00     56962\n",
      "\n"
     ]
    },
    {
     "name": "stderr",
     "output_type": "stream",
     "text": [
      "2025/05/27 23:27:45 WARNING mlflow.models.model: Model logged without a signature and input example. Please set `input_example` parameter when logging the model to auto infer the model signature.\n",
      "Successfully registered model 'Final XGB + SMOTE Tuned Model'.\n",
      "Created version '1' of model 'Final XGB + SMOTE Tuned Model'.\n"
     ]
    }
   ],
   "source": [
    "y_pred_base = xgb_smote_baseline_model.predict(X_test)\n",
    "y_proba_base = xgb_smote_baseline_model.predict_proba(X_test)[:, 1]\n",
    "\n",
    "y_pred_tuned = final_xgb_smote_model.predict(X_test)\n",
    "y_proba_tuned = final_xgb_smote_model.predict_proba(X_test)[:, 1]\n",
    "\n",
    "print(\"\\nConfusion Matrix - Baseline:\")\n",
    "print(confusion_matrix(Y_test, y_pred_base))\n",
    "print(\"\\nClassification Report - Baseline:\")\n",
    "print(classification_report(Y_test, y_pred_base))\n",
    "\n",
    "print(\"\\nConfusion Matrix - Tuned:\")\n",
    "print(confusion_matrix(Y_test, y_pred_tuned))\n",
    "print(\"\\nClassification Report - Tuned:\")\n",
    "print(classification_report(Y_test, y_pred_tuned))\n",
    "\n",
    "metrics = {\n",
    "\"roc_auc\": roc_auc_score(Y_test, y_proba_tuned),\n",
    "\"average_precision\": average_precision_score(Y_test, y_proba_tuned),\n",
    "\"f1\": f1_score(Y_test, y_pred_tuned),\n",
    "\"recall\": recall_score(Y_test, y_pred_tuned),\n",
    "\"precision\": precision_score(Y_test, y_pred_tuned)\n",
    "}\n",
    "\n",
    "confusion_matrix_path = \"confusion_matrix.txt\"\n",
    "classification_report_path = \"classification_report.txt\"\n",
    "with open(confusion_matrix_path, \"w\") as f:\n",
    "    f.write(f\"Confusion Matrix:\\n{confusion_matrix(Y_test, y_pred_tuned)}\")\n",
    "with open(classification_report_path, \"w\") as f:\n",
    "    f.write(f\"Classification Report:\\n{classification_report(Y_test, y_pred_tuned)}\")\n",
    "\n",
    "model_name = \"Final XGB + SMOTE Tuned Model\"\n",
    "local_model_dir = os.path.abspath(\"../models\")\n",
    "os.makedirs(local_model_dir, exist_ok=True)\n",
    "local_model_path = os.path.join(local_model_dir, f\"{model_name}.pkl\")\n",
    "with open(local_model_path, \"wb\") as f:\n",
    "    pickle.dump(final_xgb_smote_model, f)\n",
    "\n",
    "mlflow_model_path = f\"{model_name}.pkl\"\n",
    "with open(mlflow_model_path, \"wb\") as f:\n",
    "    pickle.dump(final_xgb_smote_model, f)\n",
    "\n",
    "with mlflow.start_run(run_name=model_name):\n",
    "    mlflow.log_metrics(metrics)\n",
    "    mlflow.log_artifact(confusion_matrix_path)\n",
    "    mlflow.log_artifact(classification_report_path)\n",
    "    mlflow.log_artifact(mlflow_model_path)\n",
    "\n",
    "    mlflow.sklearn.log_model(final_xgb_smote_model, artifact_path=\"model\", registered_model_name=model_name)\n",
    "mlflow.end_run()\n",
    "\n",
    "os.remove(confusion_matrix_path)\n",
    "os.remove(classification_report_path)\n",
    "os.remove(mlflow_model_path)"
   ]
  },
  {
   "cell_type": "markdown",
   "id": "af5d6117",
   "metadata": {},
   "source": [
    "# Stage Tuned XGBoost + SMOTE Model"
   ]
  },
  {
   "cell_type": "code",
   "execution_count": 9,
   "id": "b6f49dc5",
   "metadata": {},
   "outputs": [
    {
     "name": "stderr",
     "output_type": "stream",
     "text": [
      "C:\\Users\\raira\\AppData\\Local\\Temp\\ipykernel_34924\\1350366918.py:2: FutureWarning:\n",
      "\n",
      "``mlflow.tracking.client.MlflowClient.get_latest_versions`` is deprecated since 2.9.0. Model registry stages will be removed in a future major release. To learn more about the deprecation of model registry stages, see our migration guide here: https://mlflow.org/docs/latest/model-registry.html#migrating-from-stages\n",
      "\n"
     ]
    },
    {
     "name": "stdout",
     "output_type": "stream",
     "text": [
      "Pushed Final XGB + SMOTE Tuned Model version 1 to Staging.\n"
     ]
    },
    {
     "name": "stderr",
     "output_type": "stream",
     "text": [
      "C:\\Users\\raira\\AppData\\Local\\Temp\\ipykernel_34924\\1350366918.py:3: FutureWarning:\n",
      "\n",
      "``mlflow.tracking.client.MlflowClient.transition_model_version_stage`` is deprecated since 2.9.0. Model registry stages will be removed in a future major release. To learn more about the deprecation of model registry stages, see our migration guide here: https://mlflow.org/docs/latest/model-registry.html#migrating-from-stages\n",
      "\n"
     ]
    }
   ],
   "source": [
    "client = MlflowClient()\n",
    "latest_version = client.get_latest_versions(model_name, stages=[\"None\"])[0].version\n",
    "client.transition_model_version_stage(\n",
    "name=model_name,\n",
    "version=latest_version,\n",
    "stage=\"Staging\",\n",
    "archive_existing_versions=True\n",
    ")\n",
    "print(f\"Pushed {model_name} version {latest_version} to Staging.\")"
   ]
  },
  {
   "cell_type": "markdown",
   "id": "a10e681b",
   "metadata": {},
   "source": [
    "# Hyperparameter Tuning (XGB + SMOTE) Insights"
   ]
  },
  {
   "cell_type": "markdown",
   "id": "ad285ab2",
   "metadata": {},
   "source": [
    "**Goal:** \n",
    "Optimize XGBoost + SMOTE using business-aligned profit as the objective under a 25% FN-penalty, where false negatives are moderately costly.\n",
    "\n",
    "**Approach**\n",
    "- Applied Optuna with Bayesian optimization (`TPESampler`) to tune hyperparameters via stratified 5-fold CV.\n",
    "- SMOTE oversampling performed inside each CV fold to avoid data leakage.\n",
    "- Evaluated tuned model on test set by scanning thresholds (0 → 1) to identify profit-maximizing decision point.\n",
    "- Compared against previously saved XGBoost + SMOTE baseline from MLflow.\n",
    "\n",
    "**Key Results**\n",
    "- Tuned Optimal Threshold (25% FN Penalty): **0.030**\n",
    "- Max Profit (Tuned): **\\$577**\n",
    "- Baseline Profit (25% FN Penalty): **\\$538**\n",
    "- Improvement from Tuning: **\\$39 gain per 56k transactions**\n",
    "\n",
    "**Model Evaluation**\n",
    "- Tuned model reduced false positives by over 85% (from 30 → 4) while maintaining high recall.\n",
    "- Precision, F1, and macro-averaged metrics improved, indicating better balance.\n",
    "- Confusion matrix and classification report confirm stronger fraud detection with fewer incorrect alerts.\n",
    "\n",
    "**MLOps**\n",
    "- Tuned model saved locally and logged via MLflow.\n",
    "- Metrics, confusion matrix, and classification report were tracked as artifacts.\n",
    "- Final model registered and promoted to **Staging** in MLflow Model Registry."
   ]
  }
 ],
 "metadata": {
  "kernelspec": {
   "display_name": "Python 3",
   "language": "python",
   "name": "python3"
  },
  "language_info": {
   "codemirror_mode": {
    "name": "ipython",
    "version": 3
   },
   "file_extension": ".py",
   "mimetype": "text/x-python",
   "name": "python",
   "nbconvert_exporter": "python",
   "pygments_lexer": "ipython3",
   "version": "3.12.6"
  }
 },
 "nbformat": 4,
 "nbformat_minor": 5
}
